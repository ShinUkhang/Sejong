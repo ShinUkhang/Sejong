{
  "nbformat": 4,
  "nbformat_minor": 0,
  "metadata": {
    "colab": {
      "name": "중간고사 과제(20300521).ipynb",
      "provenance": [],
      "collapsed_sections": []
    },
    "kernelspec": {
      "name": "python3",
      "display_name": "Python 3"
    },
    "language_info": {
      "name": "python"
    }
  },
  "cells": [
    {
      "cell_type": "markdown",
      "metadata": {
        "id": "nLjW4TKqE1dG"
      },
      "source": [
        "#자율과제(지난번 내주신)"
      ]
    },
    {
      "cell_type": "code",
      "metadata": {
        "colab": {
          "resources": {
            "http://localhost:8080/nbextensions/google.colab/files.js": {
              "data": "Ly8gQ29weXJpZ2h0IDIwMTcgR29vZ2xlIExMQwovLwovLyBMaWNlbnNlZCB1bmRlciB0aGUgQXBhY2hlIExpY2Vuc2UsIFZlcnNpb24gMi4wICh0aGUgIkxpY2Vuc2UiKTsKLy8geW91IG1heSBub3QgdXNlIHRoaXMgZmlsZSBleGNlcHQgaW4gY29tcGxpYW5jZSB3aXRoIHRoZSBMaWNlbnNlLgovLyBZb3UgbWF5IG9idGFpbiBhIGNvcHkgb2YgdGhlIExpY2Vuc2UgYXQKLy8KLy8gICAgICBodHRwOi8vd3d3LmFwYWNoZS5vcmcvbGljZW5zZXMvTElDRU5TRS0yLjAKLy8KLy8gVW5sZXNzIHJlcXVpcmVkIGJ5IGFwcGxpY2FibGUgbGF3IG9yIGFncmVlZCB0byBpbiB3cml0aW5nLCBzb2Z0d2FyZQovLyBkaXN0cmlidXRlZCB1bmRlciB0aGUgTGljZW5zZSBpcyBkaXN0cmlidXRlZCBvbiBhbiAiQVMgSVMiIEJBU0lTLAovLyBXSVRIT1VUIFdBUlJBTlRJRVMgT1IgQ09ORElUSU9OUyBPRiBBTlkgS0lORCwgZWl0aGVyIGV4cHJlc3Mgb3IgaW1wbGllZC4KLy8gU2VlIHRoZSBMaWNlbnNlIGZvciB0aGUgc3BlY2lmaWMgbGFuZ3VhZ2UgZ292ZXJuaW5nIHBlcm1pc3Npb25zIGFuZAovLyBsaW1pdGF0aW9ucyB1bmRlciB0aGUgTGljZW5zZS4KCi8qKgogKiBAZmlsZW92ZXJ2aWV3IEhlbHBlcnMgZm9yIGdvb2dsZS5jb2xhYiBQeXRob24gbW9kdWxlLgogKi8KKGZ1bmN0aW9uKHNjb3BlKSB7CmZ1bmN0aW9uIHNwYW4odGV4dCwgc3R5bGVBdHRyaWJ1dGVzID0ge30pIHsKICBjb25zdCBlbGVtZW50ID0gZG9jdW1lbnQuY3JlYXRlRWxlbWVudCgnc3BhbicpOwogIGVsZW1lbnQudGV4dENvbnRlbnQgPSB0ZXh0OwogIGZvciAoY29uc3Qga2V5IG9mIE9iamVjdC5rZXlzKHN0eWxlQXR0cmlidXRlcykpIHsKICAgIGVsZW1lbnQuc3R5bGVba2V5XSA9IHN0eWxlQXR0cmlidXRlc1trZXldOwogIH0KICByZXR1cm4gZWxlbWVudDsKfQoKLy8gTWF4IG51bWJlciBvZiBieXRlcyB3aGljaCB3aWxsIGJlIHVwbG9hZGVkIGF0IGEgdGltZS4KY29uc3QgTUFYX1BBWUxPQURfU0laRSA9IDEwMCAqIDEwMjQ7CgpmdW5jdGlvbiBfdXBsb2FkRmlsZXMoaW5wdXRJZCwgb3V0cHV0SWQpIHsKICBjb25zdCBzdGVwcyA9IHVwbG9hZEZpbGVzU3RlcChpbnB1dElkLCBvdXRwdXRJZCk7CiAgY29uc3Qgb3V0cHV0RWxlbWVudCA9IGRvY3VtZW50LmdldEVsZW1lbnRCeUlkKG91dHB1dElkKTsKICAvLyBDYWNoZSBzdGVwcyBvbiB0aGUgb3V0cHV0RWxlbWVudCB0byBtYWtlIGl0IGF2YWlsYWJsZSBmb3IgdGhlIG5leHQgY2FsbAogIC8vIHRvIHVwbG9hZEZpbGVzQ29udGludWUgZnJvbSBQeXRob24uCiAgb3V0cHV0RWxlbWVudC5zdGVwcyA9IHN0ZXBzOwoKICByZXR1cm4gX3VwbG9hZEZpbGVzQ29udGludWUob3V0cHV0SWQpOwp9CgovLyBUaGlzIGlzIHJvdWdobHkgYW4gYXN5bmMgZ2VuZXJhdG9yIChub3Qgc3VwcG9ydGVkIGluIHRoZSBicm93c2VyIHlldCksCi8vIHdoZXJlIHRoZXJlIGFyZSBtdWx0aXBsZSBhc3luY2hyb25vdXMgc3RlcHMgYW5kIHRoZSBQeXRob24gc2lkZSBpcyBnb2luZwovLyB0byBwb2xsIGZvciBjb21wbGV0aW9uIG9mIGVhY2ggc3RlcC4KLy8gVGhpcyB1c2VzIGEgUHJvbWlzZSB0byBibG9jayB0aGUgcHl0aG9uIHNpZGUgb24gY29tcGxldGlvbiBvZiBlYWNoIHN0ZXAsCi8vIHRoZW4gcGFzc2VzIHRoZSByZXN1bHQgb2YgdGhlIHByZXZpb3VzIHN0ZXAgYXMgdGhlIGlucHV0IHRvIHRoZSBuZXh0IHN0ZXAuCmZ1bmN0aW9uIF91cGxvYWRGaWxlc0NvbnRpbnVlKG91dHB1dElkKSB7CiAgY29uc3Qgb3V0cHV0RWxlbWVudCA9IGRvY3VtZW50LmdldEVsZW1lbnRCeUlkKG91dHB1dElkKTsKICBjb25zdCBzdGVwcyA9IG91dHB1dEVsZW1lbnQuc3RlcHM7CgogIGNvbnN0IG5leHQgPSBzdGVwcy5uZXh0KG91dHB1dEVsZW1lbnQubGFzdFByb21pc2VWYWx1ZSk7CiAgcmV0dXJuIFByb21pc2UucmVzb2x2ZShuZXh0LnZhbHVlLnByb21pc2UpLnRoZW4oKHZhbHVlKSA9PiB7CiAgICAvLyBDYWNoZSB0aGUgbGFzdCBwcm9taXNlIHZhbHVlIHRvIG1ha2UgaXQgYXZhaWxhYmxlIHRvIHRoZSBuZXh0CiAgICAvLyBzdGVwIG9mIHRoZSBnZW5lcmF0b3IuCiAgICBvdXRwdXRFbGVtZW50Lmxhc3RQcm9taXNlVmFsdWUgPSB2YWx1ZTsKICAgIHJldHVybiBuZXh0LnZhbHVlLnJlc3BvbnNlOwogIH0pOwp9CgovKioKICogR2VuZXJhdG9yIGZ1bmN0aW9uIHdoaWNoIGlzIGNhbGxlZCBiZXR3ZWVuIGVhY2ggYXN5bmMgc3RlcCBvZiB0aGUgdXBsb2FkCiAqIHByb2Nlc3MuCiAqIEBwYXJhbSB7c3RyaW5nfSBpbnB1dElkIEVsZW1lbnQgSUQgb2YgdGhlIGlucHV0IGZpbGUgcGlja2VyIGVsZW1lbnQuCiAqIEBwYXJhbSB7c3RyaW5nfSBvdXRwdXRJZCBFbGVtZW50IElEIG9mIHRoZSBvdXRwdXQgZGlzcGxheS4KICogQHJldHVybiB7IUl0ZXJhYmxlPCFPYmplY3Q+fSBJdGVyYWJsZSBvZiBuZXh0IHN0ZXBzLgogKi8KZnVuY3Rpb24qIHVwbG9hZEZpbGVzU3RlcChpbnB1dElkLCBvdXRwdXRJZCkgewogIGNvbnN0IGlucHV0RWxlbWVudCA9IGRvY3VtZW50LmdldEVsZW1lbnRCeUlkKGlucHV0SWQpOwogIGlucHV0RWxlbWVudC5kaXNhYmxlZCA9IGZhbHNlOwoKICBjb25zdCBvdXRwdXRFbGVtZW50ID0gZG9jdW1lbnQuZ2V0RWxlbWVudEJ5SWQob3V0cHV0SWQpOwogIG91dHB1dEVsZW1lbnQuaW5uZXJIVE1MID0gJyc7CgogIGNvbnN0IHBpY2tlZFByb21pc2UgPSBuZXcgUHJvbWlzZSgocmVzb2x2ZSkgPT4gewogICAgaW5wdXRFbGVtZW50LmFkZEV2ZW50TGlzdGVuZXIoJ2NoYW5nZScsIChlKSA9PiB7CiAgICAgIHJlc29sdmUoZS50YXJnZXQuZmlsZXMpOwogICAgfSk7CiAgfSk7CgogIGNvbnN0IGNhbmNlbCA9IGRvY3VtZW50LmNyZWF0ZUVsZW1lbnQoJ2J1dHRvbicpOwogIGlucHV0RWxlbWVudC5wYXJlbnRFbGVtZW50LmFwcGVuZENoaWxkKGNhbmNlbCk7CiAgY2FuY2VsLnRleHRDb250ZW50ID0gJ0NhbmNlbCB1cGxvYWQnOwogIGNvbnN0IGNhbmNlbFByb21pc2UgPSBuZXcgUHJvbWlzZSgocmVzb2x2ZSkgPT4gewogICAgY2FuY2VsLm9uY2xpY2sgPSAoKSA9PiB7CiAgICAgIHJlc29sdmUobnVsbCk7CiAgICB9OwogIH0pOwoKICAvLyBXYWl0IGZvciB0aGUgdXNlciB0byBwaWNrIHRoZSBmaWxlcy4KICBjb25zdCBmaWxlcyA9IHlpZWxkIHsKICAgIHByb21pc2U6IFByb21pc2UucmFjZShbcGlja2VkUHJvbWlzZSwgY2FuY2VsUHJvbWlzZV0pLAogICAgcmVzcG9uc2U6IHsKICAgICAgYWN0aW9uOiAnc3RhcnRpbmcnLAogICAgfQogIH07CgogIGNhbmNlbC5yZW1vdmUoKTsKCiAgLy8gRGlzYWJsZSB0aGUgaW5wdXQgZWxlbWVudCBzaW5jZSBmdXJ0aGVyIHBpY2tzIGFyZSBub3QgYWxsb3dlZC4KICBpbnB1dEVsZW1lbnQuZGlzYWJsZWQgPSB0cnVlOwoKICBpZiAoIWZpbGVzKSB7CiAgICByZXR1cm4gewogICAgICByZXNwb25zZTogewogICAgICAgIGFjdGlvbjogJ2NvbXBsZXRlJywKICAgICAgfQogICAgfTsKICB9CgogIGZvciAoY29uc3QgZmlsZSBvZiBmaWxlcykgewogICAgY29uc3QgbGkgPSBkb2N1bWVudC5jcmVhdGVFbGVtZW50KCdsaScpOwogICAgbGkuYXBwZW5kKHNwYW4oZmlsZS5uYW1lLCB7Zm9udFdlaWdodDogJ2JvbGQnfSkpOwogICAgbGkuYXBwZW5kKHNwYW4oCiAgICAgICAgYCgke2ZpbGUudHlwZSB8fCAnbi9hJ30pIC0gJHtmaWxlLnNpemV9IGJ5dGVzLCBgICsKICAgICAgICBgbGFzdCBtb2RpZmllZDogJHsKICAgICAgICAgICAgZmlsZS5sYXN0TW9kaWZpZWREYXRlID8gZmlsZS5sYXN0TW9kaWZpZWREYXRlLnRvTG9jYWxlRGF0ZVN0cmluZygpIDoKICAgICAgICAgICAgICAgICAgICAgICAgICAgICAgICAgICAgJ24vYSd9IC0gYCkpOwogICAgY29uc3QgcGVyY2VudCA9IHNwYW4oJzAlIGRvbmUnKTsKICAgIGxpLmFwcGVuZENoaWxkKHBlcmNlbnQpOwoKICAgIG91dHB1dEVsZW1lbnQuYXBwZW5kQ2hpbGQobGkpOwoKICAgIGNvbnN0IGZpbGVEYXRhUHJvbWlzZSA9IG5ldyBQcm9taXNlKChyZXNvbHZlKSA9PiB7CiAgICAgIGNvbnN0IHJlYWRlciA9IG5ldyBGaWxlUmVhZGVyKCk7CiAgICAgIHJlYWRlci5vbmxvYWQgPSAoZSkgPT4gewogICAgICAgIHJlc29sdmUoZS50YXJnZXQucmVzdWx0KTsKICAgICAgfTsKICAgICAgcmVhZGVyLnJlYWRBc0FycmF5QnVmZmVyKGZpbGUpOwogICAgfSk7CiAgICAvLyBXYWl0IGZvciB0aGUgZGF0YSB0byBiZSByZWFkeS4KICAgIGxldCBmaWxlRGF0YSA9IHlpZWxkIHsKICAgICAgcHJvbWlzZTogZmlsZURhdGFQcm9taXNlLAogICAgICByZXNwb25zZTogewogICAgICAgIGFjdGlvbjogJ2NvbnRpbnVlJywKICAgICAgfQogICAgfTsKCiAgICAvLyBVc2UgYSBjaHVua2VkIHNlbmRpbmcgdG8gYXZvaWQgbWVzc2FnZSBzaXplIGxpbWl0cy4gU2VlIGIvNjIxMTU2NjAuCiAgICBsZXQgcG9zaXRpb24gPSAwOwogICAgZG8gewogICAgICBjb25zdCBsZW5ndGggPSBNYXRoLm1pbihmaWxlRGF0YS5ieXRlTGVuZ3RoIC0gcG9zaXRpb24sIE1BWF9QQVlMT0FEX1NJWkUpOwogICAgICBjb25zdCBjaHVuayA9IG5ldyBVaW50OEFycmF5KGZpbGVEYXRhLCBwb3NpdGlvbiwgbGVuZ3RoKTsKICAgICAgcG9zaXRpb24gKz0gbGVuZ3RoOwoKICAgICAgY29uc3QgYmFzZTY0ID0gYnRvYShTdHJpbmcuZnJvbUNoYXJDb2RlLmFwcGx5KG51bGwsIGNodW5rKSk7CiAgICAgIHlpZWxkIHsKICAgICAgICByZXNwb25zZTogewogICAgICAgICAgYWN0aW9uOiAnYXBwZW5kJywKICAgICAgICAgIGZpbGU6IGZpbGUubmFtZSwKICAgICAgICAgIGRhdGE6IGJhc2U2NCwKICAgICAgICB9LAogICAgICB9OwoKICAgICAgbGV0IHBlcmNlbnREb25lID0gZmlsZURhdGEuYnl0ZUxlbmd0aCA9PT0gMCA/CiAgICAgICAgICAxMDAgOgogICAgICAgICAgTWF0aC5yb3VuZCgocG9zaXRpb24gLyBmaWxlRGF0YS5ieXRlTGVuZ3RoKSAqIDEwMCk7CiAgICAgIHBlcmNlbnQudGV4dENvbnRlbnQgPSBgJHtwZXJjZW50RG9uZX0lIGRvbmVgOwoKICAgIH0gd2hpbGUgKHBvc2l0aW9uIDwgZmlsZURhdGEuYnl0ZUxlbmd0aCk7CiAgfQoKICAvLyBBbGwgZG9uZS4KICB5aWVsZCB7CiAgICByZXNwb25zZTogewogICAgICBhY3Rpb246ICdjb21wbGV0ZScsCiAgICB9CiAgfTsKfQoKc2NvcGUuZ29vZ2xlID0gc2NvcGUuZ29vZ2xlIHx8IHt9OwpzY29wZS5nb29nbGUuY29sYWIgPSBzY29wZS5nb29nbGUuY29sYWIgfHwge307CnNjb3BlLmdvb2dsZS5jb2xhYi5fZmlsZXMgPSB7CiAgX3VwbG9hZEZpbGVzLAogIF91cGxvYWRGaWxlc0NvbnRpbnVlLAp9Owp9KShzZWxmKTsK",
              "ok": true,
              "headers": [
                [
                  "content-type",
                  "application/javascript"
                ]
              ],
              "status": 200,
              "status_text": ""
            }
          },
          "base_uri": "https://localhost:8080/",
          "height": 77
        },
        "id": "dI-BY1EkHK2U",
        "outputId": "a3a996d4-7453-439e-ca90-cd93fef3e1bc"
      },
      "source": [
        "from google.colab import files\n",
        "uploaded=files.upload()"
      ],
      "execution_count": null,
      "outputs": [
        {
          "output_type": "display_data",
          "data": {
            "text/html": [
              "\n",
              "     <input type=\"file\" id=\"files-a297821c-5f37-4c90-92bd-30fc99b079cb\" name=\"files[]\" multiple disabled\n",
              "        style=\"border:none\" />\n",
              "     <output id=\"result-a297821c-5f37-4c90-92bd-30fc99b079cb\">\n",
              "      Upload widget is only available when the cell has been executed in the\n",
              "      current browser session. Please rerun this cell to enable.\n",
              "      </output>\n",
              "      <script src=\"/nbextensions/google.colab/files.js\"></script> "
            ],
            "text/plain": [
              "<IPython.core.display.HTML object>"
            ]
          },
          "metadata": {}
        },
        {
          "output_type": "stream",
          "name": "stdout",
          "text": [
            "Saving drinks(2).csv to drinks(2).csv\n"
          ]
        }
      ]
    },
    {
      "cell_type": "code",
      "metadata": {
        "id": "QopF2yloHZ0r"
      },
      "source": [
        "import pandas as pd\n",
        "file=open('drinks(2).csv')\n",
        "drinks=pd.read_csv(file)"
      ],
      "execution_count": null,
      "outputs": []
    },
    {
      "cell_type": "code",
      "metadata": {
        "id": "2rQv_QQwttbx",
        "colab": {
          "base_uri": "https://localhost:8080/",
          "height": 206
        },
        "outputId": "cad0edff-3914-4be3-93e6-4260347380b8"
      },
      "source": [
        "drinks.head()"
      ],
      "execution_count": null,
      "outputs": [
        {
          "output_type": "execute_result",
          "data": {
            "text/html": [
              "<div>\n",
              "<style scoped>\n",
              "    .dataframe tbody tr th:only-of-type {\n",
              "        vertical-align: middle;\n",
              "    }\n",
              "\n",
              "    .dataframe tbody tr th {\n",
              "        vertical-align: top;\n",
              "    }\n",
              "\n",
              "    .dataframe thead th {\n",
              "        text-align: right;\n",
              "    }\n",
              "</style>\n",
              "<table border=\"1\" class=\"dataframe\">\n",
              "  <thead>\n",
              "    <tr style=\"text-align: right;\">\n",
              "      <th></th>\n",
              "      <th>country</th>\n",
              "      <th>beer_servings</th>\n",
              "      <th>spirit_servings</th>\n",
              "      <th>wine_servings</th>\n",
              "      <th>total_litres_of_pure_alcohol</th>\n",
              "      <th>continent</th>\n",
              "    </tr>\n",
              "  </thead>\n",
              "  <tbody>\n",
              "    <tr>\n",
              "      <th>0</th>\n",
              "      <td>Afghanistan</td>\n",
              "      <td>0</td>\n",
              "      <td>0</td>\n",
              "      <td>0</td>\n",
              "      <td>0.0</td>\n",
              "      <td>AS</td>\n",
              "    </tr>\n",
              "    <tr>\n",
              "      <th>1</th>\n",
              "      <td>Albania</td>\n",
              "      <td>89</td>\n",
              "      <td>132</td>\n",
              "      <td>54</td>\n",
              "      <td>4.9</td>\n",
              "      <td>EU</td>\n",
              "    </tr>\n",
              "    <tr>\n",
              "      <th>2</th>\n",
              "      <td>Algeria</td>\n",
              "      <td>25</td>\n",
              "      <td>0</td>\n",
              "      <td>14</td>\n",
              "      <td>0.7</td>\n",
              "      <td>AF</td>\n",
              "    </tr>\n",
              "    <tr>\n",
              "      <th>3</th>\n",
              "      <td>Andorra</td>\n",
              "      <td>245</td>\n",
              "      <td>138</td>\n",
              "      <td>312</td>\n",
              "      <td>12.4</td>\n",
              "      <td>EU</td>\n",
              "    </tr>\n",
              "    <tr>\n",
              "      <th>4</th>\n",
              "      <td>Angola</td>\n",
              "      <td>217</td>\n",
              "      <td>57</td>\n",
              "      <td>45</td>\n",
              "      <td>5.9</td>\n",
              "      <td>AF</td>\n",
              "    </tr>\n",
              "  </tbody>\n",
              "</table>\n",
              "</div>"
            ],
            "text/plain": [
              "       country  beer_servings  ...  total_litres_of_pure_alcohol  continent\n",
              "0  Afghanistan              0  ...                           0.0         AS\n",
              "1      Albania             89  ...                           4.9         EU\n",
              "2      Algeria             25  ...                           0.7         AF\n",
              "3      Andorra            245  ...                          12.4         EU\n",
              "4       Angola            217  ...                           5.9         AF\n",
              "\n",
              "[5 rows x 6 columns]"
            ]
          },
          "metadata": {},
          "execution_count": 3
        }
      ]
    },
    {
      "cell_type": "markdown",
      "metadata": {
        "id": "8T8hg0uoHaBQ"
      },
      "source": [
        "1. total_servings를 출력"
      ]
    },
    {
      "cell_type": "code",
      "metadata": {
        "colab": {
          "base_uri": "https://localhost:8080/",
          "height": 206
        },
        "id": "Zx9is09zHaKU",
        "outputId": "1cbb3410-5971-4263-e275-63b18ca9a4f5"
      },
      "source": [
        "drinks['total_servings']=drinks['beer_servings']+drinks['spirit_servings']+drinks['wine_servings']\n",
        "drinks.head()"
      ],
      "execution_count": null,
      "outputs": [
        {
          "output_type": "execute_result",
          "data": {
            "text/html": [
              "<div>\n",
              "<style scoped>\n",
              "    .dataframe tbody tr th:only-of-type {\n",
              "        vertical-align: middle;\n",
              "    }\n",
              "\n",
              "    .dataframe tbody tr th {\n",
              "        vertical-align: top;\n",
              "    }\n",
              "\n",
              "    .dataframe thead th {\n",
              "        text-align: right;\n",
              "    }\n",
              "</style>\n",
              "<table border=\"1\" class=\"dataframe\">\n",
              "  <thead>\n",
              "    <tr style=\"text-align: right;\">\n",
              "      <th></th>\n",
              "      <th>country</th>\n",
              "      <th>beer_servings</th>\n",
              "      <th>spirit_servings</th>\n",
              "      <th>wine_servings</th>\n",
              "      <th>total_litres_of_pure_alcohol</th>\n",
              "      <th>continent</th>\n",
              "      <th>total_servings</th>\n",
              "    </tr>\n",
              "  </thead>\n",
              "  <tbody>\n",
              "    <tr>\n",
              "      <th>0</th>\n",
              "      <td>Afghanistan</td>\n",
              "      <td>0</td>\n",
              "      <td>0</td>\n",
              "      <td>0</td>\n",
              "      <td>0.0</td>\n",
              "      <td>AS</td>\n",
              "      <td>0</td>\n",
              "    </tr>\n",
              "    <tr>\n",
              "      <th>1</th>\n",
              "      <td>Albania</td>\n",
              "      <td>89</td>\n",
              "      <td>132</td>\n",
              "      <td>54</td>\n",
              "      <td>4.9</td>\n",
              "      <td>EU</td>\n",
              "      <td>275</td>\n",
              "    </tr>\n",
              "    <tr>\n",
              "      <th>2</th>\n",
              "      <td>Algeria</td>\n",
              "      <td>25</td>\n",
              "      <td>0</td>\n",
              "      <td>14</td>\n",
              "      <td>0.7</td>\n",
              "      <td>AF</td>\n",
              "      <td>39</td>\n",
              "    </tr>\n",
              "    <tr>\n",
              "      <th>3</th>\n",
              "      <td>Andorra</td>\n",
              "      <td>245</td>\n",
              "      <td>138</td>\n",
              "      <td>312</td>\n",
              "      <td>12.4</td>\n",
              "      <td>EU</td>\n",
              "      <td>695</td>\n",
              "    </tr>\n",
              "    <tr>\n",
              "      <th>4</th>\n",
              "      <td>Angola</td>\n",
              "      <td>217</td>\n",
              "      <td>57</td>\n",
              "      <td>45</td>\n",
              "      <td>5.9</td>\n",
              "      <td>AF</td>\n",
              "      <td>319</td>\n",
              "    </tr>\n",
              "  </tbody>\n",
              "</table>\n",
              "</div>"
            ],
            "text/plain": [
              "       country  beer_servings  ...  continent  total_servings\n",
              "0  Afghanistan              0  ...         AS               0\n",
              "1      Albania             89  ...         EU             275\n",
              "2      Algeria             25  ...         AF              39\n",
              "3      Andorra            245  ...         EU             695\n",
              "4       Angola            217  ...         AF             319\n",
              "\n",
              "[5 rows x 7 columns]"
            ]
          },
          "metadata": {},
          "execution_count": 4
        }
      ]
    },
    {
      "cell_type": "code",
      "metadata": {
        "colab": {
          "base_uri": "https://localhost:8080/"
        },
        "id": "cAskVOrtHaUs",
        "outputId": "9295c71c-2f36-4130-bc92-6c73ac0f5366"
      },
      "source": [
        "drinks['continent']=drinks['continent'].fillna('etc')\n",
        "drinks.info()"
      ],
      "execution_count": null,
      "outputs": [
        {
          "output_type": "stream",
          "name": "stdout",
          "text": [
            "<class 'pandas.core.frame.DataFrame'>\n",
            "RangeIndex: 193 entries, 0 to 192\n",
            "Data columns (total 7 columns):\n",
            " #   Column                        Non-Null Count  Dtype  \n",
            "---  ------                        --------------  -----  \n",
            " 0   country                       193 non-null    object \n",
            " 1   beer_servings                 193 non-null    int64  \n",
            " 2   spirit_servings               193 non-null    int64  \n",
            " 3   wine_servings                 193 non-null    int64  \n",
            " 4   total_litres_of_pure_alcohol  193 non-null    float64\n",
            " 5   continent                     193 non-null    object \n",
            " 6   total_servings                193 non-null    int64  \n",
            "dtypes: float64(1), int64(4), object(2)\n",
            "memory usage: 10.7+ KB\n"
          ]
        }
      ]
    },
    {
      "cell_type": "code",
      "metadata": {
        "id": "i5RHJWd9Haef"
      },
      "source": [
        "total_mean=drinks.total_servings.mean()\n",
        "total_mean\n",
        "total_con_mean=drinks.groupby('continent').total_servings.mean()\n",
        "spirit_con_mean=drinks.groupby('continent').spirit_servings.mean()\n",
        "spirit_mean=drinks.spirit_servings.mean()\n"
      ],
      "execution_count": null,
      "outputs": []
    },
    {
      "cell_type": "code",
      "metadata": {
        "colab": {
          "base_uri": "https://localhost:8080/",
          "height": 35
        },
        "id": "fiD19tO_jYXO",
        "outputId": "4c503b4a-d086-46cc-f9c0-2f4274444ddd"
      },
      "source": [
        "con_mean=drinks.groupby('continent').mean() #대륙별 그룹화\n",
        "con_mean\n",
        "\n",
        "result=con_mean[con_mean['total_servings']< total_mean]\n",
        "result.sort_values(by='spirit_servings', ascending=0).index[0]"
      ],
      "execution_count": null,
      "outputs": [
        {
          "output_type": "execute_result",
          "data": {
            "application/vnd.google.colaboratory.intrinsic+json": {
              "type": "string"
            },
            "text/plain": [
              "'AS'"
            ]
          },
          "metadata": {},
          "execution_count": 16
        }
      ]
    },
    {
      "cell_type": "markdown",
      "metadata": {
        "id": "kQOZTg1RX87N"
      },
      "source": [
        "2. 전체 알코올 평균 섭취량보다 적은 알코올을 섭취하는 대륙"
      ]
    },
    {
      "cell_type": "code",
      "metadata": {
        "id": "YOtuoMOGtT15"
      },
      "source": [
        "low_drink_con=total_con_mean[total_con_mean<total_mean]"
      ],
      "execution_count": null,
      "outputs": []
    },
    {
      "cell_type": "code",
      "metadata": {
        "id": "keTE5gcmYTht",
        "colab": {
          "base_uri": "https://localhost:8080/"
        },
        "outputId": "03e55e67-edc2-44ce-c849-02bf20bf4b6e"
      },
      "source": [
        "low_drink_con"
      ],
      "execution_count": null,
      "outputs": [
        {
          "output_type": "execute_result",
          "data": {
            "text/plain": [
              "continent\n",
              "AF     94.075472\n",
              "AS    106.954545\n",
              "OC    183.750000\n",
              "Name: total_servings, dtype: float64"
            ]
          },
          "metadata": {},
          "execution_count": 13
        }
      ]
    },
    {
      "cell_type": "markdown",
      "metadata": {
        "id": "Rva6_sNUHan0"
      },
      "source": [
        "3.  2번 중에서 **‘spirit’을** 가장 많이 마시는 대륙 탐색"
      ]
    },
    {
      "cell_type": "code",
      "metadata": {
        "colab": {
          "base_uri": "https://localhost:8080/",
          "height": 175
        },
        "id": "FcgWctDbNldt",
        "outputId": "6de95044-1082-462b-a69c-b401b8159dcd"
      },
      "source": [
        "low_drink=pd.DataFrame(low_drink_con) #평균보다 적게마시는 대륙 탐색\n",
        "low_drink"
      ],
      "execution_count": null,
      "outputs": [
        {
          "output_type": "execute_result",
          "data": {
            "text/html": [
              "<div>\n",
              "<style scoped>\n",
              "    .dataframe tbody tr th:only-of-type {\n",
              "        vertical-align: middle;\n",
              "    }\n",
              "\n",
              "    .dataframe tbody tr th {\n",
              "        vertical-align: top;\n",
              "    }\n",
              "\n",
              "    .dataframe thead th {\n",
              "        text-align: right;\n",
              "    }\n",
              "</style>\n",
              "<table border=\"1\" class=\"dataframe\">\n",
              "  <thead>\n",
              "    <tr style=\"text-align: right;\">\n",
              "      <th></th>\n",
              "      <th>total_servings</th>\n",
              "    </tr>\n",
              "    <tr>\n",
              "      <th>continent</th>\n",
              "      <th></th>\n",
              "    </tr>\n",
              "  </thead>\n",
              "  <tbody>\n",
              "    <tr>\n",
              "      <th>AF</th>\n",
              "      <td>94.075472</td>\n",
              "    </tr>\n",
              "    <tr>\n",
              "      <th>AS</th>\n",
              "      <td>106.954545</td>\n",
              "    </tr>\n",
              "    <tr>\n",
              "      <th>OC</th>\n",
              "      <td>183.750000</td>\n",
              "    </tr>\n",
              "  </tbody>\n",
              "</table>\n",
              "</div>"
            ],
            "text/plain": [
              "           total_servings\n",
              "continent                \n",
              "AF              94.075472\n",
              "AS             106.954545\n",
              "OC             183.750000"
            ]
          },
          "metadata": {},
          "execution_count": 14
        }
      ]
    },
    {
      "cell_type": "code",
      "metadata": {
        "colab": {
          "base_uri": "https://localhost:8080/",
          "height": 269
        },
        "id": "L8XwkHc-PIP_",
        "outputId": "e5b389b4-d957-4f17-ca7c-a5c27b98073c"
      },
      "source": [
        "spirit_drink=pd.DataFrame(spirit_con_mean) #spirit를 마시는 대륙 탐색\n",
        "spirit_drink=spirit_drink.sort_values(by='spirit_servings', ascending=0)\n",
        "spirit_drink"
      ],
      "execution_count": null,
      "outputs": [
        {
          "output_type": "execute_result",
          "data": {
            "text/html": [
              "<div>\n",
              "<style scoped>\n",
              "    .dataframe tbody tr th:only-of-type {\n",
              "        vertical-align: middle;\n",
              "    }\n",
              "\n",
              "    .dataframe tbody tr th {\n",
              "        vertical-align: top;\n",
              "    }\n",
              "\n",
              "    .dataframe thead th {\n",
              "        text-align: right;\n",
              "    }\n",
              "</style>\n",
              "<table border=\"1\" class=\"dataframe\">\n",
              "  <thead>\n",
              "    <tr style=\"text-align: right;\">\n",
              "      <th></th>\n",
              "      <th>spirit_servings</th>\n",
              "    </tr>\n",
              "    <tr>\n",
              "      <th>continent</th>\n",
              "      <th></th>\n",
              "    </tr>\n",
              "  </thead>\n",
              "  <tbody>\n",
              "    <tr>\n",
              "      <th>etc</th>\n",
              "      <td>165.739130</td>\n",
              "    </tr>\n",
              "    <tr>\n",
              "      <th>EU</th>\n",
              "      <td>132.555556</td>\n",
              "    </tr>\n",
              "    <tr>\n",
              "      <th>SA</th>\n",
              "      <td>114.750000</td>\n",
              "    </tr>\n",
              "    <tr>\n",
              "      <th>AS</th>\n",
              "      <td>60.840909</td>\n",
              "    </tr>\n",
              "    <tr>\n",
              "      <th>OC</th>\n",
              "      <td>58.437500</td>\n",
              "    </tr>\n",
              "    <tr>\n",
              "      <th>AF</th>\n",
              "      <td>16.339623</td>\n",
              "    </tr>\n",
              "  </tbody>\n",
              "</table>\n",
              "</div>"
            ],
            "text/plain": [
              "           spirit_servings\n",
              "continent                 \n",
              "etc             165.739130\n",
              "EU              132.555556\n",
              "SA              114.750000\n",
              "AS               60.840909\n",
              "OC               58.437500\n",
              "AF               16.339623"
            ]
          },
          "metadata": {},
          "execution_count": 15
        }
      ]
    },
    {
      "cell_type": "code",
      "metadata": {
        "colab": {
          "base_uri": "https://localhost:8080/",
          "height": 143
        },
        "id": "xo-_D6bRFl_D",
        "outputId": "7ba228e2-01cd-4147-ff03-b56a1e97850e"
      },
      "source": [
        "result=pd.concat([low_drink,spirit_drink], axis=1) # 위의 두개의 데이터 프레임을 열까리 합성.\n",
        "result.dropna(axis=0).sort_values(by='spirit_servings', ascending=0) #결측치가 있는 행을 삭제함. "
      ],
      "execution_count": null,
      "outputs": [
        {
          "output_type": "execute_result",
          "data": {
            "text/html": [
              "<div>\n",
              "<style scoped>\n",
              "    .dataframe tbody tr th:only-of-type {\n",
              "        vertical-align: middle;\n",
              "    }\n",
              "\n",
              "    .dataframe tbody tr th {\n",
              "        vertical-align: top;\n",
              "    }\n",
              "\n",
              "    .dataframe thead th {\n",
              "        text-align: right;\n",
              "    }\n",
              "</style>\n",
              "<table border=\"1\" class=\"dataframe\">\n",
              "  <thead>\n",
              "    <tr style=\"text-align: right;\">\n",
              "      <th></th>\n",
              "      <th>total_servings</th>\n",
              "      <th>spirit_servings</th>\n",
              "    </tr>\n",
              "  </thead>\n",
              "  <tbody>\n",
              "    <tr>\n",
              "      <th>AS</th>\n",
              "      <td>106.954545</td>\n",
              "      <td>60.840909</td>\n",
              "    </tr>\n",
              "    <tr>\n",
              "      <th>OC</th>\n",
              "      <td>183.750000</td>\n",
              "      <td>58.437500</td>\n",
              "    </tr>\n",
              "    <tr>\n",
              "      <th>AF</th>\n",
              "      <td>94.075472</td>\n",
              "      <td>16.339623</td>\n",
              "    </tr>\n",
              "  </tbody>\n",
              "</table>\n",
              "</div>"
            ],
            "text/plain": [
              "    total_servings  spirit_servings\n",
              "AS      106.954545        60.840909\n",
              "OC      183.750000        58.437500\n",
              "AF       94.075472        16.339623"
            ]
          },
          "metadata": {},
          "execution_count": 16
        }
      ]
    },
    {
      "cell_type": "markdown",
      "metadata": {
        "id": "MuF8S_RNSQIz"
      },
      "source": [
        "4. 데이터의 시각화"
      ]
    },
    {
      "cell_type": "code",
      "metadata": {
        "colab": {
          "base_uri": "https://localhost:8080/",
          "height": 404
        },
        "id": "KJ2BdmmQJ2F-",
        "outputId": "c70fcf47-1bcf-41be-85ce-c3b4268bbeec"
      },
      "source": [
        "import numpy as np\n",
        "import matplotlib.pyplot as plt\n",
        "\n",
        "spirit_con=spirit_drink.index.tolist()\n",
        "x=np.arange(len(spirit_con))\n",
        "y=spirit_drink.spirit_servings.tolist()\n",
        "\n",
        "plt.figure(dpi=100)\n",
        "bar_list = plt.bar(x, y)\n",
        "bar_list[spirit_con.index(\"AS\")].set_color('r')\n",
        "bar_list[spirit_con.index(\"AF\")].set_color('orange')\n",
        "bar_list[spirit_con.index(\"OC\")].set_color('y')\n",
        "\n",
        "plt.ylabel('spirit servings')\n",
        "plt.xlabel('continent')\n",
        "plt.xticks(x, spirit_con)\n",
        "plt.title('the spirit servings rank')\n",
        "AS_rank = spirit_con.index(\"AS\") \n",
        "AS_val=spirit_drink.loc[(spirit_drink.index=='AS')]['spirit_servings'][0]\n",
        "\n",
        "plt.annotate('Asia(1)', \n",
        " xy=(AS_rank, AS_val), \n",
        " xytext=(AS_rank + 1, AS_val + 10),\n",
        " arrowprops=dict(facecolor='red'))\n",
        "plt.axhline(spirit_mean, min(x), max(x), linestyle='--', color='k', label='spirit_mean')\n",
        "plt.legend()\n",
        "plt.show()\n"
      ],
      "execution_count": null,
      "outputs": [
        {
          "output_type": "display_data",
          "data": {
            "image/png": "[encoded data removed]",
            "text/plain": [
              "<Figure size 600x400 with 1 Axes>"
            ]
          },
          "metadata": {
            "needs_background": "light"
          }
        }
      ]
    },
    {
      "cell_type": "markdown",
      "metadata": {
        "id": "TlkBEWDDBDa2"
      },
      "source": [
        "#판다스 문법"
      ]
    },
    {
      "cell_type": "markdown",
      "metadata": {
        "id": "0wY8BXmHBnYt"
      },
      "source": [
        "#데이터 프레임"
      ]
    },
    {
      "cell_type": "code",
      "metadata": {
        "id": "lnksVCpoCIop"
      },
      "source": [
        "import pandas as pd"
      ],
      "execution_count": null,
      "outputs": []
    },
    {
      "cell_type": "code",
      "metadata": {
        "id": "rmpw1kTwCRa5"
      },
      "source": [
        "names = ['Bob','Jessica','Mary','John','Mel']\n",
        "births = [968, 155, 77, 578, 973]\n",
        "custom = [1, 5, 25, 13, 23232]"
      ],
      "execution_count": null,
      "outputs": []
    },
    {
      "cell_type": "code",
      "metadata": {
        "id": "JI4sHEUPCjvM"
      },
      "source": [
        "#'name'과 'birth'로 구성된 데이터프레임 생성\n",
        "#'zip' 함수로 'list' 자료형 구성\n",
        "#'pd.DataFrame'으로 데이터프레임 생성\n",
        "BabyDataSet = list(zip(names,births)) #zip으로 2개 리스트를 자료형으로 구성함. \n",
        "df = pd.DataFrame(data = BabyDataSet, columns=['Names', 'Births']) #column 이름을 지정하지 않으면 0, 1 로 정해진다. \n"
      ],
      "execution_count": null,
      "outputs": []
    },
    {
      "cell_type": "code",
      "metadata": {
        "colab": {
          "base_uri": "https://localhost:8080/",
          "height": 110
        },
        "id": "u3DC-OuLCv9l",
        "outputId": "2839cc13-5f33-477e-9fd4-4508363597e3"
      },
      "source": [
        "#데이터프레임 상단(default=5개) 부분 출력\n",
        "#()안 숫자로 원하는 데이터 개수 출력\n",
        "df.head(2) #행의 갯수는 지정가능하다. "
      ],
      "execution_count": null,
      "outputs": [
        {
          "output_type": "execute_result",
          "data": {
            "text/html": [
              "<div>\n",
              "<style scoped>\n",
              "    .dataframe tbody tr th:only-of-type {\n",
              "        vertical-align: middle;\n",
              "    }\n",
              "\n",
              "    .dataframe tbody tr th {\n",
              "        vertical-align: top;\n",
              "    }\n",
              "\n",
              "    .dataframe thead th {\n",
              "        text-align: right;\n",
              "    }\n",
              "</style>\n",
              "<table border=\"1\" class=\"dataframe\">\n",
              "  <thead>\n",
              "    <tr style=\"text-align: right;\">\n",
              "      <th></th>\n",
              "      <th>Names</th>\n",
              "      <th>Births</th>\n",
              "      <th>custom</th>\n",
              "    </tr>\n",
              "  </thead>\n",
              "  <tbody>\n",
              "    <tr>\n",
              "      <th>0</th>\n",
              "      <td>Bob</td>\n",
              "      <td>968</td>\n",
              "      <td>1</td>\n",
              "    </tr>\n",
              "    <tr>\n",
              "      <th>1</th>\n",
              "      <td>Jessica</td>\n",
              "      <td>155</td>\n",
              "      <td>5</td>\n",
              "    </tr>\n",
              "  </tbody>\n",
              "</table>\n",
              "</div>"
            ],
            "text/plain": [
              "     Names  Births  custom\n",
              "0      Bob     968       1\n",
              "1  Jessica     155       5"
            ]
          },
          "metadata": {},
          "execution_count": 9
        }
      ]
    },
    {
      "cell_type": "code",
      "metadata": {
        "colab": {
          "base_uri": "https://localhost:8080/",
          "height": 203
        },
        "id": "n5gmDmdtCwQ8",
        "outputId": "13412529-d3ec-42c7-fd13-e5f692088b11"
      },
      "source": [
        "#'custom'열 추가\n",
        "df['custom'] = custom\n",
        "df"
      ],
      "execution_count": null,
      "outputs": [
        {
          "output_type": "execute_result",
          "data": {
            "text/html": [
              "<div>\n",
              "<style scoped>\n",
              "    .dataframe tbody tr th:only-of-type {\n",
              "        vertical-align: middle;\n",
              "    }\n",
              "\n",
              "    .dataframe tbody tr th {\n",
              "        vertical-align: top;\n",
              "    }\n",
              "\n",
              "    .dataframe thead th {\n",
              "        text-align: right;\n",
              "    }\n",
              "</style>\n",
              "<table border=\"1\" class=\"dataframe\">\n",
              "  <thead>\n",
              "    <tr style=\"text-align: right;\">\n",
              "      <th></th>\n",
              "      <th>Names</th>\n",
              "      <th>Births</th>\n",
              "      <th>custom</th>\n",
              "    </tr>\n",
              "  </thead>\n",
              "  <tbody>\n",
              "    <tr>\n",
              "      <th>0</th>\n",
              "      <td>Bob</td>\n",
              "      <td>968</td>\n",
              "      <td>1</td>\n",
              "    </tr>\n",
              "    <tr>\n",
              "      <th>1</th>\n",
              "      <td>Jessica</td>\n",
              "      <td>155</td>\n",
              "      <td>5</td>\n",
              "    </tr>\n",
              "    <tr>\n",
              "      <th>2</th>\n",
              "      <td>Mary</td>\n",
              "      <td>77</td>\n",
              "      <td>25</td>\n",
              "    </tr>\n",
              "    <tr>\n",
              "      <th>3</th>\n",
              "      <td>John</td>\n",
              "      <td>578</td>\n",
              "      <td>13</td>\n",
              "    </tr>\n",
              "    <tr>\n",
              "      <th>4</th>\n",
              "      <td>Mel</td>\n",
              "      <td>973</td>\n",
              "      <td>23232</td>\n",
              "    </tr>\n",
              "  </tbody>\n",
              "</table>\n",
              "</div>"
            ],
            "text/plain": [
              "     Names  Births  custom\n",
              "0      Bob     968       1\n",
              "1  Jessica     155       5\n",
              "2     Mary      77      25\n",
              "3     John     578      13\n",
              "4      Mel     973   23232"
            ]
          },
          "metadata": {},
          "execution_count": 7
        }
      ]
    },
    {
      "cell_type": "code",
      "metadata": {
        "colab": {
          "base_uri": "https://localhost:8080/"
        },
        "id": "BkOFxm4ACwZp",
        "outputId": "e35e9a3c-7d4c-42d0-c10e-5cdc4fc10a66"
      },
      "source": [
        "# 데이터프레임의 열 타입 정보를 출력\n",
        "print(df.dtypes)"
      ],
      "execution_count": null,
      "outputs": [
        {
          "output_type": "stream",
          "name": "stdout",
          "text": [
            "Names     object\n",
            "Births     int64\n",
            "custom     int64\n",
            "dtype: object\n"
          ]
        }
      ]
    },
    {
      "cell_type": "code",
      "metadata": {
        "colab": {
          "base_uri": "https://localhost:8080/"
        },
        "id": "leitg51vCwiS",
        "outputId": "360747cc-75ef-40f0-d293-f2d20fa8f133"
      },
      "source": [
        "# 데이터프레임의 형태 정보\n",
        "print(df.index)\n"
      ],
      "execution_count": null,
      "outputs": [
        {
          "output_type": "stream",
          "name": "stdout",
          "text": [
            "RangeIndex(start=0, stop=5, step=1)\n"
          ]
        }
      ]
    },
    {
      "cell_type": "code",
      "metadata": {
        "colab": {
          "base_uri": "https://localhost:8080/"
        },
        "id": "LmRpWCc8CwrU",
        "outputId": "e896fc88-3d9b-42f9-9b46-01cfc0dcdddc"
      },
      "source": [
        "# 데이터프레임의 열 정보\n",
        "print(df.columns)"
      ],
      "execution_count": null,
      "outputs": [
        {
          "output_type": "stream",
          "name": "stdout",
          "text": [
            "Index(['Names', 'Births', 'custom'], dtype='object')\n"
          ]
        }
      ]
    },
    {
      "cell_type": "code",
      "metadata": {
        "colab": {
          "base_uri": "https://localhost:8080/"
        },
        "id": "kbQCVWleCw0d",
        "outputId": "0e7583de-5592-47c8-9062-90405d03c5cf"
      },
      "source": [
        "# 데이터프레임의 하나의 열을 선택\n",
        "df['Names']\n"
      ],
      "execution_count": null,
      "outputs": [
        {
          "output_type": "execute_result",
          "data": {
            "text/plain": [
              "0        Bob\n",
              "1    Jessica\n",
              "2       Mary\n",
              "3       John\n",
              "4        Mel\n",
              "Name: Names, dtype: object"
            ]
          },
          "metadata": {},
          "execution_count": 16
        }
      ]
    },
    {
      "cell_type": "code",
      "metadata": {
        "colab": {
          "base_uri": "https://localhost:8080/",
          "height": 142
        },
        "id": "qEPH5DrgCw9_",
        "outputId": "8fc8bfb7-3c77-4085-c654-91b385cb8022"
      },
      "source": [
        "# 0~3 번째 인덱스를 선택\n",
        "df[0:3]"
      ],
      "execution_count": null,
      "outputs": [
        {
          "output_type": "execute_result",
          "data": {
            "text/html": [
              "<div>\n",
              "<style scoped>\n",
              "    .dataframe tbody tr th:only-of-type {\n",
              "        vertical-align: middle;\n",
              "    }\n",
              "\n",
              "    .dataframe tbody tr th {\n",
              "        vertical-align: top;\n",
              "    }\n",
              "\n",
              "    .dataframe thead th {\n",
              "        text-align: right;\n",
              "    }\n",
              "</style>\n",
              "<table border=\"1\" class=\"dataframe\">\n",
              "  <thead>\n",
              "    <tr style=\"text-align: right;\">\n",
              "      <th></th>\n",
              "      <th>Names</th>\n",
              "      <th>Births</th>\n",
              "      <th>custom</th>\n",
              "    </tr>\n",
              "  </thead>\n",
              "  <tbody>\n",
              "    <tr>\n",
              "      <th>0</th>\n",
              "      <td>Bob</td>\n",
              "      <td>968</td>\n",
              "      <td>1</td>\n",
              "    </tr>\n",
              "    <tr>\n",
              "      <th>1</th>\n",
              "      <td>Jessica</td>\n",
              "      <td>155</td>\n",
              "      <td>5</td>\n",
              "    </tr>\n",
              "    <tr>\n",
              "      <th>2</th>\n",
              "      <td>Mary</td>\n",
              "      <td>77</td>\n",
              "      <td>25</td>\n",
              "    </tr>\n",
              "  </tbody>\n",
              "</table>\n",
              "</div>"
            ],
            "text/plain": [
              "     Names  Births  custom\n",
              "0      Bob     968       1\n",
              "1  Jessica     155       5\n",
              "2     Mary      77      25"
            ]
          },
          "metadata": {},
          "execution_count": 17
        }
      ]
    },
    {
      "cell_type": "code",
      "metadata": {
        "colab": {
          "base_uri": "https://localhost:8080/",
          "height": 142
        },
        "id": "uTo4Sf3UCxHo",
        "outputId": "2cfc8c2f-b736-4197-9679-629eae7f3896"
      },
      "source": [
        "df.head(3) #head를 이용하여 출력가능"
      ],
      "execution_count": null,
      "outputs": [
        {
          "output_type": "execute_result",
          "data": {
            "text/html": [
              "<div>\n",
              "<style scoped>\n",
              "    .dataframe tbody tr th:only-of-type {\n",
              "        vertical-align: middle;\n",
              "    }\n",
              "\n",
              "    .dataframe tbody tr th {\n",
              "        vertical-align: top;\n",
              "    }\n",
              "\n",
              "    .dataframe thead th {\n",
              "        text-align: right;\n",
              "    }\n",
              "</style>\n",
              "<table border=\"1\" class=\"dataframe\">\n",
              "  <thead>\n",
              "    <tr style=\"text-align: right;\">\n",
              "      <th></th>\n",
              "      <th>Names</th>\n",
              "      <th>Births</th>\n",
              "      <th>custom</th>\n",
              "    </tr>\n",
              "  </thead>\n",
              "  <tbody>\n",
              "    <tr>\n",
              "      <th>0</th>\n",
              "      <td>Bob</td>\n",
              "      <td>968</td>\n",
              "      <td>1</td>\n",
              "    </tr>\n",
              "    <tr>\n",
              "      <th>1</th>\n",
              "      <td>Jessica</td>\n",
              "      <td>155</td>\n",
              "      <td>5</td>\n",
              "    </tr>\n",
              "    <tr>\n",
              "      <th>2</th>\n",
              "      <td>Mary</td>\n",
              "      <td>77</td>\n",
              "      <td>25</td>\n",
              "    </tr>\n",
              "  </tbody>\n",
              "</table>\n",
              "</div>"
            ],
            "text/plain": [
              "     Names  Births  custom\n",
              "0      Bob     968       1\n",
              "1  Jessica     155       5\n",
              "2     Mary      77      25"
            ]
          },
          "metadata": {},
          "execution_count": 18
        }
      ]
    },
    {
      "cell_type": "code",
      "metadata": {
        "colab": {
          "base_uri": "https://localhost:8080/",
          "height": 172
        },
        "id": "T_NMaXhuErAQ",
        "outputId": "fd524e3b-0cec-46ae-9317-73f5db04128c"
      },
      "source": [
        "# Births 열이 100보다 큰 데이터를 선택\n",
        "df[df['Births'] > 100]"
      ],
      "execution_count": null,
      "outputs": [
        {
          "output_type": "execute_result",
          "data": {
            "text/html": [
              "<div>\n",
              "<style scoped>\n",
              "    .dataframe tbody tr th:only-of-type {\n",
              "        vertical-align: middle;\n",
              "    }\n",
              "\n",
              "    .dataframe tbody tr th {\n",
              "        vertical-align: top;\n",
              "    }\n",
              "\n",
              "    .dataframe thead th {\n",
              "        text-align: right;\n",
              "    }\n",
              "</style>\n",
              "<table border=\"1\" class=\"dataframe\">\n",
              "  <thead>\n",
              "    <tr style=\"text-align: right;\">\n",
              "      <th></th>\n",
              "      <th>Names</th>\n",
              "      <th>Births</th>\n",
              "      <th>custom</th>\n",
              "    </tr>\n",
              "  </thead>\n",
              "  <tbody>\n",
              "    <tr>\n",
              "      <th>0</th>\n",
              "      <td>Bob</td>\n",
              "      <td>968</td>\n",
              "      <td>1</td>\n",
              "    </tr>\n",
              "    <tr>\n",
              "      <th>1</th>\n",
              "      <td>Jessica</td>\n",
              "      <td>155</td>\n",
              "      <td>5</td>\n",
              "    </tr>\n",
              "    <tr>\n",
              "      <th>3</th>\n",
              "      <td>John</td>\n",
              "      <td>578</td>\n",
              "      <td>13</td>\n",
              "    </tr>\n",
              "    <tr>\n",
              "      <th>4</th>\n",
              "      <td>Mel</td>\n",
              "      <td>973</td>\n",
              "      <td>23232</td>\n",
              "    </tr>\n",
              "  </tbody>\n",
              "</table>\n",
              "</div>"
            ],
            "text/plain": [
              "     Names  Births  custom\n",
              "0      Bob     968       1\n",
              "1  Jessica     155       5\n",
              "3     John     578      13\n",
              "4      Mel     973   23232"
            ]
          },
          "metadata": {},
          "execution_count": 19
        }
      ]
    },
    {
      "cell_type": "code",
      "metadata": {
        "colab": {
          "base_uri": "https://localhost:8080/"
        },
        "id": "ErvEC9P6ErNM",
        "outputId": "d2f026f0-7cb0-4b1a-a794-86310f411e9a"
      },
      "source": [
        " #데이터프레임에서의 평균값을 계산\n",
        "df.mean() #평균값"
      ],
      "execution_count": null,
      "outputs": [
        {
          "output_type": "execute_result",
          "data": {
            "text/plain": [
              "Births     550.2\n",
              "custom    4655.2\n",
              "dtype: float64"
            ]
          },
          "metadata": {},
          "execution_count": 22
        }
      ]
    },
    {
      "cell_type": "code",
      "metadata": {
        "colab": {
          "base_uri": "https://localhost:8080/"
        },
        "id": "h4An3Y-WErW-",
        "outputId": "575d9ce4-dd06-4231-c745-7545328e52e8"
      },
      "source": [
        "df.std() #표준편차"
      ],
      "execution_count": null,
      "outputs": [
        {
          "output_type": "execute_result",
          "data": {
            "text/plain": [
              "Births      428.424672\n",
              "custom    10384.750945\n",
              "dtype: float64"
            ]
          },
          "metadata": {},
          "execution_count": 21
        }
      ]
    },
    {
      "cell_type": "markdown",
      "metadata": {
        "id": "fslKzp2DErgG"
      },
      "source": [
        "#Numpy"
      ]
    },
    {
      "cell_type": "markdown",
      "metadata": {
        "id": "tWFTy1-YErqJ"
      },
      "source": [
        "![image.png](data:image/png;base64,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)"
      ]
    },
    {
      "cell_type": "code",
      "metadata": {
        "id": "KsNhQ4zJF52H"
      },
      "source": [
        "import numpy as np"
      ],
      "execution_count": null,
      "outputs": []
    },
    {
      "cell_type": "code",
      "metadata": {
        "colab": {
          "base_uri": "https://localhost:8080/"
        },
        "id": "W8r6_a3aEryq",
        "outputId": "1a8f2670-2b46-47c8-b080-553dd0c889a2"
      },
      "source": [
        "arr = np.arange(15).reshape(3, 5)\n",
        "print(arr)"
      ],
      "execution_count": null,
      "outputs": [
        {
          "output_type": "stream",
          "name": "stdout",
          "text": [
            "[[ 0  1  2  3  4]\n",
            " [ 5  6  7  8  9]\n",
            " [10 11 12 13 14]]\n"
          ]
        }
      ]
    },
    {
      "cell_type": "code",
      "metadata": {
        "colab": {
          "base_uri": "https://localhost:8080/"
        },
        "id": "-x3cPhFSEr7E",
        "outputId": "3ac196f2-bf87-4823-987f-a3daa85ad2f9"
      },
      "source": [
        "#데이터 차원 확인\n",
        "arr.shape"
      ],
      "execution_count": null,
      "outputs": [
        {
          "output_type": "execute_result",
          "data": {
            "text/plain": [
              "(3, 5)"
            ]
          },
          "metadata": {},
          "execution_count": 28
        }
      ]
    },
    {
      "cell_type": "code",
      "metadata": {
        "colab": {
          "base_uri": "https://localhost:8080/"
        },
        "id": "ML4HbtNBEsFR",
        "outputId": "a9c408cb-d98a-402c-a32b-1645bd6317ad"
      },
      "source": [
        "#데이터 타입 확인, 구글 코랩은 64bit, 컴퓨터마다 bit차이 있음. \n",
        "arr.dtype"
      ],
      "execution_count": null,
      "outputs": [
        {
          "output_type": "execute_result",
          "data": {
            "text/plain": [
              "dtype('int64')"
            ]
          },
          "metadata": {},
          "execution_count": 29
        }
      ]
    },
    {
      "cell_type": "code",
      "metadata": {
        "id": "cOR6fOaDEsPG"
      },
      "source": [
        "#'0'으로 구성된 3x5 행렬 생성\n",
        "arr0 = np.zeros((3,5))\n",
        "print(arr0)"
      ],
      "execution_count": null,
      "outputs": []
    },
    {
      "cell_type": "code",
      "metadata": {
        "colab": {
          "base_uri": "https://localhost:8080/"
        },
        "id": "YdLr6yaKEsYu",
        "outputId": "647e836a-47eb-43d2-800f-f3baee25c216"
      },
      "source": [
        "#'0'으로 구성된 3x5 행렬 생성\n",
        "arr0 = np.zeros((3,5))\n",
        "print(arr0)"
      ],
      "execution_count": null,
      "outputs": [
        {
          "output_type": "stream",
          "name": "stdout",
          "text": [
            "[[0. 0. 0. 0. 0.]\n",
            " [0. 0. 0. 0. 0.]\n",
            " [0. 0. 0. 0. 0.]]\n"
          ]
        }
      ]
    },
    {
      "cell_type": "code",
      "metadata": {
        "colab": {
          "base_uri": "https://localhost:8080/"
        },
        "id": "El07XPq5GZpM",
        "outputId": "bc0bbdc3-0b66-4cc4-8b78-4624c6be7988"
      },
      "source": [
        "#'1'으로 구성된 3x4 행렬 생성\n",
        "arr1 = np.ones((3,4))\n",
        "print(arr1)"
      ],
      "execution_count": null,
      "outputs": [
        {
          "output_type": "stream",
          "name": "stdout",
          "text": [
            "[[1. 1. 1. 1.]\n",
            " [1. 1. 1. 1.]\n",
            " [1. 1. 1. 1.]]\n"
          ]
        }
      ]
    },
    {
      "cell_type": "code",
      "metadata": {
        "colab": {
          "base_uri": "https://localhost:8080/"
        },
        "id": "a4mzRkv-GZ0x",
        "outputId": "c43309f6-eae7-4a9f-935e-630f9ac07c00"
      },
      "source": [
        "#간단한 배열 사칙연산\n",
        "arr_1 = np.array([[1,2,3],[4,5,6]])\n",
        "arr_2 = np.array([[7,8,9],[10,11,12]])\n",
        "print(\"arr_1 + arr_2 = \")\n",
        "print(arr_1 + arr_2,\"\\n\") # \\n은 줄바뀜역할\n",
        "print(\"arr_1 - arr_2 = \")\n",
        "print(arr_1 - arr_2,\"\\n\")\n",
        "print(\"arr_1 * arr_2 = \")\n",
        "print(arr_1 * arr_2,\"\\n\")\n",
        "print(\"arr_1 / arr_2 = \")\n",
        "print(arr_1 / arr_2,\"\\n\")\n"
      ],
      "execution_count": null,
      "outputs": [
        {
          "output_type": "stream",
          "name": "stdout",
          "text": [
            "arr_1 + arr_2 = \n",
            "[[ 8 10 12]\n",
            " [14 16 18]] \n",
            "\n",
            "arr_1 - arr_2 = \n",
            "[[-6 -6 -6]\n",
            " [-6 -6 -6]] \n",
            "\n",
            "arr_1 * arr_2 = \n",
            "[[ 7 16 27]\n",
            " [40 55 72]] \n",
            "\n",
            "arr_1 / arr_2 = \n",
            "[[0.14285714 0.25       0.33333333]\n",
            " [0.4        0.45454545 0.5       ]] \n",
            "\n"
          ]
        }
      ]
    },
    {
      "cell_type": "markdown",
      "metadata": {
        "id": "ZaYG4WyQGZ9b"
      },
      "source": [
        "#Matplotlib"
      ]
    },
    {
      "cell_type": "code",
      "metadata": {
        "id": "U3XZrP-VGaGO"
      },
      "source": [
        "#’matplotlib’ 라이브러리의 ‘pyplot’ 모듈을 ‘plt’ 약자로 사용\n",
        "import matplotlib.pyplot as plt\n",
        "%matplotlib inline \n",
        "#현재 실행중인 환경에서 그래프 출력\n"
      ],
      "execution_count": null,
      "outputs": []
    },
    {
      "cell_type": "code",
      "metadata": {
        "colab": {
          "base_uri": "https://localhost:8080/",
          "height": 295
        },
        "id": "9jDo2iLmGaPA",
        "outputId": "d0e9eaef-70e4-48f6-fa42-584285d6230e"
      },
      "source": [
        "y= df['Births']\n",
        "x = df['Names']\n",
        "# bar plot을 출력\n",
        "plt.bar(x, y) #막대그래프 객체 생성\n",
        "plt.xlabel('Names') #x축 제목\n",
        "plt.ylabel('Births') #y축 제목\n",
        "plt.title('Bar plot') #그래프 제목\n",
        "plt.show() #그래프 출력"
      ],
      "execution_count": null,
      "outputs": [
        {
          "output_type": "display_data",
          "data": {
            "image/png": "[encoded data removed]",
            "text/plain": [
              "<Figure size 432x288 with 1 Axes>"
            ]
          },
          "metadata": {
            "needs_background": "light"
          }
        }
      ]
    },
    {
      "cell_type": "code",
      "metadata": {
        "colab": {
          "base_uri": "https://localhost:8080/",
          "height": 295
        },
        "id": "tu1eLp0fGaYj",
        "outputId": "1d433bd0-eff5-44aa-ea33-cdb586f3e0ee"
      },
      "source": [
        "# 랜덤 추출 시드를 고정\n",
        "np.random.seed(0)\n",
        "# scatter plot 데이터를 생성\n",
        "x = np.arange(0.0, 100.0, 5.0)\n",
        "y = (x * 1.5) + np.random.rand(20) * 50\n",
        "# scatter plot을 출력\n",
        "plt.scatter(x, y, c=\"b\", alpha=0.5, label=\"scatter point\") #파란색, 투명도0.5, 라벨표시\n",
        "plt.xlabel(\"X\") #x축라벨\n",
        "plt.ylabel(\"Y\") #y축라벨\n",
        "plt.legend(loc='upper left') #좌상단에 범례\n",
        "plt.title('Scatter plot') #제목표시\n",
        "plt.show()"
      ],
      "execution_count": null,
      "outputs": [
        {
          "output_type": "display_data",
          "data": {
            "image/png": "[encoded data removed]",
            "text/plain": [
              "<Figure size 432x288 with 1 Axes>"
            ]
          },
          "metadata": {
            "needs_background": "light"
          }
        }
      ]
    },
    {
      "cell_type": "code",
      "metadata": {
        "colab": {
          "base_uri": "https://localhost:8080/"
        },
        "id": "ipGUM6VdGagn",
        "outputId": "1ed67791-84b4-47b1-9eff-f4a136ff4b58"
      },
      "source": [
        "print(x)"
      ],
      "execution_count": null,
      "outputs": [
        {
          "output_type": "stream",
          "name": "stdout",
          "text": [
            "[ 0.  5. 10. 15. 20. 25. 30. 35. 40. 45. 50. 55. 60. 65. 70. 75. 80. 85.\n",
            " 90. 95.]\n"
          ]
        }
      ]
    },
    {
      "cell_type": "code",
      "metadata": {
        "id": "Ej0nVhC1Gao3"
      },
      "source": [
        " a=np.random.rand(20)"
      ],
      "execution_count": null,
      "outputs": []
    },
    {
      "cell_type": "code",
      "metadata": {
        "colab": {
          "base_uri": "https://localhost:8080/"
        },
        "id": "TpgPLMHOGaxr",
        "outputId": "cfb539f1-dde1-41eb-b565-097f3e443d6a"
      },
      "source": [
        "a.shape"
      ],
      "execution_count": null,
      "outputs": [
        {
          "output_type": "execute_result",
          "data": {
            "text/plain": [
              "(20,)"
            ]
          },
          "metadata": {},
          "execution_count": 46
        }
      ]
    },
    {
      "cell_type": "code",
      "metadata": {
        "colab": {
          "base_uri": "https://localhost:8080/"
        },
        "id": "mSGmCpcvJh3-",
        "outputId": "ba0e2688-cb42-4c30-f645-69e61181d71e"
      },
      "source": [
        "print(y)"
      ],
      "execution_count": null,
      "outputs": [
        {
          "output_type": "stream",
          "name": "stdout",
          "text": [
            "[ 27.4406752   43.25946832  45.1381688   49.74415915  51.18273997\n",
            "  69.79470565  66.87936056  97.08865004 108.18313803  86.67207594\n",
            " 114.5862519  108.94474599 118.40222805 143.77983191 108.55180291\n",
            " 116.85646499 121.01091987 169.13099228 173.90783755 186.00060741]\n"
          ]
        }
      ]
    },
    {
      "cell_type": "markdown",
      "metadata": {
        "id": "Dyr6pq9lBne0"
      },
      "source": [
        "#AXIS(가로 세로)"
      ]
    },
    {
      "cell_type": "code",
      "metadata": {
        "colab": {
          "base_uri": "https://localhost:8080/",
          "height": 203
        },
        "id": "IgXosxkxrQjc",
        "outputId": "1cf59a1f-4901-4d79-caed-085b4ebc1259"
      },
      "source": [
        "df = pd.DataFrame(\n",
        " {'name': ['KIM', 'LEE', 'SMITH','BROWN', 'MILLER'],\n",
        " 'age': [24, 32, 43, 24, np.nan],   \n",
        " 'height': [178, 168, 171, 185, 176],\n",
        " 'sex': ['M', 'F', 'F', 'M', 'F']})\n",
        "df"
      ],
      "execution_count": null,
      "outputs": [
        {
          "output_type": "execute_result",
          "data": {
            "text/html": [
              "<div>\n",
              "<style scoped>\n",
              "    .dataframe tbody tr th:only-of-type {\n",
              "        vertical-align: middle;\n",
              "    }\n",
              "\n",
              "    .dataframe tbody tr th {\n",
              "        vertical-align: top;\n",
              "    }\n",
              "\n",
              "    .dataframe thead th {\n",
              "        text-align: right;\n",
              "    }\n",
              "</style>\n",
              "<table border=\"1\" class=\"dataframe\">\n",
              "  <thead>\n",
              "    <tr style=\"text-align: right;\">\n",
              "      <th></th>\n",
              "      <th>name</th>\n",
              "      <th>age</th>\n",
              "      <th>height</th>\n",
              "      <th>sex</th>\n",
              "    </tr>\n",
              "  </thead>\n",
              "  <tbody>\n",
              "    <tr>\n",
              "      <th>0</th>\n",
              "      <td>KIM</td>\n",
              "      <td>24.0</td>\n",
              "      <td>178</td>\n",
              "      <td>M</td>\n",
              "    </tr>\n",
              "    <tr>\n",
              "      <th>1</th>\n",
              "      <td>LEE</td>\n",
              "      <td>32.0</td>\n",
              "      <td>168</td>\n",
              "      <td>F</td>\n",
              "    </tr>\n",
              "    <tr>\n",
              "      <th>2</th>\n",
              "      <td>SMITH</td>\n",
              "      <td>43.0</td>\n",
              "      <td>171</td>\n",
              "      <td>F</td>\n",
              "    </tr>\n",
              "    <tr>\n",
              "      <th>3</th>\n",
              "      <td>BROWN</td>\n",
              "      <td>24.0</td>\n",
              "      <td>185</td>\n",
              "      <td>M</td>\n",
              "    </tr>\n",
              "    <tr>\n",
              "      <th>4</th>\n",
              "      <td>MILLER</td>\n",
              "      <td>NaN</td>\n",
              "      <td>176</td>\n",
              "      <td>F</td>\n",
              "    </tr>\n",
              "  </tbody>\n",
              "</table>\n",
              "</div>"
            ],
            "text/plain": [
              "     name   age  height sex\n",
              "0     KIM  24.0     178   M\n",
              "1     LEE  32.0     168   F\n",
              "2   SMITH  43.0     171   F\n",
              "3   BROWN  24.0     185   M\n",
              "4  MILLER   NaN     176   F"
            ]
          },
          "metadata": {},
          "execution_count": 5
        }
      ]
    },
    {
      "cell_type": "code",
      "metadata": {
        "colab": {
          "base_uri": "https://localhost:8080/"
        },
        "id": "aeyP303zrj_9",
        "outputId": "1c5c089f-8f6a-4a1e-ffa6-22b25d444791"
      },
      "source": [
        "df[['age', 'height']].mean(axis=0)\n"
      ],
      "execution_count": null,
      "outputs": [
        {
          "output_type": "execute_result",
          "data": {
            "text/plain": [
              "age        30.75\n",
              "height    175.60\n",
              "dtype: float64"
            ]
          },
          "metadata": {},
          "execution_count": 6
        }
      ]
    },
    {
      "cell_type": "code",
      "metadata": {
        "colab": {
          "base_uri": "https://localhost:8080/"
        },
        "id": "icRf1zLCrkIR",
        "outputId": "8f3dc132-42ca-40bf-836e-4704dd32a272"
      },
      "source": [
        "df[['age', 'height']].mean(axis=1)\n"
      ],
      "execution_count": null,
      "outputs": [
        {
          "output_type": "execute_result",
          "data": {
            "text/plain": [
              "0    101.0\n",
              "1    100.0\n",
              "2    107.0\n",
              "3    104.5\n",
              "4    176.0\n",
              "dtype: float64"
            ]
          },
          "metadata": {},
          "execution_count": 8
        }
      ]
    },
    {
      "cell_type": "code",
      "metadata": {
        "colab": {
          "base_uri": "https://localhost:8080/",
          "height": 203
        },
        "id": "Yjt73SBIrkQ8",
        "outputId": "c9bc46f8-a957-4994-acfe-231aa59bd684"
      },
      "source": [
        "df[['age', 'height']].rank(axis=0)"
      ],
      "execution_count": null,
      "outputs": [
        {
          "output_type": "execute_result",
          "data": {
            "text/html": [
              "<div>\n",
              "<style scoped>\n",
              "    .dataframe tbody tr th:only-of-type {\n",
              "        vertical-align: middle;\n",
              "    }\n",
              "\n",
              "    .dataframe tbody tr th {\n",
              "        vertical-align: top;\n",
              "    }\n",
              "\n",
              "    .dataframe thead th {\n",
              "        text-align: right;\n",
              "    }\n",
              "</style>\n",
              "<table border=\"1\" class=\"dataframe\">\n",
              "  <thead>\n",
              "    <tr style=\"text-align: right;\">\n",
              "      <th></th>\n",
              "      <th>age</th>\n",
              "      <th>height</th>\n",
              "    </tr>\n",
              "  </thead>\n",
              "  <tbody>\n",
              "    <tr>\n",
              "      <th>0</th>\n",
              "      <td>1.5</td>\n",
              "      <td>4.0</td>\n",
              "    </tr>\n",
              "    <tr>\n",
              "      <th>1</th>\n",
              "      <td>3.0</td>\n",
              "      <td>1.0</td>\n",
              "    </tr>\n",
              "    <tr>\n",
              "      <th>2</th>\n",
              "      <td>4.0</td>\n",
              "      <td>2.0</td>\n",
              "    </tr>\n",
              "    <tr>\n",
              "      <th>3</th>\n",
              "      <td>1.5</td>\n",
              "      <td>5.0</td>\n",
              "    </tr>\n",
              "    <tr>\n",
              "      <th>4</th>\n",
              "      <td>NaN</td>\n",
              "      <td>3.0</td>\n",
              "    </tr>\n",
              "  </tbody>\n",
              "</table>\n",
              "</div>"
            ],
            "text/plain": [
              "   age  height\n",
              "0  1.5     4.0\n",
              "1  3.0     1.0\n",
              "2  4.0     2.0\n",
              "3  1.5     5.0\n",
              "4  NaN     3.0"
            ]
          },
          "metadata": {},
          "execution_count": 9
        }
      ]
    },
    {
      "cell_type": "code",
      "metadata": {
        "colab": {
          "base_uri": "https://localhost:8080/",
          "height": 203
        },
        "id": "OBMo3-6HrkZ2",
        "outputId": "0711681e-b1bf-485b-bbf1-87c10ab23a9f"
      },
      "source": [
        "df[['age', 'height']].rank(axis=1)"
      ],
      "execution_count": null,
      "outputs": [
        {
          "output_type": "execute_result",
          "data": {
            "text/html": [
              "<div>\n",
              "<style scoped>\n",
              "    .dataframe tbody tr th:only-of-type {\n",
              "        vertical-align: middle;\n",
              "    }\n",
              "\n",
              "    .dataframe tbody tr th {\n",
              "        vertical-align: top;\n",
              "    }\n",
              "\n",
              "    .dataframe thead th {\n",
              "        text-align: right;\n",
              "    }\n",
              "</style>\n",
              "<table border=\"1\" class=\"dataframe\">\n",
              "  <thead>\n",
              "    <tr style=\"text-align: right;\">\n",
              "      <th></th>\n",
              "      <th>age</th>\n",
              "      <th>height</th>\n",
              "    </tr>\n",
              "  </thead>\n",
              "  <tbody>\n",
              "    <tr>\n",
              "      <th>0</th>\n",
              "      <td>1.0</td>\n",
              "      <td>2.0</td>\n",
              "    </tr>\n",
              "    <tr>\n",
              "      <th>1</th>\n",
              "      <td>1.0</td>\n",
              "      <td>2.0</td>\n",
              "    </tr>\n",
              "    <tr>\n",
              "      <th>2</th>\n",
              "      <td>1.0</td>\n",
              "      <td>2.0</td>\n",
              "    </tr>\n",
              "    <tr>\n",
              "      <th>3</th>\n",
              "      <td>1.0</td>\n",
              "      <td>2.0</td>\n",
              "    </tr>\n",
              "    <tr>\n",
              "      <th>4</th>\n",
              "      <td>NaN</td>\n",
              "      <td>1.0</td>\n",
              "    </tr>\n",
              "  </tbody>\n",
              "</table>\n",
              "</div>"
            ],
            "text/plain": [
              "   age  height\n",
              "0  1.0     2.0\n",
              "1  1.0     2.0\n",
              "2  1.0     2.0\n",
              "3  1.0     2.0\n",
              "4  NaN     1.0"
            ]
          },
          "metadata": {},
          "execution_count": 10
        }
      ]
    },
    {
      "cell_type": "markdown",
      "metadata": {
        "id": "uOuB5NAEBmsa"
      },
      "source": [
        "#결측치"
      ]
    },
    {
      "cell_type": "code",
      "metadata": {
        "id": "yIaOFO3b6PGZ"
      },
      "source": [
        "# 우선 결측치가 포함된 데이터프레임 생성\n",
        "import pandas as pd\n",
        "import numpy as np"
      ],
      "execution_count": null,
      "outputs": []
    },
    {
      "cell_type": "code",
      "metadata": {
        "id": "s6iECxS0Rmp8"
      },
      "source": [
        "#pandas에서는 'None'도 'NaN'으로 반환\n",
        "dict = {'A': [110, 90, np.nan, 95], 'B': [30, 45, 56, np.nan], 'C': [np.nan, 40, 80, 98]}"
      ],
      "execution_count": null,
      "outputs": []
    },
    {
      "cell_type": "code",
      "metadata": {
        "colab": {
          "base_uri": "https://localhost:8080/",
          "height": 172
        },
        "id": "etUuTG89RnAN",
        "outputId": "324d2c2c-9669-4502-e84a-de560d5c13e4"
      },
      "source": [
        "df = pd.DataFrame(dict)\n",
        "df"
      ],
      "execution_count": null,
      "outputs": [
        {
          "output_type": "execute_result",
          "data": {
            "text/html": [
              "<div>\n",
              "<style scoped>\n",
              "    .dataframe tbody tr th:only-of-type {\n",
              "        vertical-align: middle;\n",
              "    }\n",
              "\n",
              "    .dataframe tbody tr th {\n",
              "        vertical-align: top;\n",
              "    }\n",
              "\n",
              "    .dataframe thead th {\n",
              "        text-align: right;\n",
              "    }\n",
              "</style>\n",
              "<table border=\"1\" class=\"dataframe\">\n",
              "  <thead>\n",
              "    <tr style=\"text-align: right;\">\n",
              "      <th></th>\n",
              "      <th>A</th>\n",
              "      <th>B</th>\n",
              "      <th>C</th>\n",
              "    </tr>\n",
              "  </thead>\n",
              "  <tbody>\n",
              "    <tr>\n",
              "      <th>0</th>\n",
              "      <td>110.0</td>\n",
              "      <td>30.0</td>\n",
              "      <td>NaN</td>\n",
              "    </tr>\n",
              "    <tr>\n",
              "      <th>1</th>\n",
              "      <td>90.0</td>\n",
              "      <td>45.0</td>\n",
              "      <td>40.0</td>\n",
              "    </tr>\n",
              "    <tr>\n",
              "      <th>2</th>\n",
              "      <td>NaN</td>\n",
              "      <td>56.0</td>\n",
              "      <td>80.0</td>\n",
              "    </tr>\n",
              "    <tr>\n",
              "      <th>3</th>\n",
              "      <td>95.0</td>\n",
              "      <td>NaN</td>\n",
              "      <td>98.0</td>\n",
              "    </tr>\n",
              "  </tbody>\n",
              "</table>\n",
              "</div>"
            ],
            "text/plain": [
              "       A     B     C\n",
              "0  110.0  30.0   NaN\n",
              "1   90.0  45.0  40.0\n",
              "2    NaN  56.0  80.0\n",
              "3   95.0   NaN  98.0"
            ]
          },
          "metadata": {},
          "execution_count": 3
        }
      ]
    },
    {
      "cell_type": "code",
      "metadata": {
        "colab": {
          "base_uri": "https://localhost:8080/",
          "height": 172
        },
        "id": "hFe7wYqIRnLR",
        "outputId": "da4e99ff-9371-44b3-f6ab-62f980b818fa"
      },
      "source": [
        "#()안의 특정 단일값으로 채우기. '문자열'도 가능\n",
        "df_0 = df.fillna(0)\n",
        "df_0"
      ],
      "execution_count": null,
      "outputs": [
        {
          "output_type": "execute_result",
          "data": {
            "text/html": [
              "<div>\n",
              "<style scoped>\n",
              "    .dataframe tbody tr th:only-of-type {\n",
              "        vertical-align: middle;\n",
              "    }\n",
              "\n",
              "    .dataframe tbody tr th {\n",
              "        vertical-align: top;\n",
              "    }\n",
              "\n",
              "    .dataframe thead th {\n",
              "        text-align: right;\n",
              "    }\n",
              "</style>\n",
              "<table border=\"1\" class=\"dataframe\">\n",
              "  <thead>\n",
              "    <tr style=\"text-align: right;\">\n",
              "      <th></th>\n",
              "      <th>A</th>\n",
              "      <th>B</th>\n",
              "      <th>C</th>\n",
              "    </tr>\n",
              "  </thead>\n",
              "  <tbody>\n",
              "    <tr>\n",
              "      <th>0</th>\n",
              "      <td>110.0</td>\n",
              "      <td>30.0</td>\n",
              "      <td>0.0</td>\n",
              "    </tr>\n",
              "    <tr>\n",
              "      <th>1</th>\n",
              "      <td>90.0</td>\n",
              "      <td>45.0</td>\n",
              "      <td>40.0</td>\n",
              "    </tr>\n",
              "    <tr>\n",
              "      <th>2</th>\n",
              "      <td>0.0</td>\n",
              "      <td>56.0</td>\n",
              "      <td>80.0</td>\n",
              "    </tr>\n",
              "    <tr>\n",
              "      <th>3</th>\n",
              "      <td>95.0</td>\n",
              "      <td>0.0</td>\n",
              "      <td>98.0</td>\n",
              "    </tr>\n",
              "  </tbody>\n",
              "</table>\n",
              "</div>"
            ],
            "text/plain": [
              "       A     B     C\n",
              "0  110.0  30.0   0.0\n",
              "1   90.0  45.0  40.0\n",
              "2    0.0  56.0  80.0\n",
              "3   95.0   0.0  98.0"
            ]
          },
          "metadata": {},
          "execution_count": 4
        }
      ]
    },
    {
      "cell_type": "code",
      "metadata": {
        "colab": {
          "base_uri": "https://localhost:8080/",
          "height": 172
        },
        "id": "Rt6J9mg4RnUL",
        "outputId": "07f2dc99-82d6-45af-e8c3-02d505304cc8"
      },
      "source": [
        "#결측치 이전 셀값으로 채우기\n",
        "df_a = df.fillna(method='ffill') # pad도 가능, bfill과의 일관성을 위해\n",
        "df_a\n"
      ],
      "execution_count": null,
      "outputs": [
        {
          "output_type": "execute_result",
          "data": {
            "text/html": [
              "<div>\n",
              "<style scoped>\n",
              "    .dataframe tbody tr th:only-of-type {\n",
              "        vertical-align: middle;\n",
              "    }\n",
              "\n",
              "    .dataframe tbody tr th {\n",
              "        vertical-align: top;\n",
              "    }\n",
              "\n",
              "    .dataframe thead th {\n",
              "        text-align: right;\n",
              "    }\n",
              "</style>\n",
              "<table border=\"1\" class=\"dataframe\">\n",
              "  <thead>\n",
              "    <tr style=\"text-align: right;\">\n",
              "      <th></th>\n",
              "      <th>A</th>\n",
              "      <th>B</th>\n",
              "      <th>C</th>\n",
              "    </tr>\n",
              "  </thead>\n",
              "  <tbody>\n",
              "    <tr>\n",
              "      <th>0</th>\n",
              "      <td>110.0</td>\n",
              "      <td>30.0</td>\n",
              "      <td>NaN</td>\n",
              "    </tr>\n",
              "    <tr>\n",
              "      <th>1</th>\n",
              "      <td>90.0</td>\n",
              "      <td>45.0</td>\n",
              "      <td>40.0</td>\n",
              "    </tr>\n",
              "    <tr>\n",
              "      <th>2</th>\n",
              "      <td>90.0</td>\n",
              "      <td>56.0</td>\n",
              "      <td>80.0</td>\n",
              "    </tr>\n",
              "    <tr>\n",
              "      <th>3</th>\n",
              "      <td>95.0</td>\n",
              "      <td>56.0</td>\n",
              "      <td>98.0</td>\n",
              "    </tr>\n",
              "  </tbody>\n",
              "</table>\n",
              "</div>"
            ],
            "text/plain": [
              "       A     B     C\n",
              "0  110.0  30.0   NaN\n",
              "1   90.0  45.0  40.0\n",
              "2   90.0  56.0  80.0\n",
              "3   95.0  56.0  98.0"
            ]
          },
          "metadata": {},
          "execution_count": 5
        }
      ]
    },
    {
      "cell_type": "code",
      "metadata": {
        "colab": {
          "base_uri": "https://localhost:8080/",
          "height": 174
        },
        "id": "u7FVS0zFRnbw",
        "outputId": "f8f5bc7d-c2e3-4fcb-a8ee-bf55bbac016f"
      },
      "source": [
        "#결측치 이후 셀값으로 채우기\n",
        "df_b = df.fillna(method='bfill')\n",
        "df_b"
      ],
      "execution_count": null,
      "outputs": [
        {
          "output_type": "execute_result",
          "data": {
            "text/html": [
              "<div>\n",
              "<style scoped>\n",
              "    .dataframe tbody tr th:only-of-type {\n",
              "        vertical-align: middle;\n",
              "    }\n",
              "\n",
              "    .dataframe tbody tr th {\n",
              "        vertical-align: top;\n",
              "    }\n",
              "\n",
              "    .dataframe thead th {\n",
              "        text-align: right;\n",
              "    }\n",
              "</style>\n",
              "<table border=\"1\" class=\"dataframe\">\n",
              "  <thead>\n",
              "    <tr style=\"text-align: right;\">\n",
              "      <th></th>\n",
              "      <th>A</th>\n",
              "      <th>B</th>\n",
              "      <th>C</th>\n",
              "    </tr>\n",
              "  </thead>\n",
              "  <tbody>\n",
              "    <tr>\n",
              "      <th>0</th>\n",
              "      <td>110.0</td>\n",
              "      <td>30.0</td>\n",
              "      <td>40.0</td>\n",
              "    </tr>\n",
              "    <tr>\n",
              "      <th>1</th>\n",
              "      <td>90.0</td>\n",
              "      <td>45.0</td>\n",
              "      <td>40.0</td>\n",
              "    </tr>\n",
              "    <tr>\n",
              "      <th>2</th>\n",
              "      <td>95.0</td>\n",
              "      <td>56.0</td>\n",
              "      <td>80.0</td>\n",
              "    </tr>\n",
              "    <tr>\n",
              "      <th>3</th>\n",
              "      <td>95.0</td>\n",
              "      <td>NaN</td>\n",
              "      <td>98.0</td>\n",
              "    </tr>\n",
              "  </tbody>\n",
              "</table>\n",
              "</div>"
            ],
            "text/plain": [
              "       A     B     C\n",
              "0  110.0  30.0  40.0\n",
              "1   90.0  45.0  40.0\n",
              "2   95.0  56.0  80.0\n",
              "3   95.0   NaN  98.0"
            ]
          },
          "metadata": {},
          "execution_count": 6
        }
      ]
    },
    {
      "cell_type": "code",
      "metadata": {
        "colab": {
          "base_uri": "https://localhost:8080/",
          "height": 174
        },
        "id": "ZKgCgM5_RniH",
        "outputId": "70063d64-7a1d-40d3-80df-e44c5964ee3b"
      },
      "source": [
        "#(결측치, 원하는 값)으로 바꾸어 준다. \n",
        "df_R = df.replace(np.nan, 'R')\n",
        "df_R\n"
      ],
      "execution_count": null,
      "outputs": [
        {
          "output_type": "execute_result",
          "data": {
            "text/html": [
              "<div>\n",
              "<style scoped>\n",
              "    .dataframe tbody tr th:only-of-type {\n",
              "        vertical-align: middle;\n",
              "    }\n",
              "\n",
              "    .dataframe tbody tr th {\n",
              "        vertical-align: top;\n",
              "    }\n",
              "\n",
              "    .dataframe thead th {\n",
              "        text-align: right;\n",
              "    }\n",
              "</style>\n",
              "<table border=\"1\" class=\"dataframe\">\n",
              "  <thead>\n",
              "    <tr style=\"text-align: right;\">\n",
              "      <th></th>\n",
              "      <th>A</th>\n",
              "      <th>B</th>\n",
              "      <th>C</th>\n",
              "    </tr>\n",
              "  </thead>\n",
              "  <tbody>\n",
              "    <tr>\n",
              "      <th>0</th>\n",
              "      <td>110</td>\n",
              "      <td>30</td>\n",
              "      <td>R</td>\n",
              "    </tr>\n",
              "    <tr>\n",
              "      <th>1</th>\n",
              "      <td>90</td>\n",
              "      <td>45</td>\n",
              "      <td>40</td>\n",
              "    </tr>\n",
              "    <tr>\n",
              "      <th>2</th>\n",
              "      <td>R</td>\n",
              "      <td>56</td>\n",
              "      <td>80</td>\n",
              "    </tr>\n",
              "    <tr>\n",
              "      <th>3</th>\n",
              "      <td>95</td>\n",
              "      <td>R</td>\n",
              "      <td>98</td>\n",
              "    </tr>\n",
              "  </tbody>\n",
              "</table>\n",
              "</div>"
            ],
            "text/plain": [
              "     A   B   C\n",
              "0  110  30   R\n",
              "1   90  45  40\n",
              "2    R  56  80\n",
              "3   95   R  98"
            ]
          },
          "metadata": {},
          "execution_count": 9
        }
      ]
    },
    {
      "cell_type": "code",
      "metadata": {
        "colab": {
          "base_uri": "https://localhost:8080/",
          "height": 174
        },
        "id": "oGrnqMFlRnpD",
        "outputId": "a84e03f3-03c1-4a86-d01d-f0d7efc9b45b"
      },
      "source": [
        "#선형방정식-forward\n",
        "df_inter_L = df.interpolate(method='linear', limit_direction='forward')\n",
        "df_inter_L"
      ],
      "execution_count": null,
      "outputs": [
        {
          "output_type": "execute_result",
          "data": {
            "text/html": [
              "<div>\n",
              "<style scoped>\n",
              "    .dataframe tbody tr th:only-of-type {\n",
              "        vertical-align: middle;\n",
              "    }\n",
              "\n",
              "    .dataframe tbody tr th {\n",
              "        vertical-align: top;\n",
              "    }\n",
              "\n",
              "    .dataframe thead th {\n",
              "        text-align: right;\n",
              "    }\n",
              "</style>\n",
              "<table border=\"1\" class=\"dataframe\">\n",
              "  <thead>\n",
              "    <tr style=\"text-align: right;\">\n",
              "      <th></th>\n",
              "      <th>A</th>\n",
              "      <th>B</th>\n",
              "      <th>C</th>\n",
              "    </tr>\n",
              "  </thead>\n",
              "  <tbody>\n",
              "    <tr>\n",
              "      <th>0</th>\n",
              "      <td>110.0</td>\n",
              "      <td>30.0</td>\n",
              "      <td>NaN</td>\n",
              "    </tr>\n",
              "    <tr>\n",
              "      <th>1</th>\n",
              "      <td>90.0</td>\n",
              "      <td>45.0</td>\n",
              "      <td>40.0</td>\n",
              "    </tr>\n",
              "    <tr>\n",
              "      <th>2</th>\n",
              "      <td>92.5</td>\n",
              "      <td>56.0</td>\n",
              "      <td>80.0</td>\n",
              "    </tr>\n",
              "    <tr>\n",
              "      <th>3</th>\n",
              "      <td>95.0</td>\n",
              "      <td>56.0</td>\n",
              "      <td>98.0</td>\n",
              "    </tr>\n",
              "  </tbody>\n",
              "</table>\n",
              "</div>"
            ],
            "text/plain": [
              "       A     B     C\n",
              "0  110.0  30.0   NaN\n",
              "1   90.0  45.0  40.0\n",
              "2   92.5  56.0  80.0\n",
              "3   95.0  56.0  98.0"
            ]
          },
          "metadata": {},
          "execution_count": 10
        }
      ]
    },
    {
      "cell_type": "code",
      "metadata": {
        "colab": {
          "base_uri": "https://localhost:8080/",
          "height": 174
        },
        "id": "aF25gUfTRnwj",
        "outputId": "9876bb95-faad-4580-bf36-2fa5c1cca0ba"
      },
      "source": [
        "#선형방정식-backward\n",
        "df_inter_L = df.interpolate(method='linear', limit_direction='backward')\n",
        "df_inter_L\n"
      ],
      "execution_count": null,
      "outputs": [
        {
          "output_type": "execute_result",
          "data": {
            "text/html": [
              "<div>\n",
              "<style scoped>\n",
              "    .dataframe tbody tr th:only-of-type {\n",
              "        vertical-align: middle;\n",
              "    }\n",
              "\n",
              "    .dataframe tbody tr th {\n",
              "        vertical-align: top;\n",
              "    }\n",
              "\n",
              "    .dataframe thead th {\n",
              "        text-align: right;\n",
              "    }\n",
              "</style>\n",
              "<table border=\"1\" class=\"dataframe\">\n",
              "  <thead>\n",
              "    <tr style=\"text-align: right;\">\n",
              "      <th></th>\n",
              "      <th>A</th>\n",
              "      <th>B</th>\n",
              "      <th>C</th>\n",
              "    </tr>\n",
              "  </thead>\n",
              "  <tbody>\n",
              "    <tr>\n",
              "      <th>0</th>\n",
              "      <td>110.0</td>\n",
              "      <td>30.0</td>\n",
              "      <td>40.0</td>\n",
              "    </tr>\n",
              "    <tr>\n",
              "      <th>1</th>\n",
              "      <td>90.0</td>\n",
              "      <td>45.0</td>\n",
              "      <td>40.0</td>\n",
              "    </tr>\n",
              "    <tr>\n",
              "      <th>2</th>\n",
              "      <td>92.5</td>\n",
              "      <td>56.0</td>\n",
              "      <td>80.0</td>\n",
              "    </tr>\n",
              "    <tr>\n",
              "      <th>3</th>\n",
              "      <td>95.0</td>\n",
              "      <td>NaN</td>\n",
              "      <td>98.0</td>\n",
              "    </tr>\n",
              "  </tbody>\n",
              "</table>\n",
              "</div>"
            ],
            "text/plain": [
              "       A     B     C\n",
              "0  110.0  30.0  40.0\n",
              "1   90.0  45.0  40.0\n",
              "2   92.5  56.0  80.0\n",
              "3   95.0   NaN  98.0"
            ]
          },
          "metadata": {},
          "execution_count": 11
        }
      ]
    },
    {
      "cell_type": "code",
      "metadata": {
        "colab": {
          "base_uri": "https://localhost:8080/",
          "height": 174
        },
        "id": "vbZNsaE3Rn22",
        "outputId": "04a69900-dce4-4845-a5c5-cabad94fb3ac"
      },
      "source": [
        "#(3-2) 다차다항식\n",
        "df_inter_P = df.interpolate(method='polynomial', order=2)\n",
        "df_inter_P"
      ],
      "execution_count": null,
      "outputs": [
        {
          "output_type": "execute_result",
          "data": {
            "text/html": [
              "<div>\n",
              "<style scoped>\n",
              "    .dataframe tbody tr th:only-of-type {\n",
              "        vertical-align: middle;\n",
              "    }\n",
              "\n",
              "    .dataframe tbody tr th {\n",
              "        vertical-align: top;\n",
              "    }\n",
              "\n",
              "    .dataframe thead th {\n",
              "        text-align: right;\n",
              "    }\n",
              "</style>\n",
              "<table border=\"1\" class=\"dataframe\">\n",
              "  <thead>\n",
              "    <tr style=\"text-align: right;\">\n",
              "      <th></th>\n",
              "      <th>A</th>\n",
              "      <th>B</th>\n",
              "      <th>C</th>\n",
              "    </tr>\n",
              "  </thead>\n",
              "  <tbody>\n",
              "    <tr>\n",
              "      <th>0</th>\n",
              "      <td>110.0</td>\n",
              "      <td>30.0</td>\n",
              "      <td>NaN</td>\n",
              "    </tr>\n",
              "    <tr>\n",
              "      <th>1</th>\n",
              "      <td>90.0</td>\n",
              "      <td>45.0</td>\n",
              "      <td>40.0</td>\n",
              "    </tr>\n",
              "    <tr>\n",
              "      <th>2</th>\n",
              "      <td>85.0</td>\n",
              "      <td>56.0</td>\n",
              "      <td>80.0</td>\n",
              "    </tr>\n",
              "    <tr>\n",
              "      <th>3</th>\n",
              "      <td>95.0</td>\n",
              "      <td>NaN</td>\n",
              "      <td>98.0</td>\n",
              "    </tr>\n",
              "  </tbody>\n",
              "</table>\n",
              "</div>"
            ],
            "text/plain": [
              "       A     B     C\n",
              "0  110.0  30.0   NaN\n",
              "1   90.0  45.0  40.0\n",
              "2   85.0  56.0  80.0\n",
              "3   95.0   NaN  98.0"
            ]
          },
          "metadata": {},
          "execution_count": 12
        }
      ]
    },
    {
      "cell_type": "code",
      "metadata": {
        "id": "1klSFTOBC1M4"
      },
      "source": [
        ""
      ],
      "execution_count": null,
      "outputs": []
    },
    {
      "cell_type": "code",
      "metadata": {
        "id": "OE-bNaLPOjom"
      },
      "source": [
        "import pandas as pd\n",
        "import numpy as np\n",
        "import matplotlib.pyplot as plt\n",
        "\n",
        "import warnings\n",
        "warnings.filterwarnings('ignore')"
      ],
      "execution_count": null,
      "outputs": []
    },
    {
      "cell_type": "code",
      "metadata": {
        "colab": {
          "resources": {
            "http://localhost:8080/nbextensions/google.colab/files.js": {
              "data": "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",
              "ok": true,
              "headers": [
                [
                  "content-type",
                  "application/javascript"
                ]
              ],
              "status": 200,
              "status_text": ""
            }
          },
          "base_uri": "https://localhost:8080/",
          "height": 76
        },
        "id": "6EcLh1XFPbhI",
        "outputId": "bdb0c9a3-eac5-4187-a914-b26a86f8dcf4"
      },
      "source": [
        "from google.colab import files\n",
        "uploaded=files.upload()"
      ],
      "execution_count": null,
      "outputs": [
        {
          "output_type": "display_data",
          "data": {
            "text/html": [
              "\n",
              "     <input type=\"file\" id=\"files-367064fd-f52b-4733-96f2-a69f79ce3023\" name=\"files[]\" multiple disabled\n",
              "        style=\"border:none\" />\n",
              "     <output id=\"result-367064fd-f52b-4733-96f2-a69f79ce3023\">\n",
              "      Upload widget is only available when the cell has been executed in the\n",
              "      current browser session. Please rerun this cell to enable.\n",
              "      </output>\n",
              "      <script src=\"/nbextensions/google.colab/files.js\"></script> "
            ],
            "text/plain": [
              "<IPython.core.display.HTML object>"
            ]
          },
          "metadata": {}
        },
        {
          "output_type": "stream",
          "name": "stdout",
          "text": [
            "Saving chipotle.tsv to chipotle.tsv\n"
          ]
        }
      ]
    },
    {
      "cell_type": "code",
      "metadata": {
        "colab": {
          "base_uri": "https://localhost:8080/",
          "height": 203
        },
        "id": "h6jDwKkfPbr3",
        "outputId": "08bfc529-5575-4b9c-cbcd-c800b6740fd7"
      },
      "source": [
        "import io\n",
        "chipo = pd.read_csv(io.BytesIO(uploaded['chipotle.tsv']), sep='\\t')# csv이면 sep이 없어도 된다. tsv는 반드시 있어야 한다. \n",
        "chipo.head()"
      ],
      "execution_count": null,
      "outputs": [
        {
          "output_type": "execute_result",
          "data": {
            "text/html": [
              "<div>\n",
              "<style scoped>\n",
              "    .dataframe tbody tr th:only-of-type {\n",
              "        vertical-align: middle;\n",
              "    }\n",
              "\n",
              "    .dataframe tbody tr th {\n",
              "        vertical-align: top;\n",
              "    }\n",
              "\n",
              "    .dataframe thead th {\n",
              "        text-align: right;\n",
              "    }\n",
              "</style>\n",
              "<table border=\"1\" class=\"dataframe\">\n",
              "  <thead>\n",
              "    <tr style=\"text-align: right;\">\n",
              "      <th></th>\n",
              "      <th>order_id</th>\n",
              "      <th>quantity</th>\n",
              "      <th>item_name</th>\n",
              "      <th>choice_description</th>\n",
              "      <th>item_price</th>\n",
              "    </tr>\n",
              "  </thead>\n",
              "  <tbody>\n",
              "    <tr>\n",
              "      <th>0</th>\n",
              "      <td>1</td>\n",
              "      <td>1</td>\n",
              "      <td>Chips and Fresh Tomato Salsa</td>\n",
              "      <td>NaN</td>\n",
              "      <td>$2.39</td>\n",
              "    </tr>\n",
              "    <tr>\n",
              "      <th>1</th>\n",
              "      <td>1</td>\n",
              "      <td>1</td>\n",
              "      <td>Izze</td>\n",
              "      <td>[Clementine]</td>\n",
              "      <td>$3.39</td>\n",
              "    </tr>\n",
              "    <tr>\n",
              "      <th>2</th>\n",
              "      <td>1</td>\n",
              "      <td>1</td>\n",
              "      <td>Nantucket Nectar</td>\n",
              "      <td>[Apple]</td>\n",
              "      <td>$3.39</td>\n",
              "    </tr>\n",
              "    <tr>\n",
              "      <th>3</th>\n",
              "      <td>1</td>\n",
              "      <td>1</td>\n",
              "      <td>Chips and Tomatillo-Green Chili Salsa</td>\n",
              "      <td>NaN</td>\n",
              "      <td>$2.39</td>\n",
              "    </tr>\n",
              "    <tr>\n",
              "      <th>4</th>\n",
              "      <td>2</td>\n",
              "      <td>2</td>\n",
              "      <td>Chicken Bowl</td>\n",
              "      <td>[Tomatillo-Red Chili Salsa (Hot), [Black Beans...</td>\n",
              "      <td>$16.98</td>\n",
              "    </tr>\n",
              "  </tbody>\n",
              "</table>\n",
              "</div>"
            ],
            "text/plain": [
              "   order_id  ...  item_price\n",
              "0         1  ...      $2.39 \n",
              "1         1  ...      $3.39 \n",
              "2         1  ...      $3.39 \n",
              "3         1  ...      $2.39 \n",
              "4         2  ...     $16.98 \n",
              "\n",
              "[5 rows x 5 columns]"
            ]
          },
          "metadata": {},
          "execution_count": 3
        }
      ]
    },
    {
      "cell_type": "code",
      "metadata": {
        "colab": {
          "base_uri": "https://localhost:8080/"
        },
        "id": "cIeZCJ0IPb2o",
        "outputId": "b2a02b66-788f-4fe9-fc01-480c1ceebf8f"
      },
      "source": [
        "print(chipo.shape,'\\n')\n",
        "print('===============================================', '\\n')\n",
        "print(chipo.info()) #데이터 타입과 결측치를 확인가능하다. "
      ],
      "execution_count": null,
      "outputs": [
        {
          "output_type": "stream",
          "name": "stdout",
          "text": [
            "(4622, 5) \n",
            "\n",
            "=============================================== \n",
            "\n",
            "<class 'pandas.core.frame.DataFrame'>\n",
            "RangeIndex: 4622 entries, 0 to 4621\n",
            "Data columns (total 5 columns):\n",
            " #   Column              Non-Null Count  Dtype \n",
            "---  ------              --------------  ----- \n",
            " 0   order_id            4622 non-null   int64 \n",
            " 1   quantity            4622 non-null   int64 \n",
            " 2   item_name           4622 non-null   object\n",
            " 3   choice_description  3376 non-null   object\n",
            " 4   item_price          4622 non-null   object\n",
            "dtypes: int64(2), object(3)\n",
            "memory usage: 180.7+ KB\n",
            "None\n"
          ]
        }
      ]
    },
    {
      "cell_type": "code",
      "metadata": {
        "colab": {
          "base_uri": "https://localhost:8080/",
          "height": 357
        },
        "id": "j3op6o6rPcAG",
        "outputId": "0e6c469e-7848-4154-cf2e-58ab8c937125"
      },
      "source": [
        "chipo.head(10)"
      ],
      "execution_count": null,
      "outputs": [
        {
          "output_type": "execute_result",
          "data": {
            "text/html": [
              "<div>\n",
              "<style scoped>\n",
              "    .dataframe tbody tr th:only-of-type {\n",
              "        vertical-align: middle;\n",
              "    }\n",
              "\n",
              "    .dataframe tbody tr th {\n",
              "        vertical-align: top;\n",
              "    }\n",
              "\n",
              "    .dataframe thead th {\n",
              "        text-align: right;\n",
              "    }\n",
              "</style>\n",
              "<table border=\"1\" class=\"dataframe\">\n",
              "  <thead>\n",
              "    <tr style=\"text-align: right;\">\n",
              "      <th></th>\n",
              "      <th>order_id</th>\n",
              "      <th>quantity</th>\n",
              "      <th>item_name</th>\n",
              "      <th>choice_description</th>\n",
              "      <th>item_price</th>\n",
              "    </tr>\n",
              "  </thead>\n",
              "  <tbody>\n",
              "    <tr>\n",
              "      <th>0</th>\n",
              "      <td>1</td>\n",
              "      <td>1</td>\n",
              "      <td>Chips and Fresh Tomato Salsa</td>\n",
              "      <td>NaN</td>\n",
              "      <td>$2.39</td>\n",
              "    </tr>\n",
              "    <tr>\n",
              "      <th>1</th>\n",
              "      <td>1</td>\n",
              "      <td>1</td>\n",
              "      <td>Izze</td>\n",
              "      <td>[Clementine]</td>\n",
              "      <td>$3.39</td>\n",
              "    </tr>\n",
              "    <tr>\n",
              "      <th>2</th>\n",
              "      <td>1</td>\n",
              "      <td>1</td>\n",
              "      <td>Nantucket Nectar</td>\n",
              "      <td>[Apple]</td>\n",
              "      <td>$3.39</td>\n",
              "    </tr>\n",
              "    <tr>\n",
              "      <th>3</th>\n",
              "      <td>1</td>\n",
              "      <td>1</td>\n",
              "      <td>Chips and Tomatillo-Green Chili Salsa</td>\n",
              "      <td>NaN</td>\n",
              "      <td>$2.39</td>\n",
              "    </tr>\n",
              "    <tr>\n",
              "      <th>4</th>\n",
              "      <td>2</td>\n",
              "      <td>2</td>\n",
              "      <td>Chicken Bowl</td>\n",
              "      <td>[Tomatillo-Red Chili Salsa (Hot), [Black Beans...</td>\n",
              "      <td>$16.98</td>\n",
              "    </tr>\n",
              "    <tr>\n",
              "      <th>5</th>\n",
              "      <td>3</td>\n",
              "      <td>1</td>\n",
              "      <td>Chicken Bowl</td>\n",
              "      <td>[Fresh Tomato Salsa (Mild), [Rice, Cheese, Sou...</td>\n",
              "      <td>$10.98</td>\n",
              "    </tr>\n",
              "    <tr>\n",
              "      <th>6</th>\n",
              "      <td>3</td>\n",
              "      <td>1</td>\n",
              "      <td>Side of Chips</td>\n",
              "      <td>NaN</td>\n",
              "      <td>$1.69</td>\n",
              "    </tr>\n",
              "    <tr>\n",
              "      <th>7</th>\n",
              "      <td>4</td>\n",
              "      <td>1</td>\n",
              "      <td>Steak Burrito</td>\n",
              "      <td>[Tomatillo Red Chili Salsa, [Fajita Vegetables...</td>\n",
              "      <td>$11.75</td>\n",
              "    </tr>\n",
              "    <tr>\n",
              "      <th>8</th>\n",
              "      <td>4</td>\n",
              "      <td>1</td>\n",
              "      <td>Steak Soft Tacos</td>\n",
              "      <td>[Tomatillo Green Chili Salsa, [Pinto Beans, Ch...</td>\n",
              "      <td>$9.25</td>\n",
              "    </tr>\n",
              "    <tr>\n",
              "      <th>9</th>\n",
              "      <td>5</td>\n",
              "      <td>1</td>\n",
              "      <td>Steak Burrito</td>\n",
              "      <td>[Fresh Tomato Salsa, [Rice, Black Beans, Pinto...</td>\n",
              "      <td>$9.25</td>\n",
              "    </tr>\n",
              "  </tbody>\n",
              "</table>\n",
              "</div>"
            ],
            "text/plain": [
              "   order_id  ...  item_price\n",
              "0         1  ...      $2.39 \n",
              "1         1  ...      $3.39 \n",
              "2         1  ...      $3.39 \n",
              "3         1  ...      $2.39 \n",
              "4         2  ...     $16.98 \n",
              "5         3  ...     $10.98 \n",
              "6         3  ...      $1.69 \n",
              "7         4  ...     $11.75 \n",
              "8         4  ...      $9.25 \n",
              "9         5  ...      $9.25 \n",
              "\n",
              "[10 rows x 5 columns]"
            ]
          },
          "metadata": {},
          "execution_count": 14
        }
      ]
    },
    {
      "cell_type": "code",
      "metadata": {
        "colab": {
          "base_uri": "https://localhost:8080/"
        },
        "id": "dVqOSGoqPcJg",
        "outputId": "fce9b294-ed90-4675-83c1-a56359cb1dd1"
      },
      "source": [
        "print(chipo.describe()) #기본 수치 통계 계산"
      ],
      "execution_count": null,
      "outputs": [
        {
          "output_type": "stream",
          "name": "stdout",
          "text": [
            "          order_id     quantity\n",
            "count  4622.000000  4622.000000\n",
            "mean    927.254868     1.075725\n",
            "std     528.890796     0.410186\n",
            "min       1.000000     1.000000\n",
            "25%     477.250000     1.000000\n",
            "50%     926.000000     1.000000\n",
            "75%    1393.000000     1.000000\n",
            "max    1834.000000    15.000000\n"
          ]
        }
      ]
    },
    {
      "cell_type": "code",
      "metadata": {
        "colab": {
          "base_uri": "https://localhost:8080/"
        },
        "id": "EaxKuXHjPcSn",
        "outputId": "4b2a2746-fd23-436f-c99b-95ad4a241bca"
      },
      "source": [
        "chipo['order_id']=chipo['order_id'].astype(str)#order id는 의미없는 수치형이라서  문자형으로 바꾸고 통계에서 제외\n",
        "print(chipo.describe())"
      ],
      "execution_count": null,
      "outputs": [
        {
          "output_type": "stream",
          "name": "stdout",
          "text": [
            "          quantity\n",
            "count  4622.000000\n",
            "mean      1.075725\n",
            "std       0.410186\n",
            "min       1.000000\n",
            "25%       1.000000\n",
            "50%       1.000000\n",
            "75%       1.000000\n",
            "max      15.000000\n"
          ]
        }
      ]
    },
    {
      "cell_type": "code",
      "metadata": {
        "colab": {
          "base_uri": "https://localhost:8080/"
        },
        "id": "neR1-1oa7zP9",
        "outputId": "c8bea6ee-48d2-4373-dc90-425bdc536d2c"
      },
      "source": [
        "print(chipo.describe())"
      ],
      "execution_count": null,
      "outputs": [
        {
          "output_type": "stream",
          "name": "stdout",
          "text": [
            "          quantity\n",
            "count  4622.000000\n",
            "mean      1.075725\n",
            "std       0.410186\n",
            "min       1.000000\n",
            "25%       1.000000\n",
            "50%       1.000000\n",
            "75%       1.000000\n",
            "max      15.000000\n"
          ]
        }
      ]
    },
    {
      "cell_type": "code",
      "metadata": {
        "colab": {
          "base_uri": "https://localhost:8080/"
        },
        "id": "m7mdoPqG75R1",
        "outputId": "1ca23892-0402-4de9-8ec1-9e9c2a95311a"
      },
      "source": [
        "print(chipo.shape,'\\n')\n",
        "print('===============================================', '\\n')\n",
        "print(chipo.info()) #데이터 타입과 결측치를 확인가능하다. "
      ],
      "execution_count": null,
      "outputs": [
        {
          "output_type": "stream",
          "name": "stdout",
          "text": [
            "(4622, 5) \n",
            "\n",
            "=============================================== \n",
            "\n",
            "<class 'pandas.core.frame.DataFrame'>\n",
            "RangeIndex: 4622 entries, 0 to 4621\n",
            "Data columns (total 5 columns):\n",
            " #   Column              Non-Null Count  Dtype \n",
            "---  ------              --------------  ----- \n",
            " 0   order_id            4622 non-null   object\n",
            " 1   quantity            4622 non-null   int64 \n",
            " 2   item_name           4622 non-null   object\n",
            " 3   choice_description  3376 non-null   object\n",
            " 4   item_price          4622 non-null   object\n",
            "dtypes: int64(1), object(4)\n",
            "memory usage: 180.7+ KB\n",
            "None\n"
          ]
        }
      ]
    },
    {
      "cell_type": "markdown",
      "metadata": {
        "id": "OTNxSql0Pcbp"
      },
      "source": [
        "##질문 가장 많이 주문한 메뉴는 ?"
      ]
    },
    {
      "cell_type": "markdown",
      "metadata": {
        "id": "3eY3nApG7pWR"
      },
      "source": [
        ""
      ]
    },
    {
      "cell_type": "code",
      "metadata": {
        "colab": {
          "base_uri": "https://localhost:8080/"
        },
        "id": "LD7wSweCPclZ",
        "outputId": "98fa3f6e-0af9-4d5a-8573-a8da960040d0"
      },
      "source": [
        "print(chipo['item_name'].unique()) #중복제외하고 갯수 파악 용이\n",
        "print('==========================')\n",
        "print('주문메뉴 종류=', len(chipo['item_name'].unique()), '개')"
      ],
      "execution_count": null,
      "outputs": [
        {
          "output_type": "stream",
          "name": "stdout",
          "text": [
            "['Chips and Fresh Tomato Salsa' 'Izze' 'Nantucket Nectar'\n",
            " 'Chips and Tomatillo-Green Chili Salsa' 'Chicken Bowl' 'Side of Chips'\n",
            " 'Steak Burrito' 'Steak Soft Tacos' 'Chips and Guacamole'\n",
            " 'Chicken Crispy Tacos' 'Chicken Soft Tacos' 'Chicken Burrito'\n",
            " 'Canned Soda' 'Barbacoa Burrito' 'Carnitas Burrito' 'Carnitas Bowl'\n",
            " 'Bottled Water' 'Chips and Tomatillo Green Chili Salsa' 'Barbacoa Bowl'\n",
            " 'Chips' 'Chicken Salad Bowl' 'Steak Bowl' 'Barbacoa Soft Tacos'\n",
            " 'Veggie Burrito' 'Veggie Bowl' 'Steak Crispy Tacos'\n",
            " 'Chips and Tomatillo Red Chili Salsa' 'Barbacoa Crispy Tacos'\n",
            " 'Veggie Salad Bowl' 'Chips and Roasted Chili-Corn Salsa'\n",
            " 'Chips and Roasted Chili Corn Salsa' 'Carnitas Soft Tacos'\n",
            " 'Chicken Salad' 'Canned Soft Drink' 'Steak Salad Bowl'\n",
            " '6 Pack Soft Drink' 'Chips and Tomatillo-Red Chili Salsa' 'Bowl'\n",
            " 'Burrito' 'Crispy Tacos' 'Carnitas Crispy Tacos' 'Steak Salad'\n",
            " 'Chips and Mild Fresh Tomato Salsa' 'Veggie Soft Tacos'\n",
            " 'Carnitas Salad Bowl' 'Barbacoa Salad Bowl' 'Salad' 'Veggie Crispy Tacos'\n",
            " 'Veggie Salad' 'Carnitas Salad']\n",
            "==========================\n",
            "주문메뉴 종류= 50 개\n"
          ]
        }
      ]
    },
    {
      "cell_type": "code",
      "metadata": {
        "colab": {
          "base_uri": "https://localhost:8080/"
        },
        "id": "t9HgWkmfPcvD",
        "outputId": "c3401d50-090e-4d71-c1a7-68d1f178c785"
      },
      "source": [
        "item_count=chipo['item_name'].value_counts()[:10] # 위에서 조사한 상위 10개만 출력\n",
        "item_count.head(10)"
      ],
      "execution_count": null,
      "outputs": [
        {
          "output_type": "execute_result",
          "data": {
            "text/plain": [
              "Chicken Bowl           726\n",
              "Chicken Burrito        553\n",
              "Chips and Guacamole    479\n",
              "Steak Burrito          368\n",
              "Canned Soft Drink      301\n",
              "Chips                  211\n",
              "Steak Bowl             211\n",
              "Bottled Water          162\n",
              "Chicken Soft Tacos     115\n",
              "Chicken Salad Bowl     110\n",
              "Name: item_name, dtype: int64"
            ]
          },
          "metadata": {},
          "execution_count": 11
        }
      ]
    },
    {
      "cell_type": "code",
      "metadata": {
        "colab": {
          "base_uri": "https://localhost:8080/"
        },
        "id": "uP-BYbNTPc4A",
        "outputId": "a20f59f7-0fa7-4fa7-def9-cb24ae74f720"
      },
      "source": [
        "#enumerate는 순서와 값을 차례대로 제공한다. \n",
        "#iteritems는 키와 값을 순서대로 제공한다.\n",
        "for idx, (val, cnt) in enumerate(item_count.iteritems(), 1): #index를 1부터 부여, 없으면 0부터 시작함. \n",
        "    print('Top', idx, '메뉴: ',val, cnt, '개' )"
      ],
      "execution_count": null,
      "outputs": [
        {
          "output_type": "stream",
          "name": "stdout",
          "text": [
            "Top 1 메뉴:  Chicken Bowl 726 개\n",
            "Top 2 메뉴:  Chicken Burrito 553 개\n",
            "Top 3 메뉴:  Chips and Guacamole 479 개\n",
            "Top 4 메뉴:  Steak Burrito 368 개\n",
            "Top 5 메뉴:  Canned Soft Drink 301 개\n",
            "Top 6 메뉴:  Chips 211 개\n",
            "Top 7 메뉴:  Steak Bowl 211 개\n",
            "Top 8 메뉴:  Bottled Water 162 개\n",
            "Top 9 메뉴:  Chicken Soft Tacos 115 개\n",
            "Top 10 메뉴:  Chicken Salad Bowl 110 개\n"
          ]
        }
      ]
    },
    {
      "cell_type": "code",
      "metadata": {
        "colab": {
          "base_uri": "https://localhost:8080/"
        },
        "id": "ckv4mEaCPdA5",
        "outputId": "56ae90c4-76ff-4552-b7ba-e1af982ed11b"
      },
      "source": [
        "#for 반복문\n",
        "t = [1,5,7,9,11,13]\n",
        "for p in t:\n",
        "     print(p)\n",
        " \n",
        "print(type(p))"
      ],
      "execution_count": null,
      "outputs": [
        {
          "output_type": "stream",
          "name": "stdout",
          "text": [
            "1\n",
            "5\n",
            "7\n",
            "9\n",
            "11\n",
            "13\n",
            "<class 'int'>\n"
          ]
        }
      ]
    },
    {
      "cell_type": "code",
      "metadata": {
        "colab": {
          "base_uri": "https://localhost:8080/"
        },
        "id": "GflRwiA6PdJO",
        "outputId": "e9af4a96-f50c-4150-9210-e5831a9d7380"
      },
      "source": [
        "t = [1,5,7,9,11,13]\n",
        "for p in enumerate(t): #튜플형태로 출력, 인데스 부여\n",
        " print(p)\n",
        "print(type(p))"
      ],
      "execution_count": null,
      "outputs": [
        {
          "output_type": "stream",
          "name": "stdout",
          "text": [
            "(0, 1)\n",
            "(1, 5)\n",
            "(2, 7)\n",
            "(3, 9)\n",
            "(4, 11)\n",
            "(5, 13)\n",
            "<class 'tuple'>\n"
          ]
        }
      ]
    },
    {
      "cell_type": "markdown",
      "metadata": {
        "id": "-ALvSt6BPdRl"
      },
      "source": [
        "##메뉴 별 주문 개수와 주문 총량은?\n"
      ]
    },
    {
      "cell_type": "code",
      "metadata": {
        "colab": {
          "base_uri": "https://localhost:8080/"
        },
        "id": "1VBnWlP2PdZf",
        "outputId": "af78c438-f389-4867-e520-8dc1f447128e"
      },
      "source": [
        "#메뉴 별 주문 개수 출력\n",
        "#groupby().count()\n",
        "item_count = chipo.groupby('item_name')['quantity'].count()\n",
        "item_count[:10] # 알파벳 순으로 10개 출력\n"
      ],
      "execution_count": null,
      "outputs": [
        {
          "output_type": "execute_result",
          "data": {
            "text/plain": [
              "item_name\n",
              "6 Pack Soft Drink         54\n",
              "Barbacoa Bowl             66\n",
              "Barbacoa Burrito          91\n",
              "Barbacoa Crispy Tacos     11\n",
              "Barbacoa Salad Bowl       10\n",
              "Barbacoa Soft Tacos       25\n",
              "Bottled Water            162\n",
              "Bowl                       2\n",
              "Burrito                    6\n",
              "Canned Soda              104\n",
              "Name: quantity, dtype: int64"
            ]
          },
          "metadata": {},
          "execution_count": 15
        }
      ]
    },
    {
      "cell_type": "code",
      "metadata": {
        "colab": {
          "base_uri": "https://localhost:8080/"
        },
        "id": "hP148TJ5PdiD",
        "outputId": "8e06f8ea-ee97-4615-e8f4-d6320fb4929d"
      },
      "source": [
        "# 메뉴 별 주문 총량 출력\n",
        "#groupby().sum()\n",
        "item_quantity = chipo.groupby('item_name')['quantity'].sum()\n",
        "item_quantity[:10] "
      ],
      "execution_count": null,
      "outputs": [
        {
          "output_type": "execute_result",
          "data": {
            "text/plain": [
              "item_name\n",
              "6 Pack Soft Drink         55\n",
              "Barbacoa Bowl             66\n",
              "Barbacoa Burrito          91\n",
              "Barbacoa Crispy Tacos     12\n",
              "Barbacoa Salad Bowl       10\n",
              "Barbacoa Soft Tacos       25\n",
              "Bottled Water            211\n",
              "Bowl                       4\n",
              "Burrito                    6\n",
              "Canned Soda              126\n",
              "Name: quantity, dtype: int64"
            ]
          },
          "metadata": {},
          "execution_count": 16
        }
      ]
    },
    {
      "cell_type": "code",
      "metadata": {
        "colab": {
          "base_uri": "https://localhost:8080/",
          "height": 418
        },
        "id": "HOyqy98DPdp7",
        "outputId": "b778e73b-9f7e-4f5b-cc69-be4cb4a54ed3"
      },
      "source": [
        "#위 두 결과를 agg로 한 번에 출력\n",
        "Item_order_quantity=chipo.groupby('item_name').agg({'quantity':['count', 'sum']})\n",
        "Item_order_quantity[:10]"
      ],
      "execution_count": null,
      "outputs": [
        {
          "output_type": "execute_result",
          "data": {
            "text/html": [
              "<div>\n",
              "<style scoped>\n",
              "    .dataframe tbody tr th:only-of-type {\n",
              "        vertical-align: middle;\n",
              "    }\n",
              "\n",
              "    .dataframe tbody tr th {\n",
              "        vertical-align: top;\n",
              "    }\n",
              "\n",
              "    .dataframe thead tr th {\n",
              "        text-align: left;\n",
              "    }\n",
              "\n",
              "    .dataframe thead tr:last-of-type th {\n",
              "        text-align: right;\n",
              "    }\n",
              "</style>\n",
              "<table border=\"1\" class=\"dataframe\">\n",
              "  <thead>\n",
              "    <tr>\n",
              "      <th></th>\n",
              "      <th colspan=\"2\" halign=\"left\">quantity</th>\n",
              "    </tr>\n",
              "    <tr>\n",
              "      <th></th>\n",
              "      <th>count</th>\n",
              "      <th>sum</th>\n",
              "    </tr>\n",
              "    <tr>\n",
              "      <th>item_name</th>\n",
              "      <th></th>\n",
              "      <th></th>\n",
              "    </tr>\n",
              "  </thead>\n",
              "  <tbody>\n",
              "    <tr>\n",
              "      <th>6 Pack Soft Drink</th>\n",
              "      <td>54</td>\n",
              "      <td>55</td>\n",
              "    </tr>\n",
              "    <tr>\n",
              "      <th>Barbacoa Bowl</th>\n",
              "      <td>66</td>\n",
              "      <td>66</td>\n",
              "    </tr>\n",
              "    <tr>\n",
              "      <th>Barbacoa Burrito</th>\n",
              "      <td>91</td>\n",
              "      <td>91</td>\n",
              "    </tr>\n",
              "    <tr>\n",
              "      <th>Barbacoa Crispy Tacos</th>\n",
              "      <td>11</td>\n",
              "      <td>12</td>\n",
              "    </tr>\n",
              "    <tr>\n",
              "      <th>Barbacoa Salad Bowl</th>\n",
              "      <td>10</td>\n",
              "      <td>10</td>\n",
              "    </tr>\n",
              "    <tr>\n",
              "      <th>Barbacoa Soft Tacos</th>\n",
              "      <td>25</td>\n",
              "      <td>25</td>\n",
              "    </tr>\n",
              "    <tr>\n",
              "      <th>Bottled Water</th>\n",
              "      <td>162</td>\n",
              "      <td>211</td>\n",
              "    </tr>\n",
              "    <tr>\n",
              "      <th>Bowl</th>\n",
              "      <td>2</td>\n",
              "      <td>4</td>\n",
              "    </tr>\n",
              "    <tr>\n",
              "      <th>Burrito</th>\n",
              "      <td>6</td>\n",
              "      <td>6</td>\n",
              "    </tr>\n",
              "    <tr>\n",
              "      <th>Canned Soda</th>\n",
              "      <td>104</td>\n",
              "      <td>126</td>\n",
              "    </tr>\n",
              "  </tbody>\n",
              "</table>\n",
              "</div>"
            ],
            "text/plain": [
              "                      quantity     \n",
              "                         count  sum\n",
              "item_name                          \n",
              "6 Pack Soft Drink           54   55\n",
              "Barbacoa Bowl               66   66\n",
              "Barbacoa Burrito            91   91\n",
              "Barbacoa Crispy Tacos       11   12\n",
              "Barbacoa Salad Bowl         10   10\n",
              "Barbacoa Soft Tacos         25   25\n",
              "Bottled Water              162  211\n",
              "Bowl                         2    4\n",
              "Burrito                      6    6\n",
              "Canned Soda                104  126"
            ]
          },
          "metadata": {},
          "execution_count": 17
        }
      ]
    },
    {
      "cell_type": "markdown",
      "metadata": {
        "id": "7vqqulZ9Pdyi"
      },
      "source": [
        "#시각화 분석 결과(그래프 그리기)"
      ]
    },
    {
      "cell_type": "code",
      "metadata": {
        "id": "jBVlAQo0Pd5J",
        "colab": {
          "base_uri": "https://localhost:8080/"
        },
        "outputId": "547e1dd8-1a6d-48af-b91f-e415130e317e"
      },
      "source": [
        "# x-축에는 주문 항목에 해당하는 ‘item_quantity’의 index만 list 형태로 출력\n",
        "item_quantity.index.tolist()"
      ],
      "execution_count": null,
      "outputs": [
        {
          "output_type": "execute_result",
          "data": {
            "text/plain": [
              "['6 Pack Soft Drink',\n",
              " 'Barbacoa Bowl',\n",
              " 'Barbacoa Burrito',\n",
              " 'Barbacoa Crispy Tacos',\n",
              " 'Barbacoa Salad Bowl',\n",
              " 'Barbacoa Soft Tacos',\n",
              " 'Bottled Water',\n",
              " 'Bowl',\n",
              " 'Burrito',\n",
              " 'Canned Soda',\n",
              " 'Canned Soft Drink',\n",
              " 'Carnitas Bowl',\n",
              " 'Carnitas Burrito',\n",
              " 'Carnitas Crispy Tacos',\n",
              " 'Carnitas Salad',\n",
              " 'Carnitas Salad Bowl',\n",
              " 'Carnitas Soft Tacos',\n",
              " 'Chicken Bowl',\n",
              " 'Chicken Burrito',\n",
              " 'Chicken Crispy Tacos',\n",
              " 'Chicken Salad',\n",
              " 'Chicken Salad Bowl',\n",
              " 'Chicken Soft Tacos',\n",
              " 'Chips',\n",
              " 'Chips and Fresh Tomato Salsa',\n",
              " 'Chips and Guacamole',\n",
              " 'Chips and Mild Fresh Tomato Salsa',\n",
              " 'Chips and Roasted Chili Corn Salsa',\n",
              " 'Chips and Roasted Chili-Corn Salsa',\n",
              " 'Chips and Tomatillo Green Chili Salsa',\n",
              " 'Chips and Tomatillo Red Chili Salsa',\n",
              " 'Chips and Tomatillo-Green Chili Salsa',\n",
              " 'Chips and Tomatillo-Red Chili Salsa',\n",
              " 'Crispy Tacos',\n",
              " 'Izze',\n",
              " 'Nantucket Nectar',\n",
              " 'Salad',\n",
              " 'Side of Chips',\n",
              " 'Steak Bowl',\n",
              " 'Steak Burrito',\n",
              " 'Steak Crispy Tacos',\n",
              " 'Steak Salad',\n",
              " 'Steak Salad Bowl',\n",
              " 'Steak Soft Tacos',\n",
              " 'Veggie Bowl',\n",
              " 'Veggie Burrito',\n",
              " 'Veggie Crispy Tacos',\n",
              " 'Veggie Salad',\n",
              " 'Veggie Salad Bowl',\n",
              " 'Veggie Soft Tacos']"
            ]
          },
          "metadata": {},
          "execution_count": 18
        }
      ]
    },
    {
      "cell_type": "code",
      "metadata": {
        "colab": {
          "base_uri": "https://localhost:8080/"
        },
        "id": "4Zc_ixw36Vew",
        "outputId": "a9d8fd14-8a5c-440a-82a2-cc33495f1d50"
      },
      "source": [
        "# y-축에는 총 주문량에 해당하는 ‘item_quantity’의 value만 list 형태로 출력\n",
        "item_quantity.values.tolist()\n"
      ],
      "execution_count": null,
      "outputs": [
        {
          "output_type": "execute_result",
          "data": {
            "text/plain": [
              "[55,\n",
              " 66,\n",
              " 91,\n",
              " 12,\n",
              " 10,\n",
              " 25,\n",
              " 211,\n",
              " 4,\n",
              " 6,\n",
              " 126,\n",
              " 351,\n",
              " 71,\n",
              " 60,\n",
              " 8,\n",
              " 1,\n",
              " 6,\n",
              " 40,\n",
              " 761,\n",
              " 591,\n",
              " 50,\n",
              " 9,\n",
              " 123,\n",
              " 120,\n",
              " 230,\n",
              " 130,\n",
              " 506,\n",
              " 1,\n",
              " 23,\n",
              " 18,\n",
              " 45,\n",
              " 50,\n",
              " 33,\n",
              " 25,\n",
              " 2,\n",
              " 20,\n",
              " 29,\n",
              " 2,\n",
              " 110,\n",
              " 221,\n",
              " 386,\n",
              " 36,\n",
              " 4,\n",
              " 31,\n",
              " 56,\n",
              " 87,\n",
              " 97,\n",
              " 1,\n",
              " 6,\n",
              " 18,\n",
              " 8]"
            ]
          },
          "metadata": {},
          "execution_count": 19
        }
      ]
    },
    {
      "cell_type": "code",
      "metadata": {
        "colab": {
          "base_uri": "https://localhost:8080/",
          "height": 296
        },
        "id": "cMwMO3ZD6Vpi",
        "outputId": "52185c96-0c4d-4d64-9d6b-2278cdb07c5e"
      },
      "source": [
        "%matplotlib inline\n",
        "import numpy as np\n",
        "import matplotlib.pyplot as plt\n",
        "\n",
        "#그래프 x, y축 전처리 작업\n",
        "item_name_list = item_quantity.index.tolist() #x축 전처리 작업:item_quantity의인덱스 부분만 리스트 형태로 변환\n",
        "x = np.arange(len(item_name_list)) #x축 길이를 계산하여 범위화 np.arrange(start, stop, step)\n",
        "y= item_quantity.values.tolist() #y축 전처리 작업:item_quantity의 value 부분만 리스트 형태로 변환\n",
        "\n",
        "#그래프 시각화\n",
        "plt.bar(x, y)\n",
        "plt.ylabel('Order count')\n",
        "plt.xlabel('menu_index')\n",
        "plt.title('Distribution of ordered menu')\n",
        "plt.show()\n"
      ],
      "execution_count": null,
      "outputs": [
        {
          "output_type": "display_data",
          "data": {
            "image/png": "[encoded data removed]",
            "text/plain": [
              "<Figure size 432x288 with 1 Axes>"
            ]
          },
          "metadata": {
            "needs_background": "light"
          }
        }
      ]
    },
    {
      "cell_type": "code",
      "metadata": {
        "colab": {
          "base_uri": "https://localhost:8080/"
        },
        "id": "eBcj5LpB6VzD",
        "outputId": "7ea0482a-b98f-452e-ef91-e8e24adc0996"
      },
      "source": [
        "print(chipo['item_name'].value_counts()[:10])\n",
        "print(type(chipo['item_name'].value_counts()))"
      ],
      "execution_count": null,
      "outputs": [
        {
          "output_type": "stream",
          "name": "stdout",
          "text": [
            "Chicken Bowl           726\n",
            "Chicken Burrito        553\n",
            "Chips and Guacamole    479\n",
            "Steak Burrito          368\n",
            "Canned Soft Drink      301\n",
            "Chips                  211\n",
            "Steak Bowl             211\n",
            "Bottled Water          162\n",
            "Chicken Soft Tacos     115\n",
            "Chicken Salad Bowl     110\n",
            "Name: item_name, dtype: int64\n",
            "<class 'pandas.core.series.Series'>\n"
          ]
        }
      ]
    },
    {
      "cell_type": "code",
      "metadata": {
        "colab": {
          "base_uri": "https://localhost:8080/"
        },
        "id": "co3rXc2z6V9x",
        "outputId": "1e25b887-2fe8-4db8-a50a-3dfdd3cfb544"
      },
      "source": [
        "print(chipo['item_name'].unique()[:10]) #중복되지 않는 10개 추출\n",
        "print(type(chipo['item_name'].unique()))"
      ],
      "execution_count": null,
      "outputs": [
        {
          "output_type": "stream",
          "name": "stdout",
          "text": [
            "['Chips and Fresh Tomato Salsa' 'Izze' 'Nantucket Nectar'\n",
            " 'Chips and Tomatillo-Green Chili Salsa' 'Chicken Bowl' 'Side of Chips'\n",
            " 'Steak Burrito' 'Steak Soft Tacos' 'Chips and Guacamole'\n",
            " 'Chicken Crispy Tacos']\n",
            "<class 'numpy.ndarray'>\n"
          ]
        }
      ]
    },
    {
      "cell_type": "markdown",
      "metadata": {
        "id": "ra_5XYZg6WHM"
      },
      "source": [
        "#전처리"
      ]
    },
    {
      "cell_type": "code",
      "metadata": {
        "colab": {
          "base_uri": "https://localhost:8080/"
        },
        "id": "B52JRo7P6WQ-",
        "outputId": "5c7c9df2-87a5-4661-ba8d-d506377b5ab6"
      },
      "source": [
        "# ’item_price’ 데이터 확인\n",
        "print(chipo.info())\n",
        "chipo['item_price'].head()\n"
      ],
      "execution_count": null,
      "outputs": [
        {
          "output_type": "stream",
          "name": "stdout",
          "text": [
            "<class 'pandas.core.frame.DataFrame'>\n",
            "RangeIndex: 4622 entries, 0 to 4621\n",
            "Data columns (total 5 columns):\n",
            " #   Column              Non-Null Count  Dtype \n",
            "---  ------              --------------  ----- \n",
            " 0   order_id            4622 non-null   object\n",
            " 1   quantity            4622 non-null   int64 \n",
            " 2   item_name           4622 non-null   object\n",
            " 3   choice_description  3376 non-null   object\n",
            " 4   item_price          4622 non-null   object\n",
            "dtypes: int64(1), object(4)\n",
            "memory usage: 180.7+ KB\n",
            "None\n"
          ]
        },
        {
          "output_type": "execute_result",
          "data": {
            "text/plain": [
              "0     $2.39 \n",
              "1     $3.39 \n",
              "2     $3.39 \n",
              "3     $2.39 \n",
              "4    $16.98 \n",
              "Name: item_price, dtype: object"
            ]
          },
          "metadata": {},
          "execution_count": 24
        }
      ]
    },
    {
      "cell_type": "markdown",
      "metadata": {
        "id": "Vv8i3-wQAmNr"
      },
      "source": [
        "![image.png](data:image/png;base64,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)"
      ]
    },
    {
      "cell_type": "code",
      "metadata": {
        "colab": {
          "base_uri": "https://localhost:8080/"
        },
        "id": "DCP_HG7d6Wat",
        "outputId": "fd655286-232c-4dec-ddf5-9ddc2dd94b56"
      },
      "source": [
        "# ’$’를 제거한 후 숫자형 데이터로 저장\n",
        "# ‘apply()’ 함수를 이용하여 전처리\n",
        "# 익명함수 ‘lmbda’를 이용하여 ‘$’ 제거\n",
        "# 매개변수(x)를 입력 받아 결과(float(x[1:]))를 반환\n",
        "# ‘$2.39’에서 0번째 자리인 ‘$’를 제외하고 1번째 자리인 ‘2’ 이후부터 반환\n",
        "chipo['item_price'] = chipo['item_price'].apply(lambda x: float(x[1:]))\n",
        "print(chipo.info())\n",
        "chipo['item_price'].head()"
      ],
      "execution_count": null,
      "outputs": [
        {
          "output_type": "stream",
          "name": "stdout",
          "text": [
            "<class 'pandas.core.frame.DataFrame'>\n",
            "RangeIndex: 4622 entries, 0 to 4621\n",
            "Data columns (total 5 columns):\n",
            " #   Column              Non-Null Count  Dtype  \n",
            "---  ------              --------------  -----  \n",
            " 0   order_id            4622 non-null   object \n",
            " 1   quantity            4622 non-null   int64  \n",
            " 2   item_name           4622 non-null   object \n",
            " 3   choice_description  3376 non-null   object \n",
            " 4   item_price          4622 non-null   float64\n",
            "dtypes: float64(1), int64(1), object(3)\n",
            "memory usage: 180.7+ KB\n",
            "None\n"
          ]
        },
        {
          "output_type": "execute_result",
          "data": {
            "text/plain": [
              "0     2.39\n",
              "1     3.39\n",
              "2     3.39\n",
              "3     2.39\n",
              "4    16.98\n",
              "Name: item_price, dtype: float64"
            ]
          },
          "metadata": {},
          "execution_count": 25
        }
      ]
    },
    {
      "cell_type": "code",
      "metadata": {
        "colab": {
          "base_uri": "https://localhost:8080/"
        },
        "id": "A5Q7umKO6Wt4",
        "outputId": "31cdaebf-5d0f-49bc-a771-d0a7aa8fad43"
      },
      "source": [
        "#람다 함수의 활용 예시\n",
        "(lambda x: x+1)(3)\n"
      ],
      "execution_count": null,
      "outputs": [
        {
          "output_type": "execute_result",
          "data": {
            "text/plain": [
              "4"
            ]
          },
          "metadata": {},
          "execution_count": 26
        }
      ]
    },
    {
      "cell_type": "code",
      "metadata": {
        "colab": {
          "base_uri": "https://localhost:8080/"
        },
        "id": "T7zgfHJ86W2n",
        "outputId": "19be11b1-01b8-4e2e-e006-5e9e43709dcc"
      },
      "source": [
        "add = lambda x: x+1\n",
        "add(4)"
      ],
      "execution_count": null,
      "outputs": [
        {
          "output_type": "execute_result",
          "data": {
            "text/plain": [
              "5"
            ]
          },
          "metadata": {},
          "execution_count": 27
        }
      ]
    },
    {
      "cell_type": "code",
      "metadata": {
        "colab": {
          "base_uri": "https://localhost:8080/"
        },
        "id": "KsZ5bvyr6W_y",
        "outputId": "58f738c9-6ecf-4021-bd33-70c6c550103d"
      },
      "source": [
        "add(5)"
      ],
      "execution_count": null,
      "outputs": [
        {
          "output_type": "execute_result",
          "data": {
            "text/plain": [
              "6"
            ]
          },
          "metadata": {},
          "execution_count": 28
        }
      ]
    },
    {
      "cell_type": "code",
      "metadata": {
        "colab": {
          "base_uri": "https://localhost:8080/",
          "height": 203
        },
        "id": "OXSXT-Lo6XIV",
        "outputId": "2161509b-daf2-46be-8582-8ba55b786ddf"
      },
      "source": [
        "# 데이터 확인\n",
        "chipo.head()"
      ],
      "execution_count": null,
      "outputs": [
        {
          "output_type": "execute_result",
          "data": {
            "text/html": [
              "<div>\n",
              "<style scoped>\n",
              "    .dataframe tbody tr th:only-of-type {\n",
              "        vertical-align: middle;\n",
              "    }\n",
              "\n",
              "    .dataframe tbody tr th {\n",
              "        vertical-align: top;\n",
              "    }\n",
              "\n",
              "    .dataframe thead th {\n",
              "        text-align: right;\n",
              "    }\n",
              "</style>\n",
              "<table border=\"1\" class=\"dataframe\">\n",
              "  <thead>\n",
              "    <tr style=\"text-align: right;\">\n",
              "      <th></th>\n",
              "      <th>order_id</th>\n",
              "      <th>quantity</th>\n",
              "      <th>item_name</th>\n",
              "      <th>choice_description</th>\n",
              "      <th>item_price</th>\n",
              "    </tr>\n",
              "  </thead>\n",
              "  <tbody>\n",
              "    <tr>\n",
              "      <th>0</th>\n",
              "      <td>1</td>\n",
              "      <td>1</td>\n",
              "      <td>Chips and Fresh Tomato Salsa</td>\n",
              "      <td>NaN</td>\n",
              "      <td>2.39</td>\n",
              "    </tr>\n",
              "    <tr>\n",
              "      <th>1</th>\n",
              "      <td>1</td>\n",
              "      <td>1</td>\n",
              "      <td>Izze</td>\n",
              "      <td>[Clementine]</td>\n",
              "      <td>3.39</td>\n",
              "    </tr>\n",
              "    <tr>\n",
              "      <th>2</th>\n",
              "      <td>1</td>\n",
              "      <td>1</td>\n",
              "      <td>Nantucket Nectar</td>\n",
              "      <td>[Apple]</td>\n",
              "      <td>3.39</td>\n",
              "    </tr>\n",
              "    <tr>\n",
              "      <th>3</th>\n",
              "      <td>1</td>\n",
              "      <td>1</td>\n",
              "      <td>Chips and Tomatillo-Green Chili Salsa</td>\n",
              "      <td>NaN</td>\n",
              "      <td>2.39</td>\n",
              "    </tr>\n",
              "    <tr>\n",
              "      <th>4</th>\n",
              "      <td>2</td>\n",
              "      <td>2</td>\n",
              "      <td>Chicken Bowl</td>\n",
              "      <td>[Tomatillo-Red Chili Salsa (Hot), [Black Beans...</td>\n",
              "      <td>16.98</td>\n",
              "    </tr>\n",
              "  </tbody>\n",
              "</table>\n",
              "</div>"
            ],
            "text/plain": [
              "  order_id  ...  item_price\n",
              "0        1  ...        2.39\n",
              "1        1  ...        3.39\n",
              "2        1  ...        3.39\n",
              "3        1  ...        2.39\n",
              "4        2  ...       16.98\n",
              "\n",
              "[5 rows x 5 columns]"
            ]
          },
          "metadata": {},
          "execution_count": 29
        }
      ]
    },
    {
      "cell_type": "code",
      "metadata": {
        "colab": {
          "base_uri": "https://localhost:8080/",
          "height": 295
        },
        "id": "RvS-PCnO6XQy",
        "outputId": "876eb5f9-5755-4400-e9a9-b3663c113fe3"
      },
      "source": [
        "# 통계치 확인\n",
        "chipo.describe()"
      ],
      "execution_count": null,
      "outputs": [
        {
          "output_type": "execute_result",
          "data": {
            "text/html": [
              "<div>\n",
              "<style scoped>\n",
              "    .dataframe tbody tr th:only-of-type {\n",
              "        vertical-align: middle;\n",
              "    }\n",
              "\n",
              "    .dataframe tbody tr th {\n",
              "        vertical-align: top;\n",
              "    }\n",
              "\n",
              "    .dataframe thead th {\n",
              "        text-align: right;\n",
              "    }\n",
              "</style>\n",
              "<table border=\"1\" class=\"dataframe\">\n",
              "  <thead>\n",
              "    <tr style=\"text-align: right;\">\n",
              "      <th></th>\n",
              "      <th>quantity</th>\n",
              "      <th>item_price</th>\n",
              "    </tr>\n",
              "  </thead>\n",
              "  <tbody>\n",
              "    <tr>\n",
              "      <th>count</th>\n",
              "      <td>4622.000000</td>\n",
              "      <td>4622.000000</td>\n",
              "    </tr>\n",
              "    <tr>\n",
              "      <th>mean</th>\n",
              "      <td>1.075725</td>\n",
              "      <td>7.464336</td>\n",
              "    </tr>\n",
              "    <tr>\n",
              "      <th>std</th>\n",
              "      <td>0.410186</td>\n",
              "      <td>4.245557</td>\n",
              "    </tr>\n",
              "    <tr>\n",
              "      <th>min</th>\n",
              "      <td>1.000000</td>\n",
              "      <td>1.090000</td>\n",
              "    </tr>\n",
              "    <tr>\n",
              "      <th>25%</th>\n",
              "      <td>1.000000</td>\n",
              "      <td>3.390000</td>\n",
              "    </tr>\n",
              "    <tr>\n",
              "      <th>50%</th>\n",
              "      <td>1.000000</td>\n",
              "      <td>8.750000</td>\n",
              "    </tr>\n",
              "    <tr>\n",
              "      <th>75%</th>\n",
              "      <td>1.000000</td>\n",
              "      <td>9.250000</td>\n",
              "    </tr>\n",
              "    <tr>\n",
              "      <th>max</th>\n",
              "      <td>15.000000</td>\n",
              "      <td>44.250000</td>\n",
              "    </tr>\n",
              "  </tbody>\n",
              "</table>\n",
              "</div>"
            ],
            "text/plain": [
              "          quantity   item_price\n",
              "count  4622.000000  4622.000000\n",
              "mean      1.075725     7.464336\n",
              "std       0.410186     4.245557\n",
              "min       1.000000     1.090000\n",
              "25%       1.000000     3.390000\n",
              "50%       1.000000     8.750000\n",
              "75%       1.000000     9.250000\n",
              "max      15.000000    44.250000"
            ]
          },
          "metadata": {},
          "execution_count": 30
        }
      ]
    },
    {
      "cell_type": "code",
      "metadata": {
        "colab": {
          "base_uri": "https://localhost:8080/"
        },
        "id": "jOoCJuJP6XZc",
        "outputId": "38379bb8-4114-46d1-faf9-a4fc88a85b79"
      },
      "source": [
        "# ‘order_id’로 그룹화 한 후, 그룹 별 ‘item_price’를 더한 후, 더한 값들의 평균\n",
        "chipo.groupby('order_id')['item_price'].sum().mean()"
      ],
      "execution_count": null,
      "outputs": [
        {
          "output_type": "execute_result",
          "data": {
            "text/plain": [
              "18.811428571428717"
            ]
          },
          "metadata": {},
          "execution_count": 32
        }
      ]
    },
    {
      "cell_type": "code",
      "metadata": {
        "colab": {
          "base_uri": "https://localhost:8080/"
        },
        "id": "_nO_dYi3QMCf",
        "outputId": "250a4b8c-c4a7-442d-e303-e6a40073a1fd"
      },
      "source": [
        "# ‘order_id’로 그룹화 한 후, 그룹 별 ‘item_price’를 더한 후, 더한 값들의 평균\n",
        "chipo.groupby('order_id')['item_price'].sum()"
      ],
      "execution_count": null,
      "outputs": [
        {
          "output_type": "execute_result",
          "data": {
            "text/plain": [
              "order_id\n",
              "1       11.56\n",
              "10      13.20\n",
              "100     10.08\n",
              "1000    20.50\n",
              "1001    10.08\n",
              "        ...  \n",
              "995     24.95\n",
              "996     43.00\n",
              "997     22.50\n",
              "998     10.88\n",
              "999     29.25\n",
              "Name: item_price, Length: 1834, dtype: float64"
            ]
          },
          "metadata": {},
          "execution_count": 33
        }
      ]
    },
    {
      "cell_type": "code",
      "metadata": {
        "colab": {
          "base_uri": "https://localhost:8080/",
          "height": 326
        },
        "id": "mfLVDfEjQMQ0",
        "outputId": "8d40cceb-8def-4d45-ee08-4b6a093bd60a"
      },
      "source": [
        "# 주문 테이블 당 총 주문액 구하고,\n",
        "# 총 주문액이 100달러 이상인 주문 테이블 필터링한 후, 결과 출력\n",
        "id_group_sum = chipo.groupby('order_id').sum()\n",
        "more_10_id = id_group_sum[id_group_sum['item_price'] >= 100] #판다스에서는 이게 더 좋은 표현일수도\n",
        "#more_10_id=id_group_sum['item_price'] >= 100 #진리표만 나옴\n",
        "more_10_id\n"
      ],
      "execution_count": null,
      "outputs": [
        {
          "output_type": "execute_result",
          "data": {
            "text/html": [
              "<div>\n",
              "<style scoped>\n",
              "    .dataframe tbody tr th:only-of-type {\n",
              "        vertical-align: middle;\n",
              "    }\n",
              "\n",
              "    .dataframe tbody tr th {\n",
              "        vertical-align: top;\n",
              "    }\n",
              "\n",
              "    .dataframe thead th {\n",
              "        text-align: right;\n",
              "    }\n",
              "</style>\n",
              "<table border=\"1\" class=\"dataframe\">\n",
              "  <thead>\n",
              "    <tr style=\"text-align: right;\">\n",
              "      <th></th>\n",
              "      <th>quantity</th>\n",
              "      <th>item_price</th>\n",
              "    </tr>\n",
              "    <tr>\n",
              "      <th>order_id</th>\n",
              "      <th></th>\n",
              "      <th></th>\n",
              "    </tr>\n",
              "  </thead>\n",
              "  <tbody>\n",
              "    <tr>\n",
              "      <th>1443</th>\n",
              "      <td>35</td>\n",
              "      <td>160.74</td>\n",
              "    </tr>\n",
              "    <tr>\n",
              "      <th>1483</th>\n",
              "      <td>14</td>\n",
              "      <td>139.00</td>\n",
              "    </tr>\n",
              "    <tr>\n",
              "      <th>1786</th>\n",
              "      <td>20</td>\n",
              "      <td>114.30</td>\n",
              "    </tr>\n",
              "    <tr>\n",
              "      <th>205</th>\n",
              "      <td>12</td>\n",
              "      <td>109.90</td>\n",
              "    </tr>\n",
              "    <tr>\n",
              "      <th>491</th>\n",
              "      <td>10</td>\n",
              "      <td>102.00</td>\n",
              "    </tr>\n",
              "    <tr>\n",
              "      <th>511</th>\n",
              "      <td>17</td>\n",
              "      <td>104.59</td>\n",
              "    </tr>\n",
              "    <tr>\n",
              "      <th>691</th>\n",
              "      <td>11</td>\n",
              "      <td>118.25</td>\n",
              "    </tr>\n",
              "    <tr>\n",
              "      <th>926</th>\n",
              "      <td>23</td>\n",
              "      <td>205.25</td>\n",
              "    </tr>\n",
              "  </tbody>\n",
              "</table>\n",
              "</div>"
            ],
            "text/plain": [
              "          quantity  item_price\n",
              "order_id                      \n",
              "1443            35      160.74\n",
              "1483            14      139.00\n",
              "1786            20      114.30\n",
              "205             12      109.90\n",
              "491             10      102.00\n",
              "511             17      104.59\n",
              "691             11      118.25\n",
              "926             23      205.25"
            ]
          },
          "metadata": {},
          "execution_count": 43
        }
      ]
    },
    {
      "cell_type": "code",
      "metadata": {
        "colab": {
          "base_uri": "https://localhost:8080/",
          "height": 326
        },
        "id": "QE7NqAKjQMaH",
        "outputId": "9df5ce6e-c59c-42bd-9cc5-4e521d94d234"
      },
      "source": [
        "# 주문 테이블 당 총 주문액 구하고,\n",
        "# 총 주문액이 100달러 이상인 주문 테이블 필터링한 후, 결과 출력\n",
        "id_group_sum = chipo.groupby('order_id').sum()\n",
        "more_10_id = id_group_sum[id_group_sum.item_price >= 100]\n",
        "more_10_id"
      ],
      "execution_count": null,
      "outputs": [
        {
          "output_type": "execute_result",
          "data": {
            "text/html": [
              "<div>\n",
              "<style scoped>\n",
              "    .dataframe tbody tr th:only-of-type {\n",
              "        vertical-align: middle;\n",
              "    }\n",
              "\n",
              "    .dataframe tbody tr th {\n",
              "        vertical-align: top;\n",
              "    }\n",
              "\n",
              "    .dataframe thead th {\n",
              "        text-align: right;\n",
              "    }\n",
              "</style>\n",
              "<table border=\"1\" class=\"dataframe\">\n",
              "  <thead>\n",
              "    <tr style=\"text-align: right;\">\n",
              "      <th></th>\n",
              "      <th>quantity</th>\n",
              "      <th>item_price</th>\n",
              "    </tr>\n",
              "    <tr>\n",
              "      <th>order_id</th>\n",
              "      <th></th>\n",
              "      <th></th>\n",
              "    </tr>\n",
              "  </thead>\n",
              "  <tbody>\n",
              "    <tr>\n",
              "      <th>1443</th>\n",
              "      <td>35</td>\n",
              "      <td>160.74</td>\n",
              "    </tr>\n",
              "    <tr>\n",
              "      <th>1483</th>\n",
              "      <td>14</td>\n",
              "      <td>139.00</td>\n",
              "    </tr>\n",
              "    <tr>\n",
              "      <th>1786</th>\n",
              "      <td>20</td>\n",
              "      <td>114.30</td>\n",
              "    </tr>\n",
              "    <tr>\n",
              "      <th>205</th>\n",
              "      <td>12</td>\n",
              "      <td>109.90</td>\n",
              "    </tr>\n",
              "    <tr>\n",
              "      <th>491</th>\n",
              "      <td>10</td>\n",
              "      <td>102.00</td>\n",
              "    </tr>\n",
              "    <tr>\n",
              "      <th>511</th>\n",
              "      <td>17</td>\n",
              "      <td>104.59</td>\n",
              "    </tr>\n",
              "    <tr>\n",
              "      <th>691</th>\n",
              "      <td>11</td>\n",
              "      <td>118.25</td>\n",
              "    </tr>\n",
              "    <tr>\n",
              "      <th>926</th>\n",
              "      <td>23</td>\n",
              "      <td>205.25</td>\n",
              "    </tr>\n",
              "  </tbody>\n",
              "</table>\n",
              "</div>"
            ],
            "text/plain": [
              "          quantity  item_price\n",
              "order_id                      \n",
              "1443            35      160.74\n",
              "1483            14      139.00\n",
              "1786            20      114.30\n",
              "205             12      109.90\n",
              "491             10      102.00\n",
              "511             17      104.59\n",
              "691             11      118.25\n",
              "926             23      205.25"
            ]
          },
          "metadata": {},
          "execution_count": 37
        }
      ]
    },
    {
      "cell_type": "code",
      "metadata": {
        "colab": {
          "base_uri": "https://localhost:8080/",
          "height": 1000
        },
        "id": "U3JgKSaYQMi5",
        "outputId": "818aea62-a44a-4599-a723-331da5d39737"
      },
      "source": [
        "# 우선 수량(‘quantity’)이 한 개인 메뉴만 필터링한 후,\n",
        "# ‘item_name’으로 그룹화 하여 그룹 별 최소값 탐색하고,\n",
        "# 탐색된 값을 오름차순 혹은 내림차순으로 정리\n",
        "# series 데이터를 정렬하는 ‘sort_values(by = “”) 함수 사용\n",
        "# 오름 혹은 내림차순은 ascending = True 혹은 False로 정렬\n",
        "chipo_one_item = chipo[chipo.quantity == 1]\n",
        "min_per_item = chipo_one_item.groupby('item_name').min()# 최솟값구하기\n",
        "min_per_item.sort_values(by = \"item_price\", ascending = True)"
      ],
      "execution_count": null,
      "outputs": [
        {
          "output_type": "execute_result",
          "data": {
            "text/html": [
              "<div>\n",
              "<style scoped>\n",
              "    .dataframe tbody tr th:only-of-type {\n",
              "        vertical-align: middle;\n",
              "    }\n",
              "\n",
              "    .dataframe tbody tr th {\n",
              "        vertical-align: top;\n",
              "    }\n",
              "\n",
              "    .dataframe thead th {\n",
              "        text-align: right;\n",
              "    }\n",
              "</style>\n",
              "<table border=\"1\" class=\"dataframe\">\n",
              "  <thead>\n",
              "    <tr style=\"text-align: right;\">\n",
              "      <th></th>\n",
              "      <th>order_id</th>\n",
              "      <th>quantity</th>\n",
              "      <th>choice_description</th>\n",
              "      <th>item_price</th>\n",
              "    </tr>\n",
              "    <tr>\n",
              "      <th>item_name</th>\n",
              "      <th></th>\n",
              "      <th></th>\n",
              "      <th></th>\n",
              "      <th></th>\n",
              "    </tr>\n",
              "  </thead>\n",
              "  <tbody>\n",
              "    <tr>\n",
              "      <th>Bottled Water</th>\n",
              "      <td>1009</td>\n",
              "      <td>1</td>\n",
              "      <td>NaN</td>\n",
              "      <td>1.09</td>\n",
              "    </tr>\n",
              "    <tr>\n",
              "      <th>Canned Soda</th>\n",
              "      <td>100</td>\n",
              "      <td>1</td>\n",
              "      <td>[Coca Cola]</td>\n",
              "      <td>1.09</td>\n",
              "    </tr>\n",
              "    <tr>\n",
              "      <th>Canned Soft Drink</th>\n",
              "      <td>1003</td>\n",
              "      <td>1</td>\n",
              "      <td>[Coke]</td>\n",
              "      <td>1.25</td>\n",
              "    </tr>\n",
              "    <tr>\n",
              "      <th>Side of Chips</th>\n",
              "      <td>1002</td>\n",
              "      <td>1</td>\n",
              "      <td>NaN</td>\n",
              "      <td>1.69</td>\n",
              "    </tr>\n",
              "    <tr>\n",
              "      <th>Chips</th>\n",
              "      <td>1005</td>\n",
              "      <td>1</td>\n",
              "      <td>NaN</td>\n",
              "      <td>1.99</td>\n",
              "    </tr>\n",
              "    <tr>\n",
              "      <th>Chips and Fresh Tomato Salsa</th>\n",
              "      <td>1</td>\n",
              "      <td>1</td>\n",
              "      <td>NaN</td>\n",
              "      <td>2.29</td>\n",
              "    </tr>\n",
              "    <tr>\n",
              "      <th>Chips and Tomatillo-Red Chili Salsa</th>\n",
              "      <td>1215</td>\n",
              "      <td>1</td>\n",
              "      <td>NaN</td>\n",
              "      <td>2.39</td>\n",
              "    </tr>\n",
              "    <tr>\n",
              "      <th>Chips and Tomatillo-Green Chili Salsa</th>\n",
              "      <td>1</td>\n",
              "      <td>1</td>\n",
              "      <td>NaN</td>\n",
              "      <td>2.39</td>\n",
              "    </tr>\n",
              "    <tr>\n",
              "      <th>Chips and Roasted Chili-Corn Salsa</th>\n",
              "      <td>1156</td>\n",
              "      <td>1</td>\n",
              "      <td>NaN</td>\n",
              "      <td>2.39</td>\n",
              "    </tr>\n",
              "    <tr>\n",
              "      <th>Chips and Tomatillo Red Chili Salsa</th>\n",
              "      <td>1020</td>\n",
              "      <td>1</td>\n",
              "      <td>NaN</td>\n",
              "      <td>2.95</td>\n",
              "    </tr>\n",
              "    <tr>\n",
              "      <th>Chips and Tomatillo Green Chili Salsa</th>\n",
              "      <td>102</td>\n",
              "      <td>1</td>\n",
              "      <td>NaN</td>\n",
              "      <td>2.95</td>\n",
              "    </tr>\n",
              "    <tr>\n",
              "      <th>Chips and Roasted Chili Corn Salsa</th>\n",
              "      <td>102</td>\n",
              "      <td>1</td>\n",
              "      <td>NaN</td>\n",
              "      <td>2.95</td>\n",
              "    </tr>\n",
              "    <tr>\n",
              "      <th>Chips and Mild Fresh Tomato Salsa</th>\n",
              "      <td>279</td>\n",
              "      <td>1</td>\n",
              "      <td>NaN</td>\n",
              "      <td>3.00</td>\n",
              "    </tr>\n",
              "    <tr>\n",
              "      <th>Nantucket Nectar</th>\n",
              "      <td>1</td>\n",
              "      <td>1</td>\n",
              "      <td>[Apple]</td>\n",
              "      <td>3.39</td>\n",
              "    </tr>\n",
              "    <tr>\n",
              "      <th>Izze</th>\n",
              "      <td>1</td>\n",
              "      <td>1</td>\n",
              "      <td>[Blackberry]</td>\n",
              "      <td>3.39</td>\n",
              "    </tr>\n",
              "    <tr>\n",
              "      <th>Chips and Guacamole</th>\n",
              "      <td>10</td>\n",
              "      <td>1</td>\n",
              "      <td>NaN</td>\n",
              "      <td>3.89</td>\n",
              "    </tr>\n",
              "    <tr>\n",
              "      <th>6 Pack Soft Drink</th>\n",
              "      <td>1076</td>\n",
              "      <td>1</td>\n",
              "      <td>[Coke]</td>\n",
              "      <td>6.49</td>\n",
              "    </tr>\n",
              "    <tr>\n",
              "      <th>Crispy Tacos</th>\n",
              "      <td>217</td>\n",
              "      <td>1</td>\n",
              "      <td>[Adobo-Marinated and Grilled Chicken]</td>\n",
              "      <td>7.40</td>\n",
              "    </tr>\n",
              "    <tr>\n",
              "      <th>Salad</th>\n",
              "      <td>575</td>\n",
              "      <td>1</td>\n",
              "      <td>[Brown Rice, Adobo-Marinated and Grilled Chick...</td>\n",
              "      <td>7.40</td>\n",
              "    </tr>\n",
              "    <tr>\n",
              "      <th>Bowl</th>\n",
              "      <td>279</td>\n",
              "      <td>1</td>\n",
              "      <td>[Adobo-Marinated and Grilled Steak, [Sour Crea...</td>\n",
              "      <td>7.40</td>\n",
              "    </tr>\n",
              "    <tr>\n",
              "      <th>Burrito</th>\n",
              "      <td>214</td>\n",
              "      <td>1</td>\n",
              "      <td>[Adobo-Marinated and Grilled Chicken, Pinto Be...</td>\n",
              "      <td>7.40</td>\n",
              "    </tr>\n",
              "    <tr>\n",
              "      <th>Chicken Bowl</th>\n",
              "      <td>10</td>\n",
              "      <td>1</td>\n",
              "      <td>[Fresh Tomato (Mild), [Guacamole, Rice]]</td>\n",
              "      <td>8.19</td>\n",
              "    </tr>\n",
              "    <tr>\n",
              "      <th>Chicken Burrito</th>\n",
              "      <td>1005</td>\n",
              "      <td>1</td>\n",
              "      <td>[Fresh Tomato (Mild), [Black Beans, Rice, Sour...</td>\n",
              "      <td>8.19</td>\n",
              "    </tr>\n",
              "    <tr>\n",
              "      <th>Chicken Salad</th>\n",
              "      <td>109</td>\n",
              "      <td>1</td>\n",
              "      <td>[Fresh Tomato Salsa (Mild), Black Beans]</td>\n",
              "      <td>8.19</td>\n",
              "    </tr>\n",
              "    <tr>\n",
              "      <th>Chicken Soft Tacos</th>\n",
              "      <td>1006</td>\n",
              "      <td>1</td>\n",
              "      <td>[Fresh Tomato Salsa (Mild), [Black Beans, Rice...</td>\n",
              "      <td>8.49</td>\n",
              "    </tr>\n",
              "    <tr>\n",
              "      <th>Veggie Salad</th>\n",
              "      <td>1094</td>\n",
              "      <td>1</td>\n",
              "      <td>[Roasted Chili Corn Salsa (Medium), [Black Bea...</td>\n",
              "      <td>8.49</td>\n",
              "    </tr>\n",
              "    <tr>\n",
              "      <th>Veggie Crispy Tacos</th>\n",
              "      <td>668</td>\n",
              "      <td>1</td>\n",
              "      <td>[Fresh Tomato Salsa (Mild), [Pinto Beans, Rice...</td>\n",
              "      <td>8.49</td>\n",
              "    </tr>\n",
              "    <tr>\n",
              "      <th>Veggie Burrito</th>\n",
              "      <td>1033</td>\n",
              "      <td>1</td>\n",
              "      <td>[Fresh Tomato Salsa (Mild), [Black Beans, Faji...</td>\n",
              "      <td>8.49</td>\n",
              "    </tr>\n",
              "    <tr>\n",
              "      <th>Veggie Bowl</th>\n",
              "      <td>1006</td>\n",
              "      <td>1</td>\n",
              "      <td>[Fresh Tomato Salsa (Mild), [Pinto Beans, Blac...</td>\n",
              "      <td>8.49</td>\n",
              "    </tr>\n",
              "    <tr>\n",
              "      <th>Chicken Crispy Tacos</th>\n",
              "      <td>1010</td>\n",
              "      <td>1</td>\n",
              "      <td>[Fresh Tomato Salsa (Mild), Fajita Veggies]</td>\n",
              "      <td>8.49</td>\n",
              "    </tr>\n",
              "    <tr>\n",
              "      <th>Veggie Soft Tacos</th>\n",
              "      <td>1132</td>\n",
              "      <td>1</td>\n",
              "      <td>[Fresh Tomato Salsa (Mild), [Pinto Beans, Rice...</td>\n",
              "      <td>8.49</td>\n",
              "    </tr>\n",
              "    <tr>\n",
              "      <th>Steak Crispy Tacos</th>\n",
              "      <td>1044</td>\n",
              "      <td>1</td>\n",
              "      <td>[Fresh Tomato (Mild), [Lettuce, Cheese]]</td>\n",
              "      <td>8.69</td>\n",
              "    </tr>\n",
              "    <tr>\n",
              "      <th>Steak Salad</th>\n",
              "      <td>1406</td>\n",
              "      <td>1</td>\n",
              "      <td>[Fresh Tomato Salsa (Mild), [Rice, Cheese, Sou...</td>\n",
              "      <td>8.69</td>\n",
              "    </tr>\n",
              "    <tr>\n",
              "      <th>Steak Burrito</th>\n",
              "      <td>100</td>\n",
              "      <td>1</td>\n",
              "      <td>[Brown Rice]</td>\n",
              "      <td>8.69</td>\n",
              "    </tr>\n",
              "    <tr>\n",
              "      <th>Steak Bowl</th>\n",
              "      <td>1006</td>\n",
              "      <td>1</td>\n",
              "      <td>[Fresh Tomato (Mild), [Guacamole, Lettuce, Pin...</td>\n",
              "      <td>8.69</td>\n",
              "    </tr>\n",
              "    <tr>\n",
              "      <th>Barbacoa Bowl</th>\n",
              "      <td>1000</td>\n",
              "      <td>1</td>\n",
              "      <td>[Fresh Tomato (Mild), [Lettuce, Black Beans, R...</td>\n",
              "      <td>8.69</td>\n",
              "    </tr>\n",
              "    <tr>\n",
              "      <th>Barbacoa Burrito</th>\n",
              "      <td>1002</td>\n",
              "      <td>1</td>\n",
              "      <td>[Fresh Tomato (Mild), [Black Beans, Rice, Sour...</td>\n",
              "      <td>8.69</td>\n",
              "    </tr>\n",
              "    <tr>\n",
              "      <th>Carnitas Burrito</th>\n",
              "      <td>1003</td>\n",
              "      <td>1</td>\n",
              "      <td>[Fresh Tomato (Mild), [Lettuce, Black Beans, G...</td>\n",
              "      <td>8.69</td>\n",
              "    </tr>\n",
              "    <tr>\n",
              "      <th>Chicken Salad Bowl</th>\n",
              "      <td>1015</td>\n",
              "      <td>1</td>\n",
              "      <td>[Fresh Tomato Salsa, Fajita Vegetables]</td>\n",
              "      <td>8.75</td>\n",
              "    </tr>\n",
              "    <tr>\n",
              "      <th>Veggie Salad Bowl</th>\n",
              "      <td>1066</td>\n",
              "      <td>1</td>\n",
              "      <td>[Fresh Tomato Salsa, [Fajita Vegetables, Black...</td>\n",
              "      <td>8.75</td>\n",
              "    </tr>\n",
              "    <tr>\n",
              "      <th>Barbacoa Crispy Tacos</th>\n",
              "      <td>110</td>\n",
              "      <td>1</td>\n",
              "      <td>[Fresh Tomato Salsa, Guacamole]</td>\n",
              "      <td>8.99</td>\n",
              "    </tr>\n",
              "    <tr>\n",
              "      <th>Carnitas Soft Tacos</th>\n",
              "      <td>1011</td>\n",
              "      <td>1</td>\n",
              "      <td>[Fresh Tomato Salsa (Mild), [Black Beans, Rice...</td>\n",
              "      <td>8.99</td>\n",
              "    </tr>\n",
              "    <tr>\n",
              "      <th>Carnitas Bowl</th>\n",
              "      <td>1007</td>\n",
              "      <td>1</td>\n",
              "      <td>[Fresh Tomato (Mild), [Guacamole, Lettuce, Ric...</td>\n",
              "      <td>8.99</td>\n",
              "    </tr>\n",
              "    <tr>\n",
              "      <th>Steak Soft Tacos</th>\n",
              "      <td>1054</td>\n",
              "      <td>1</td>\n",
              "      <td>[Fresh Tomato Salsa (Mild), [Cheese, Sour Cream]]</td>\n",
              "      <td>8.99</td>\n",
              "    </tr>\n",
              "    <tr>\n",
              "      <th>Carnitas Crispy Tacos</th>\n",
              "      <td>1774</td>\n",
              "      <td>1</td>\n",
              "      <td>[Fresh Tomato Salsa, [Fajita Vegetables, Rice,...</td>\n",
              "      <td>8.99</td>\n",
              "    </tr>\n",
              "    <tr>\n",
              "      <th>Carnitas Salad</th>\n",
              "      <td>1500</td>\n",
              "      <td>1</td>\n",
              "      <td>[[Fresh Tomato Salsa (Mild), Roasted Chili Cor...</td>\n",
              "      <td>8.99</td>\n",
              "    </tr>\n",
              "    <tr>\n",
              "      <th>Barbacoa Soft Tacos</th>\n",
              "      <td>1103</td>\n",
              "      <td>1</td>\n",
              "      <td>[Fresh Tomato Salsa, [Black Beans, Cheese, Let...</td>\n",
              "      <td>8.99</td>\n",
              "    </tr>\n",
              "    <tr>\n",
              "      <th>Barbacoa Salad Bowl</th>\n",
              "      <td>1283</td>\n",
              "      <td>1</td>\n",
              "      <td>[Fresh Tomato Salsa, Guacamole]</td>\n",
              "      <td>9.39</td>\n",
              "    </tr>\n",
              "    <tr>\n",
              "      <th>Steak Salad Bowl</th>\n",
              "      <td>1032</td>\n",
              "      <td>1</td>\n",
              "      <td>[Fresh Tomato Salsa, Lettuce]</td>\n",
              "      <td>9.39</td>\n",
              "    </tr>\n",
              "    <tr>\n",
              "      <th>Carnitas Salad Bowl</th>\n",
              "      <td>1035</td>\n",
              "      <td>1</td>\n",
              "      <td>[Fresh Tomato Salsa, [Rice, Black Beans, Chees...</td>\n",
              "      <td>9.39</td>\n",
              "    </tr>\n",
              "  </tbody>\n",
              "</table>\n",
              "</div>"
            ],
            "text/plain": [
              "                                      order_id  ...  item_price\n",
              "item_name                                       ...            \n",
              "Bottled Water                             1009  ...        1.09\n",
              "Canned Soda                                100  ...        1.09\n",
              "Canned Soft Drink                         1003  ...        1.25\n",
              "Side of Chips                             1002  ...        1.69\n",
              "Chips                                     1005  ...        1.99\n",
              "Chips and Fresh Tomato Salsa                 1  ...        2.29\n",
              "Chips and Tomatillo-Red Chili Salsa       1215  ...        2.39\n",
              "Chips and Tomatillo-Green Chili Salsa        1  ...        2.39\n",
              "Chips and Roasted Chili-Corn Salsa        1156  ...        2.39\n",
              "Chips and Tomatillo Red Chili Salsa       1020  ...        2.95\n",
              "Chips and Tomatillo Green Chili Salsa      102  ...        2.95\n",
              "Chips and Roasted Chili Corn Salsa         102  ...        2.95\n",
              "Chips and Mild Fresh Tomato Salsa          279  ...        3.00\n",
              "Nantucket Nectar                             1  ...        3.39\n",
              "Izze                                         1  ...        3.39\n",
              "Chips and Guacamole                         10  ...        3.89\n",
              "6 Pack Soft Drink                         1076  ...        6.49\n",
              "Crispy Tacos                               217  ...        7.40\n",
              "Salad                                      575  ...        7.40\n",
              "Bowl                                       279  ...        7.40\n",
              "Burrito                                    214  ...        7.40\n",
              "Chicken Bowl                                10  ...        8.19\n",
              "Chicken Burrito                           1005  ...        8.19\n",
              "Chicken Salad                              109  ...        8.19\n",
              "Chicken Soft Tacos                        1006  ...        8.49\n",
              "Veggie Salad                              1094  ...        8.49\n",
              "Veggie Crispy Tacos                        668  ...        8.49\n",
              "Veggie Burrito                            1033  ...        8.49\n",
              "Veggie Bowl                               1006  ...        8.49\n",
              "Chicken Crispy Tacos                      1010  ...        8.49\n",
              "Veggie Soft Tacos                         1132  ...        8.49\n",
              "Steak Crispy Tacos                        1044  ...        8.69\n",
              "Steak Salad                               1406  ...        8.69\n",
              "Steak Burrito                              100  ...        8.69\n",
              "Steak Bowl                                1006  ...        8.69\n",
              "Barbacoa Bowl                             1000  ...        8.69\n",
              "Barbacoa Burrito                          1002  ...        8.69\n",
              "Carnitas Burrito                          1003  ...        8.69\n",
              "Chicken Salad Bowl                        1015  ...        8.75\n",
              "Veggie Salad Bowl                         1066  ...        8.75\n",
              "Barbacoa Crispy Tacos                      110  ...        8.99\n",
              "Carnitas Soft Tacos                       1011  ...        8.99\n",
              "Carnitas Bowl                             1007  ...        8.99\n",
              "Steak Soft Tacos                          1054  ...        8.99\n",
              "Carnitas Crispy Tacos                     1774  ...        8.99\n",
              "Carnitas Salad                            1500  ...        8.99\n",
              "Barbacoa Soft Tacos                       1103  ...        8.99\n",
              "Barbacoa Salad Bowl                       1283  ...        9.39\n",
              "Steak Salad Bowl                          1032  ...        9.39\n",
              "Carnitas Salad Bowl                       1035  ...        9.39\n",
              "\n",
              "[50 rows x 4 columns]"
            ]
          },
          "metadata": {},
          "execution_count": 44
        }
      ]
    },
    {
      "cell_type": "code",
      "metadata": {
        "colab": {
          "base_uri": "https://localhost:8080/",
          "height": 281
        },
        "id": "gO7lRI1sQMrg",
        "outputId": "adf1dab4-aa45-4c62-8a72-789683049ed9"
      },
      "source": [
        "# 메뉴 별 가격 분포 그래프 그리기\n",
        "# x-축 설정: 위에서 구한 'min_per_item'을 이용하여 x-축 범위 설정\n",
        "# y-축 설정: min_per_item'의 'item_price'로 설정\n",
        "item_name_list = min_per_item.index.tolist() #리스트로 변경\n",
        "x = np.arange(len(item_name_list))\n",
        "y = min_per_item['item_price'].tolist()\n",
        "plt.bar(x, y, align='center')\n",
        "plt.ylabel('item price($)')\n",
        "plt.title('Distribution of item price')\n",
        "plt.show()\n"
      ],
      "execution_count": null,
      "outputs": [
        {
          "output_type": "display_data",
          "data": {
            "image/png": "[encoded data removed]",
            "text/plain": [
              "<Figure size 432x288 with 1 Axes>"
            ]
          },
          "metadata": {
            "needs_background": "light"
          }
        }
      ]
    },
    {
      "cell_type": "code",
      "metadata": {
        "colab": {
          "base_uri": "https://localhost:8080/",
          "height": 447
        },
        "id": "qnQP4CmWQMzy",
        "outputId": "1cf3dd9e-5b7b-4f04-ff9e-3c7cff5f2acd"
      },
      "source": [
        "# 테이블 별로 그룹화 한 후,\n",
        "# 그룹 별 합계 연산 적용 후,\n",
        "# ‘item_price’를 ‘sort_values()’ 함수를 이용하여 비싼 순으로 정렬\n",
        "chipo.groupby('order_id').sum().sort_values(by='item_price', ascending=False)\n"
      ],
      "execution_count": null,
      "outputs": [
        {
          "output_type": "execute_result",
          "data": {
            "text/html": [
              "<div>\n",
              "<style scoped>\n",
              "    .dataframe tbody tr th:only-of-type {\n",
              "        vertical-align: middle;\n",
              "    }\n",
              "\n",
              "    .dataframe tbody tr th {\n",
              "        vertical-align: top;\n",
              "    }\n",
              "\n",
              "    .dataframe thead th {\n",
              "        text-align: right;\n",
              "    }\n",
              "</style>\n",
              "<table border=\"1\" class=\"dataframe\">\n",
              "  <thead>\n",
              "    <tr style=\"text-align: right;\">\n",
              "      <th></th>\n",
              "      <th>quantity</th>\n",
              "      <th>item_price</th>\n",
              "    </tr>\n",
              "    <tr>\n",
              "      <th>order_id</th>\n",
              "      <th></th>\n",
              "      <th></th>\n",
              "    </tr>\n",
              "  </thead>\n",
              "  <tbody>\n",
              "    <tr>\n",
              "      <th>926</th>\n",
              "      <td>23</td>\n",
              "      <td>205.25</td>\n",
              "    </tr>\n",
              "    <tr>\n",
              "      <th>1443</th>\n",
              "      <td>35</td>\n",
              "      <td>160.74</td>\n",
              "    </tr>\n",
              "    <tr>\n",
              "      <th>1483</th>\n",
              "      <td>14</td>\n",
              "      <td>139.00</td>\n",
              "    </tr>\n",
              "    <tr>\n",
              "      <th>691</th>\n",
              "      <td>11</td>\n",
              "      <td>118.25</td>\n",
              "    </tr>\n",
              "    <tr>\n",
              "      <th>1786</th>\n",
              "      <td>20</td>\n",
              "      <td>114.30</td>\n",
              "    </tr>\n",
              "    <tr>\n",
              "      <th>...</th>\n",
              "      <td>...</td>\n",
              "      <td>...</td>\n",
              "    </tr>\n",
              "    <tr>\n",
              "      <th>1014</th>\n",
              "      <td>2</td>\n",
              "      <td>10.08</td>\n",
              "    </tr>\n",
              "    <tr>\n",
              "      <th>730</th>\n",
              "      <td>2</td>\n",
              "      <td>10.08</td>\n",
              "    </tr>\n",
              "    <tr>\n",
              "      <th>14</th>\n",
              "      <td>2</td>\n",
              "      <td>10.08</td>\n",
              "    </tr>\n",
              "    <tr>\n",
              "      <th>332</th>\n",
              "      <td>2</td>\n",
              "      <td>10.08</td>\n",
              "    </tr>\n",
              "    <tr>\n",
              "      <th>393</th>\n",
              "      <td>2</td>\n",
              "      <td>10.08</td>\n",
              "    </tr>\n",
              "  </tbody>\n",
              "</table>\n",
              "<p>1834 rows × 2 columns</p>\n",
              "</div>"
            ],
            "text/plain": [
              "          quantity  item_price\n",
              "order_id                      \n",
              "926             23      205.25\n",
              "1443            35      160.74\n",
              "1483            14      139.00\n",
              "691             11      118.25\n",
              "1786            20      114.30\n",
              "...            ...         ...\n",
              "1014             2       10.08\n",
              "730              2       10.08\n",
              "14               2       10.08\n",
              "332              2       10.08\n",
              "393              2       10.08\n",
              "\n",
              "[1834 rows x 2 columns]"
            ]
          },
          "metadata": {},
          "execution_count": 46
        }
      ]
    },
    {
      "cell_type": "code",
      "metadata": {
        "colab": {
          "base_uri": "https://localhost:8080/"
        },
        "id": "iaTN5BEpQM7T",
        "outputId": "6eb5610c-3136-4f72-c70e-35a0ff67be10"
      },
      "source": [
        "chipo.groupby('order_id').sum().max().head()"
      ],
      "execution_count": null,
      "outputs": [
        {
          "output_type": "execute_result",
          "data": {
            "text/plain": [
              "quantity       35.00\n",
              "item_price    205.25\n",
              "dtype: float64"
            ]
          },
          "metadata": {},
          "execution_count": 49
        }
      ]
    },
    {
      "cell_type": "code",
      "metadata": {
        "colab": {
          "base_uri": "https://localhost:8080/",
          "height": 234
        },
        "id": "l-iLhxuDQNCJ",
        "outputId": "00e8a18d-56df-4f11-ee9c-47acf5ce0f49"
      },
      "source": [
        "chipo.groupby('order_id').sum().head()"
      ],
      "execution_count": null,
      "outputs": [
        {
          "output_type": "execute_result",
          "data": {
            "text/html": [
              "<div>\n",
              "<style scoped>\n",
              "    .dataframe tbody tr th:only-of-type {\n",
              "        vertical-align: middle;\n",
              "    }\n",
              "\n",
              "    .dataframe tbody tr th {\n",
              "        vertical-align: top;\n",
              "    }\n",
              "\n",
              "    .dataframe thead th {\n",
              "        text-align: right;\n",
              "    }\n",
              "</style>\n",
              "<table border=\"1\" class=\"dataframe\">\n",
              "  <thead>\n",
              "    <tr style=\"text-align: right;\">\n",
              "      <th></th>\n",
              "      <th>quantity</th>\n",
              "      <th>item_price</th>\n",
              "    </tr>\n",
              "    <tr>\n",
              "      <th>order_id</th>\n",
              "      <th></th>\n",
              "      <th></th>\n",
              "    </tr>\n",
              "  </thead>\n",
              "  <tbody>\n",
              "    <tr>\n",
              "      <th>1</th>\n",
              "      <td>4</td>\n",
              "      <td>11.56</td>\n",
              "    </tr>\n",
              "    <tr>\n",
              "      <th>10</th>\n",
              "      <td>2</td>\n",
              "      <td>13.20</td>\n",
              "    </tr>\n",
              "    <tr>\n",
              "      <th>100</th>\n",
              "      <td>2</td>\n",
              "      <td>10.08</td>\n",
              "    </tr>\n",
              "    <tr>\n",
              "      <th>1000</th>\n",
              "      <td>2</td>\n",
              "      <td>20.50</td>\n",
              "    </tr>\n",
              "    <tr>\n",
              "      <th>1001</th>\n",
              "      <td>2</td>\n",
              "      <td>10.08</td>\n",
              "    </tr>\n",
              "  </tbody>\n",
              "</table>\n",
              "</div>"
            ],
            "text/plain": [
              "          quantity  item_price\n",
              "order_id                      \n",
              "1                4       11.56\n",
              "10               2       13.20\n",
              "100              2       10.08\n",
              "1000             2       20.50\n",
              "1001             2       10.08"
            ]
          },
          "metadata": {},
          "execution_count": 48
        }
      ]
    },
    {
      "cell_type": "code",
      "metadata": {
        "colab": {
          "base_uri": "https://localhost:8080/",
          "height": 621
        },
        "id": "InlQpSdDQNJ0",
        "outputId": "d51b8ba9-4c2c-4bcc-ed78-b8462781174e"
      },
      "source": [
        "Veggie_Salad_Bowl = chipo[chipo['item_name'] == \"Veggie Salad Bowl\"]\n",
        "print(len(Veggie_Salad_Bowl), '번 주문 되었습니다.')\n",
        "Veggie_Salad_Bowl.sort_values(by='item_price', ascending=True)"
      ],
      "execution_count": null,
      "outputs": [
        {
          "output_type": "stream",
          "name": "stdout",
          "text": [
            "18 번 주문 되었습니다.\n"
          ]
        },
        {
          "output_type": "execute_result",
          "data": {
            "text/html": [
              "<div>\n",
              "<style scoped>\n",
              "    .dataframe tbody tr th:only-of-type {\n",
              "        vertical-align: middle;\n",
              "    }\n",
              "\n",
              "    .dataframe tbody tr th {\n",
              "        vertical-align: top;\n",
              "    }\n",
              "\n",
              "    .dataframe thead th {\n",
              "        text-align: right;\n",
              "    }\n",
              "</style>\n",
              "<table border=\"1\" class=\"dataframe\">\n",
              "  <thead>\n",
              "    <tr style=\"text-align: right;\">\n",
              "      <th></th>\n",
              "      <th>order_id</th>\n",
              "      <th>quantity</th>\n",
              "      <th>item_name</th>\n",
              "      <th>choice_description</th>\n",
              "      <th>item_price</th>\n",
              "    </tr>\n",
              "  </thead>\n",
              "  <tbody>\n",
              "    <tr>\n",
              "      <th>2223</th>\n",
              "      <td>896</td>\n",
              "      <td>1</td>\n",
              "      <td>Veggie Salad Bowl</td>\n",
              "      <td>[Roasted Chili Corn Salsa, Fajita Vegetables]</td>\n",
              "      <td>8.75</td>\n",
              "    </tr>\n",
              "    <tr>\n",
              "      <th>3293</th>\n",
              "      <td>1321</td>\n",
              "      <td>1</td>\n",
              "      <td>Veggie Salad Bowl</td>\n",
              "      <td>[Fresh Tomato Salsa, [Rice, Black Beans, Chees...</td>\n",
              "      <td>8.75</td>\n",
              "    </tr>\n",
              "    <tr>\n",
              "      <th>2683</th>\n",
              "      <td>1066</td>\n",
              "      <td>1</td>\n",
              "      <td>Veggie Salad Bowl</td>\n",
              "      <td>[Roasted Chili Corn Salsa, [Fajita Vegetables,...</td>\n",
              "      <td>8.75</td>\n",
              "    </tr>\n",
              "    <tr>\n",
              "      <th>2269</th>\n",
              "      <td>913</td>\n",
              "      <td>1</td>\n",
              "      <td>Veggie Salad Bowl</td>\n",
              "      <td>[Fresh Tomato Salsa, [Fajita Vegetables, Rice,...</td>\n",
              "      <td>8.75</td>\n",
              "    </tr>\n",
              "    <tr>\n",
              "      <th>4541</th>\n",
              "      <td>1805</td>\n",
              "      <td>1</td>\n",
              "      <td>Veggie Salad Bowl</td>\n",
              "      <td>[Tomatillo Green Chili Salsa, [Fajita Vegetabl...</td>\n",
              "      <td>8.75</td>\n",
              "    </tr>\n",
              "    <tr>\n",
              "      <th>4573</th>\n",
              "      <td>1818</td>\n",
              "      <td>1</td>\n",
              "      <td>Veggie Salad Bowl</td>\n",
              "      <td>[Fresh Tomato Salsa, [Fajita Vegetables, Pinto...</td>\n",
              "      <td>8.75</td>\n",
              "    </tr>\n",
              "    <tr>\n",
              "      <th>960</th>\n",
              "      <td>394</td>\n",
              "      <td>1</td>\n",
              "      <td>Veggie Salad Bowl</td>\n",
              "      <td>[Fresh Tomato Salsa, [Fajita Vegetables, Lettu...</td>\n",
              "      <td>8.75</td>\n",
              "    </tr>\n",
              "    <tr>\n",
              "      <th>1316</th>\n",
              "      <td>536</td>\n",
              "      <td>1</td>\n",
              "      <td>Veggie Salad Bowl</td>\n",
              "      <td>[Fresh Tomato Salsa, [Fajita Vegetables, Rice,...</td>\n",
              "      <td>8.75</td>\n",
              "    </tr>\n",
              "    <tr>\n",
              "      <th>1884</th>\n",
              "      <td>760</td>\n",
              "      <td>1</td>\n",
              "      <td>Veggie Salad Bowl</td>\n",
              "      <td>[Fresh Tomato Salsa, [Fajita Vegetables, Rice,...</td>\n",
              "      <td>11.25</td>\n",
              "    </tr>\n",
              "    <tr>\n",
              "      <th>2156</th>\n",
              "      <td>869</td>\n",
              "      <td>1</td>\n",
              "      <td>Veggie Salad Bowl</td>\n",
              "      <td>[Tomatillo Red Chili Salsa, [Fajita Vegetables...</td>\n",
              "      <td>11.25</td>\n",
              "    </tr>\n",
              "    <tr>\n",
              "      <th>496</th>\n",
              "      <td>207</td>\n",
              "      <td>1</td>\n",
              "      <td>Veggie Salad Bowl</td>\n",
              "      <td>[Fresh Tomato Salsa, [Rice, Lettuce, Guacamole...</td>\n",
              "      <td>11.25</td>\n",
              "    </tr>\n",
              "    <tr>\n",
              "      <th>455</th>\n",
              "      <td>195</td>\n",
              "      <td>1</td>\n",
              "      <td>Veggie Salad Bowl</td>\n",
              "      <td>[Fresh Tomato Salsa, [Fajita Vegetables, Rice,...</td>\n",
              "      <td>11.25</td>\n",
              "    </tr>\n",
              "    <tr>\n",
              "      <th>3223</th>\n",
              "      <td>1289</td>\n",
              "      <td>1</td>\n",
              "      <td>Veggie Salad Bowl</td>\n",
              "      <td>[Tomatillo Red Chili Salsa, [Fajita Vegetables...</td>\n",
              "      <td>11.25</td>\n",
              "    </tr>\n",
              "    <tr>\n",
              "      <th>295</th>\n",
              "      <td>128</td>\n",
              "      <td>1</td>\n",
              "      <td>Veggie Salad Bowl</td>\n",
              "      <td>[Fresh Tomato Salsa, [Fajita Vegetables, Lettu...</td>\n",
              "      <td>11.25</td>\n",
              "    </tr>\n",
              "    <tr>\n",
              "      <th>4109</th>\n",
              "      <td>1646</td>\n",
              "      <td>1</td>\n",
              "      <td>Veggie Salad Bowl</td>\n",
              "      <td>[Tomatillo Red Chili Salsa, [Fajita Vegetables...</td>\n",
              "      <td>11.25</td>\n",
              "    </tr>\n",
              "    <tr>\n",
              "      <th>4201</th>\n",
              "      <td>1677</td>\n",
              "      <td>1</td>\n",
              "      <td>Veggie Salad Bowl</td>\n",
              "      <td>[Fresh Tomato Salsa, [Fajita Vegetables, Black...</td>\n",
              "      <td>11.25</td>\n",
              "    </tr>\n",
              "    <tr>\n",
              "      <th>4261</th>\n",
              "      <td>1700</td>\n",
              "      <td>1</td>\n",
              "      <td>Veggie Salad Bowl</td>\n",
              "      <td>[Fresh Tomato Salsa, [Fajita Vegetables, Rice,...</td>\n",
              "      <td>11.25</td>\n",
              "    </tr>\n",
              "    <tr>\n",
              "      <th>186</th>\n",
              "      <td>83</td>\n",
              "      <td>1</td>\n",
              "      <td>Veggie Salad Bowl</td>\n",
              "      <td>[Fresh Tomato Salsa, [Fajita Vegetables, Rice,...</td>\n",
              "      <td>11.25</td>\n",
              "    </tr>\n",
              "  </tbody>\n",
              "</table>\n",
              "</div>"
            ],
            "text/plain": [
              "     order_id  ...  item_price\n",
              "2223      896  ...        8.75\n",
              "3293     1321  ...        8.75\n",
              "2683     1066  ...        8.75\n",
              "2269      913  ...        8.75\n",
              "4541     1805  ...        8.75\n",
              "4573     1818  ...        8.75\n",
              "960       394  ...        8.75\n",
              "1316      536  ...        8.75\n",
              "1884      760  ...       11.25\n",
              "2156      869  ...       11.25\n",
              "496       207  ...       11.25\n",
              "455       195  ...       11.25\n",
              "3223     1289  ...       11.25\n",
              "295       128  ...       11.25\n",
              "4109     1646  ...       11.25\n",
              "4201     1677  ...       11.25\n",
              "4261     1700  ...       11.25\n",
              "186        83  ...       11.25\n",
              "\n",
              "[18 rows x 5 columns]"
            ]
          },
          "metadata": {},
          "execution_count": 52
        }
      ]
    },
    {
      "cell_type": "code",
      "metadata": {
        "colab": {
          "base_uri": "https://localhost:8080/"
        },
        "id": "2Lqbcow-QNQb",
        "outputId": "f91384d2-ee68-4a13-c49a-faedb894a4fd"
      },
      "source": [
        "# 우선 ‘item_name’이 “Chicken Bowl”인 데이터만 필터링\n",
        "# ‘quantity’가 2 이상인 데이터만 추가 필터링 후, 그 데이터 수를 출력\n",
        "Chicken_Bowl= chipo[chipo['item_name'] == \"Chicken Bowl\"]\n",
        "two_more_Chicken_Bowl = Chicken_Bowl[Chicken_Bowl['quantity'] >= 2]\n",
        "len(two_more_Chicken_Bowl)"
      ],
      "execution_count": null,
      "outputs": [
        {
          "output_type": "execute_result",
          "data": {
            "text/plain": [
              "33"
            ]
          },
          "metadata": {},
          "execution_count": 53
        }
      ]
    },
    {
      "cell_type": "code",
      "metadata": {
        "colab": {
          "base_uri": "https://localhost:8080/"
        },
        "id": "1dYqC6xvaKOZ",
        "outputId": "70ce8e01-9c12-4201-b51f-beaab7cf246c"
      },
      "source": [
        "print(two_more_Chicken_Bowl.sum()['quantity'], '개')"
      ],
      "execution_count": null,
      "outputs": [
        {
          "output_type": "stream",
          "name": "stdout",
          "text": [
            "68 개\n"
          ]
        }
      ]
    },
    {
      "cell_type": "code",
      "metadata": {
        "colab": {
          "base_uri": "https://localhost:8080/"
        },
        "id": "4YlnTG1CaKYu",
        "outputId": "a1f80ba6-99ab-4724-f7ad-e64abd910d83"
      },
      "source": [
        "print(\"$\",two_more_Chicken_Bowl.sum()['item_price'])\n"
      ],
      "execution_count": null,
      "outputs": [
        {
          "output_type": "stream",
          "name": "stdout",
          "text": [
            "$ 642.71\n"
          ]
        }
      ]
    },
    {
      "cell_type": "markdown",
      "metadata": {
        "id": "Cbq-KIeFC1Vt"
      },
      "source": [
        "#Drink"
      ]
    },
    {
      "cell_type": "code",
      "metadata": {
        "id": "u_-RM1ToDkes"
      },
      "source": [
        ""
      ],
      "execution_count": null,
      "outputs": []
    },
    {
      "cell_type": "code",
      "metadata": {
        "colab": {
          "resources": {
            "http://localhost:8080/nbextensions/google.colab/files.js": {
              "data": "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",
              "ok": true,
              "headers": [
                [
                  "content-type",
                  "application/javascript"
                ]
              ],
              "status": 200,
              "status_text": ""
            }
          },
          "base_uri": "https://localhost:8080/",
          "height": 76
        },
        "id": "npum9pioH5pd",
        "outputId": "8264a189-7a8f-4193-9821-ac3eae0e0fb9"
      },
      "source": [
        "from google.colab import files\n",
        "uploaded=files.upload()\n"
      ],
      "execution_count": null,
      "outputs": [
        {
          "output_type": "display_data",
          "data": {
            "text/html": [
              "\n",
              "     <input type=\"file\" id=\"files-0d436738-c86a-4f66-937e-a8737f207b41\" name=\"files[]\" multiple disabled\n",
              "        style=\"border:none\" />\n",
              "     <output id=\"result-0d436738-c86a-4f66-937e-a8737f207b41\">\n",
              "      Upload widget is only available when the cell has been executed in the\n",
              "      current browser session. Please rerun this cell to enable.\n",
              "      </output>\n",
              "      <script src=\"/nbextensions/google.colab/files.js\"></script> "
            ],
            "text/plain": [
              "<IPython.core.display.HTML object>"
            ]
          },
          "metadata": {}
        },
        {
          "output_type": "stream",
          "name": "stdout",
          "text": [
            "Saving drinks.csv to drinks.csv\n"
          ]
        }
      ]
    },
    {
      "cell_type": "code",
      "metadata": {
        "colab": {
          "base_uri": "https://localhost:8080/",
          "height": 206
        },
        "id": "F9wj7H8NLRPv",
        "outputId": "8538f615-b78c-4542-adb0-205ed76c25fd"
      },
      "source": [
        "import io\n",
        "import pandas as pd\n",
        "drinks=pd.read_csv(io.BytesIO(uploaded['drinks.csv']))\n",
        "drinks.head()"
      ],
      "execution_count": null,
      "outputs": [
        {
          "output_type": "execute_result",
          "data": {
            "text/html": [
              "<div>\n",
              "<style scoped>\n",
              "    .dataframe tbody tr th:only-of-type {\n",
              "        vertical-align: middle;\n",
              "    }\n",
              "\n",
              "    .dataframe tbody tr th {\n",
              "        vertical-align: top;\n",
              "    }\n",
              "\n",
              "    .dataframe thead th {\n",
              "        text-align: right;\n",
              "    }\n",
              "</style>\n",
              "<table border=\"1\" class=\"dataframe\">\n",
              "  <thead>\n",
              "    <tr style=\"text-align: right;\">\n",
              "      <th></th>\n",
              "      <th>country</th>\n",
              "      <th>beer_servings</th>\n",
              "      <th>spirit_servings</th>\n",
              "      <th>wine_servings</th>\n",
              "      <th>total_litres_of_pure_alcohol</th>\n",
              "      <th>continent</th>\n",
              "    </tr>\n",
              "  </thead>\n",
              "  <tbody>\n",
              "    <tr>\n",
              "      <th>0</th>\n",
              "      <td>Afghanistan</td>\n",
              "      <td>0</td>\n",
              "      <td>0</td>\n",
              "      <td>0</td>\n",
              "      <td>0.0</td>\n",
              "      <td>AS</td>\n",
              "    </tr>\n",
              "    <tr>\n",
              "      <th>1</th>\n",
              "      <td>Albania</td>\n",
              "      <td>89</td>\n",
              "      <td>132</td>\n",
              "      <td>54</td>\n",
              "      <td>4.9</td>\n",
              "      <td>EU</td>\n",
              "    </tr>\n",
              "    <tr>\n",
              "      <th>2</th>\n",
              "      <td>Algeria</td>\n",
              "      <td>25</td>\n",
              "      <td>0</td>\n",
              "      <td>14</td>\n",
              "      <td>0.7</td>\n",
              "      <td>AF</td>\n",
              "    </tr>\n",
              "    <tr>\n",
              "      <th>3</th>\n",
              "      <td>Andorra</td>\n",
              "      <td>245</td>\n",
              "      <td>138</td>\n",
              "      <td>312</td>\n",
              "      <td>12.4</td>\n",
              "      <td>EU</td>\n",
              "    </tr>\n",
              "    <tr>\n",
              "      <th>4</th>\n",
              "      <td>Angola</td>\n",
              "      <td>217</td>\n",
              "      <td>57</td>\n",
              "      <td>45</td>\n",
              "      <td>5.9</td>\n",
              "      <td>AF</td>\n",
              "    </tr>\n",
              "  </tbody>\n",
              "</table>\n",
              "</div>"
            ],
            "text/plain": [
              "       country  beer_servings  ...  total_litres_of_pure_alcohol  continent\n",
              "0  Afghanistan              0  ...                           0.0         AS\n",
              "1      Albania             89  ...                           4.9         EU\n",
              "2      Algeria             25  ...                           0.7         AF\n",
              "3      Andorra            245  ...                          12.4         EU\n",
              "4       Angola            217  ...                           5.9         AF\n",
              "\n",
              "[5 rows x 6 columns]"
            ]
          },
          "metadata": {},
          "execution_count": 2
        }
      ]
    },
    {
      "cell_type": "code",
      "metadata": {
        "colab": {
          "base_uri": "https://localhost:8080/",
          "height": 206
        },
        "id": "AjK5fRFmQTCu",
        "outputId": "34bcd1a4-04d3-43af-d311-89ff9abe7148"
      },
      "source": [
        "import pandas as pd\n",
        "file=open('drinks.csv')\n",
        "drinks=pd.read_csv(file)\n",
        "drinks.head()"
      ],
      "execution_count": null,
      "outputs": [
        {
          "output_type": "execute_result",
          "data": {
            "text/html": [
              "<div>\n",
              "<style scoped>\n",
              "    .dataframe tbody tr th:only-of-type {\n",
              "        vertical-align: middle;\n",
              "    }\n",
              "\n",
              "    .dataframe tbody tr th {\n",
              "        vertical-align: top;\n",
              "    }\n",
              "\n",
              "    .dataframe thead th {\n",
              "        text-align: right;\n",
              "    }\n",
              "</style>\n",
              "<table border=\"1\" class=\"dataframe\">\n",
              "  <thead>\n",
              "    <tr style=\"text-align: right;\">\n",
              "      <th></th>\n",
              "      <th>country</th>\n",
              "      <th>beer_servings</th>\n",
              "      <th>spirit_servings</th>\n",
              "      <th>wine_servings</th>\n",
              "      <th>total_litres_of_pure_alcohol</th>\n",
              "      <th>continent</th>\n",
              "    </tr>\n",
              "  </thead>\n",
              "  <tbody>\n",
              "    <tr>\n",
              "      <th>0</th>\n",
              "      <td>Afghanistan</td>\n",
              "      <td>0</td>\n",
              "      <td>0</td>\n",
              "      <td>0</td>\n",
              "      <td>0.0</td>\n",
              "      <td>AS</td>\n",
              "    </tr>\n",
              "    <tr>\n",
              "      <th>1</th>\n",
              "      <td>Albania</td>\n",
              "      <td>89</td>\n",
              "      <td>132</td>\n",
              "      <td>54</td>\n",
              "      <td>4.9</td>\n",
              "      <td>EU</td>\n",
              "    </tr>\n",
              "    <tr>\n",
              "      <th>2</th>\n",
              "      <td>Algeria</td>\n",
              "      <td>25</td>\n",
              "      <td>0</td>\n",
              "      <td>14</td>\n",
              "      <td>0.7</td>\n",
              "      <td>AF</td>\n",
              "    </tr>\n",
              "    <tr>\n",
              "      <th>3</th>\n",
              "      <td>Andorra</td>\n",
              "      <td>245</td>\n",
              "      <td>138</td>\n",
              "      <td>312</td>\n",
              "      <td>12.4</td>\n",
              "      <td>EU</td>\n",
              "    </tr>\n",
              "    <tr>\n",
              "      <th>4</th>\n",
              "      <td>Angola</td>\n",
              "      <td>217</td>\n",
              "      <td>57</td>\n",
              "      <td>45</td>\n",
              "      <td>5.9</td>\n",
              "      <td>AF</td>\n",
              "    </tr>\n",
              "  </tbody>\n",
              "</table>\n",
              "</div>"
            ],
            "text/plain": [
              "       country  beer_servings  ...  total_litres_of_pure_alcohol  continent\n",
              "0  Afghanistan              0  ...                           0.0         AS\n",
              "1      Albania             89  ...                           4.9         EU\n",
              "2      Algeria             25  ...                           0.7         AF\n",
              "3      Andorra            245  ...                          12.4         EU\n",
              "4       Angola            217  ...                           5.9         AF\n",
              "\n",
              "[5 rows x 6 columns]"
            ]
          },
          "metadata": {},
          "execution_count": 3
        }
      ]
    },
    {
      "cell_type": "code",
      "metadata": {
        "colab": {
          "base_uri": "https://localhost:8080/"
        },
        "id": "EEH58pNwLRYM",
        "outputId": "587159f2-4a64-46fc-9795-e676581e1eba"
      },
      "source": [
        "drinks.info() #자료정보 확인, 이를 통해 대륙의 결측치를 확인함. "
      ],
      "execution_count": null,
      "outputs": [
        {
          "output_type": "stream",
          "name": "stdout",
          "text": [
            "<class 'pandas.core.frame.DataFrame'>\n",
            "RangeIndex: 193 entries, 0 to 192\n",
            "Data columns (total 6 columns):\n",
            " #   Column                        Non-Null Count  Dtype  \n",
            "---  ------                        --------------  -----  \n",
            " 0   country                       193 non-null    object \n",
            " 1   beer_servings                 193 non-null    int64  \n",
            " 2   spirit_servings               193 non-null    int64  \n",
            " 3   wine_servings                 193 non-null    int64  \n",
            " 4   total_litres_of_pure_alcohol  193 non-null    float64\n",
            " 5   continent                     170 non-null    object \n",
            "dtypes: float64(1), int64(3), object(2)\n",
            "memory usage: 9.2+ KB\n"
          ]
        }
      ]
    },
    {
      "cell_type": "code",
      "metadata": {
        "colab": {
          "base_uri": "https://localhost:8080/",
          "height": 295
        },
        "id": "8iJcuEh-LRgs",
        "outputId": "5ee8271b-c5c4-4fba-c10d-7ba83810d925"
      },
      "source": [
        "drinks.describe()#통계 정보 확인"
      ],
      "execution_count": null,
      "outputs": [
        {
          "output_type": "execute_result",
          "data": {
            "text/html": [
              "<div>\n",
              "<style scoped>\n",
              "    .dataframe tbody tr th:only-of-type {\n",
              "        vertical-align: middle;\n",
              "    }\n",
              "\n",
              "    .dataframe tbody tr th {\n",
              "        vertical-align: top;\n",
              "    }\n",
              "\n",
              "    .dataframe thead th {\n",
              "        text-align: right;\n",
              "    }\n",
              "</style>\n",
              "<table border=\"1\" class=\"dataframe\">\n",
              "  <thead>\n",
              "    <tr style=\"text-align: right;\">\n",
              "      <th></th>\n",
              "      <th>beer_servings</th>\n",
              "      <th>spirit_servings</th>\n",
              "      <th>wine_servings</th>\n",
              "      <th>total_litres_of_pure_alcohol</th>\n",
              "    </tr>\n",
              "  </thead>\n",
              "  <tbody>\n",
              "    <tr>\n",
              "      <th>count</th>\n",
              "      <td>193.000000</td>\n",
              "      <td>193.000000</td>\n",
              "      <td>193.000000</td>\n",
              "      <td>193.000000</td>\n",
              "    </tr>\n",
              "    <tr>\n",
              "      <th>mean</th>\n",
              "      <td>106.160622</td>\n",
              "      <td>80.994819</td>\n",
              "      <td>49.450777</td>\n",
              "      <td>4.717098</td>\n",
              "    </tr>\n",
              "    <tr>\n",
              "      <th>std</th>\n",
              "      <td>101.143103</td>\n",
              "      <td>88.284312</td>\n",
              "      <td>79.697598</td>\n",
              "      <td>3.773298</td>\n",
              "    </tr>\n",
              "    <tr>\n",
              "      <th>min</th>\n",
              "      <td>0.000000</td>\n",
              "      <td>0.000000</td>\n",
              "      <td>0.000000</td>\n",
              "      <td>0.000000</td>\n",
              "    </tr>\n",
              "    <tr>\n",
              "      <th>25%</th>\n",
              "      <td>20.000000</td>\n",
              "      <td>4.000000</td>\n",
              "      <td>1.000000</td>\n",
              "      <td>1.300000</td>\n",
              "    </tr>\n",
              "    <tr>\n",
              "      <th>50%</th>\n",
              "      <td>76.000000</td>\n",
              "      <td>56.000000</td>\n",
              "      <td>8.000000</td>\n",
              "      <td>4.200000</td>\n",
              "    </tr>\n",
              "    <tr>\n",
              "      <th>75%</th>\n",
              "      <td>188.000000</td>\n",
              "      <td>128.000000</td>\n",
              "      <td>59.000000</td>\n",
              "      <td>7.200000</td>\n",
              "    </tr>\n",
              "    <tr>\n",
              "      <th>max</th>\n",
              "      <td>376.000000</td>\n",
              "      <td>438.000000</td>\n",
              "      <td>370.000000</td>\n",
              "      <td>14.400000</td>\n",
              "    </tr>\n",
              "  </tbody>\n",
              "</table>\n",
              "</div>"
            ],
            "text/plain": [
              "       beer_servings  ...  total_litres_of_pure_alcohol\n",
              "count     193.000000  ...                    193.000000\n",
              "mean      106.160622  ...                      4.717098\n",
              "std       101.143103  ...                      3.773298\n",
              "min         0.000000  ...                      0.000000\n",
              "25%        20.000000  ...                      1.300000\n",
              "50%        76.000000  ...                      4.200000\n",
              "75%       188.000000  ...                      7.200000\n",
              "max       376.000000  ...                     14.400000\n",
              "\n",
              "[8 rows x 4 columns]"
            ]
          },
          "metadata": {},
          "execution_count": 6
        }
      ]
    },
    {
      "cell_type": "code",
      "metadata": {
        "colab": {
          "base_uri": "https://localhost:8080/",
          "height": 172
        },
        "id": "kGxIIf1tLRo8",
        "outputId": "73c0583d-646b-4c21-e322-393f76cfce08"
      },
      "source": [
        "corr=drinks[['beer_servings','wine_servings', 'spirit_servings', 'total_litres_of_pure_alcohol']].corr(method='pearson')\n",
        "corr"
      ],
      "execution_count": null,
      "outputs": [
        {
          "output_type": "execute_result",
          "data": {
            "text/html": [
              "<div>\n",
              "<style scoped>\n",
              "    .dataframe tbody tr th:only-of-type {\n",
              "        vertical-align: middle;\n",
              "    }\n",
              "\n",
              "    .dataframe tbody tr th {\n",
              "        vertical-align: top;\n",
              "    }\n",
              "\n",
              "    .dataframe thead th {\n",
              "        text-align: right;\n",
              "    }\n",
              "</style>\n",
              "<table border=\"1\" class=\"dataframe\">\n",
              "  <thead>\n",
              "    <tr style=\"text-align: right;\">\n",
              "      <th></th>\n",
              "      <th>beer_servings</th>\n",
              "      <th>wine_servings</th>\n",
              "      <th>spirit_servings</th>\n",
              "      <th>total_litres_of_pure_alcohol</th>\n",
              "    </tr>\n",
              "  </thead>\n",
              "  <tbody>\n",
              "    <tr>\n",
              "      <th>beer_servings</th>\n",
              "      <td>1.000000</td>\n",
              "      <td>0.527172</td>\n",
              "      <td>0.458819</td>\n",
              "      <td>0.835839</td>\n",
              "    </tr>\n",
              "    <tr>\n",
              "      <th>wine_servings</th>\n",
              "      <td>0.527172</td>\n",
              "      <td>1.000000</td>\n",
              "      <td>0.194797</td>\n",
              "      <td>0.667598</td>\n",
              "    </tr>\n",
              "    <tr>\n",
              "      <th>spirit_servings</th>\n",
              "      <td>0.458819</td>\n",
              "      <td>0.194797</td>\n",
              "      <td>1.000000</td>\n",
              "      <td>0.654968</td>\n",
              "    </tr>\n",
              "    <tr>\n",
              "      <th>total_litres_of_pure_alcohol</th>\n",
              "      <td>0.835839</td>\n",
              "      <td>0.667598</td>\n",
              "      <td>0.654968</td>\n",
              "      <td>1.000000</td>\n",
              "    </tr>\n",
              "  </tbody>\n",
              "</table>\n",
              "</div>"
            ],
            "text/plain": [
              "                              beer_servings  ...  total_litres_of_pure_alcohol\n",
              "beer_servings                      1.000000  ...                      0.835839\n",
              "wine_servings                      0.527172  ...                      0.667598\n",
              "spirit_servings                    0.458819  ...                      0.654968\n",
              "total_litres_of_pure_alcohol       0.835839  ...                      1.000000\n",
              "\n",
              "[4 rows x 4 columns]"
            ]
          },
          "metadata": {},
          "execution_count": 7
        }
      ]
    },
    {
      "cell_type": "markdown",
      "metadata": {
        "id": "hq5lQRcGLRxr"
      },
      "source": [
        "(피어슨의) \n",
        "상관계수는 일반적으로,\n",
        "값이 -1.0 ~ -0.7 이면, 강한 음적 상관관계\n",
        "\n",
        "값이 -0.7 ~ -0.3 이면, 뚜렷한 음적 상관관계\n",
        "\n",
        "값이 -0.3 ~ -0.1 이면, 약한 음적 상관관계\n",
        "\n",
        "값이 -0.1 ~ +0.1 이면, 없다고 할 수 있는 상관관계\n",
        "\n",
        "값이 +0.1 ~ +0.3 이면, 약한 양적 상관관계\n",
        "\n",
        "값이 +0.3 ~ +0.7 이면, 뚜렷한 양적 상관관계\n",
        "\n",
        "값이 +0.7 ~ +1.0 이면, 강한 양적 상관관계\n"
      ]
    },
    {
      "cell_type": "code",
      "metadata": {
        "id": "GuFh2Og-LR5c"
      },
      "source": [
        "import seaborn as sns\n"
      ],
      "execution_count": null,
      "outputs": []
    },
    {
      "cell_type": "code",
      "metadata": {
        "colab": {
          "base_uri": "https://localhost:8080/",
          "height": 287
        },
        "id": "8ci-v_cwLSAu",
        "outputId": "0113af73-d5ff-412c-eaa0-5e1bf524e2ba"
      },
      "source": [
        "sns.heatmap(corr.values)\n"
      ],
      "execution_count": null,
      "outputs": [
        {
          "output_type": "execute_result",
          "data": {
            "text/plain": [
              "<matplotlib.axes._subplots.AxesSubplot at 0x7fc4d2505310>"
            ]
          },
          "metadata": {},
          "execution_count": 9
        },
        {
          "output_type": "display_data",
          "data": {
            "image/png": "[encoded data removed]",
            "text/plain": [
              "<Figure size 432x288 with 2 Axes>"
            ]
          },
          "metadata": {
            "needs_background": "light"
          }
        }
      ]
    },
    {
      "cell_type": "code",
      "metadata": {
        "colab": {
          "base_uri": "https://localhost:8080/",
          "height": 269
        },
        "id": "J3RNqaKFLSIx",
        "outputId": "740e01e4-abd6-4287-c818-f9ffd1fe3768"
      },
      "source": [
        "#우선 변수명을 축약\n",
        "# cbar: Color_bar\n",
        "# annot: annotate(주석)\n",
        "# square: 정사각형, 'False'면 약간 직사각형 형태\n",
        "#linewidths: 경계선 설정\n",
        "# sns.set(font_scale = 1.5): 글자 크기 조정\n",
        "cols_name = ['beer', 'spirit', 'wine', 'alcohol']\n",
        "sns.heatmap(corr.values, cbar=True, annot=True, annot_kws={'size':20}, square=True, linewidths=0.2, xticklabels=cols_name, yticklabels=cols_name)\n",
        "sns.set(font_scale = 3) #축의 글자 사이즈\n"
      ],
      "execution_count": null,
      "outputs": [
        {
          "output_type": "display_data",
          "data": {
            "image/png": "[encoded data removed]",
            "text/plain": [
              "<Figure size 432x288 with 2 Axes>"
            ]
          },
          "metadata": {
            "needs_background": "light"
          }
        }
      ]
    },
    {
      "cell_type": "code",
      "metadata": {
        "id": "ZYtaHv_XLSPg",
        "colab": {
          "base_uri": "https://localhost:8080/",
          "height": 764
        },
        "outputId": "2275ed03-e353-4153-e56c-b0beaba88ff5"
      },
      "source": [
        "# 'context': 4종류 사이즈 설정(paper, notebook, talk, poster)\n",
        "#style= darkgrid, whitegrid, dark, white, ticks\n",
        "# 보다 디테일한 세팅: seaborn.set(context, style, palette, font, font_scale,color_code, rc)\n",
        "sns.set(style='dark', context='paper',font_scale = 1)\n",
        "sns.despine(left=True, bottom=True)\n",
        "sns.pairplot(drinks[['beer_servings', 'spirit_servings', 'wine_servings','total_litres_of_pure_alcohol']])"
      ],
      "execution_count": null,
      "outputs": [
        {
          "output_type": "execute_result",
          "data": {
            "text/plain": [
              "<seaborn.axisgrid.PairGrid at 0x7fc4c38ec910>"
            ]
          },
          "metadata": {},
          "execution_count": 22
        },
        {
          "output_type": "display_data",
          "data": {
            "text/plain": [
              "<Figure size 432x288 with 0 Axes>"
            ]
          },
          "metadata": {}
        },
        {
          "output_type": "display_data",
          "data": {
            "image/png": "[encoded data removed]",
            "text/plain": [
              "<Figure size 720x720 with 20 Axes>"
            ]
          },
          "metadata": {}
        }
      ]
    },
    {
      "cell_type": "markdown",
      "metadata": {
        "id": "4GMgf4yKYYh8"
      },
      "source": [
        "#데이터 전처리"
      ]
    },
    {
      "cell_type": "code",
      "metadata": {
        "id": "FwF2N6ZfLSWq",
        "colab": {
          "base_uri": "https://localhost:8080/",
          "height": 363
        },
        "outputId": "61b1cf50-e96b-45ce-9131-3344ffaf851e"
      },
      "source": [
        "drinks['continent'] = drinks['continent'].fillna('etc') #결측치를 etc로 변환\n",
        "drinks.head(10)"
      ],
      "execution_count": null,
      "outputs": [
        {
          "output_type": "execute_result",
          "data": {
            "text/html": [
              "<div>\n",
              "<style scoped>\n",
              "    .dataframe tbody tr th:only-of-type {\n",
              "        vertical-align: middle;\n",
              "    }\n",
              "\n",
              "    .dataframe tbody tr th {\n",
              "        vertical-align: top;\n",
              "    }\n",
              "\n",
              "    .dataframe thead th {\n",
              "        text-align: right;\n",
              "    }\n",
              "</style>\n",
              "<table border=\"1\" class=\"dataframe\">\n",
              "  <thead>\n",
              "    <tr style=\"text-align: right;\">\n",
              "      <th></th>\n",
              "      <th>country</th>\n",
              "      <th>beer_servings</th>\n",
              "      <th>spirit_servings</th>\n",
              "      <th>wine_servings</th>\n",
              "      <th>total_litres_of_pure_alcohol</th>\n",
              "      <th>continent</th>\n",
              "    </tr>\n",
              "  </thead>\n",
              "  <tbody>\n",
              "    <tr>\n",
              "      <th>0</th>\n",
              "      <td>Afghanistan</td>\n",
              "      <td>0</td>\n",
              "      <td>0</td>\n",
              "      <td>0</td>\n",
              "      <td>0.0</td>\n",
              "      <td>AS</td>\n",
              "    </tr>\n",
              "    <tr>\n",
              "      <th>1</th>\n",
              "      <td>Albania</td>\n",
              "      <td>89</td>\n",
              "      <td>132</td>\n",
              "      <td>54</td>\n",
              "      <td>4.9</td>\n",
              "      <td>EU</td>\n",
              "    </tr>\n",
              "    <tr>\n",
              "      <th>2</th>\n",
              "      <td>Algeria</td>\n",
              "      <td>25</td>\n",
              "      <td>0</td>\n",
              "      <td>14</td>\n",
              "      <td>0.7</td>\n",
              "      <td>AF</td>\n",
              "    </tr>\n",
              "    <tr>\n",
              "      <th>3</th>\n",
              "      <td>Andorra</td>\n",
              "      <td>245</td>\n",
              "      <td>138</td>\n",
              "      <td>312</td>\n",
              "      <td>12.4</td>\n",
              "      <td>EU</td>\n",
              "    </tr>\n",
              "    <tr>\n",
              "      <th>4</th>\n",
              "      <td>Angola</td>\n",
              "      <td>217</td>\n",
              "      <td>57</td>\n",
              "      <td>45</td>\n",
              "      <td>5.9</td>\n",
              "      <td>AF</td>\n",
              "    </tr>\n",
              "    <tr>\n",
              "      <th>5</th>\n",
              "      <td>Antigua &amp; Barbuda</td>\n",
              "      <td>102</td>\n",
              "      <td>128</td>\n",
              "      <td>45</td>\n",
              "      <td>4.9</td>\n",
              "      <td>etc</td>\n",
              "    </tr>\n",
              "    <tr>\n",
              "      <th>6</th>\n",
              "      <td>Argentina</td>\n",
              "      <td>193</td>\n",
              "      <td>25</td>\n",
              "      <td>221</td>\n",
              "      <td>8.3</td>\n",
              "      <td>SA</td>\n",
              "    </tr>\n",
              "    <tr>\n",
              "      <th>7</th>\n",
              "      <td>Armenia</td>\n",
              "      <td>21</td>\n",
              "      <td>179</td>\n",
              "      <td>11</td>\n",
              "      <td>3.8</td>\n",
              "      <td>EU</td>\n",
              "    </tr>\n",
              "    <tr>\n",
              "      <th>8</th>\n",
              "      <td>Australia</td>\n",
              "      <td>261</td>\n",
              "      <td>72</td>\n",
              "      <td>212</td>\n",
              "      <td>10.4</td>\n",
              "      <td>OC</td>\n",
              "    </tr>\n",
              "    <tr>\n",
              "      <th>9</th>\n",
              "      <td>Austria</td>\n",
              "      <td>279</td>\n",
              "      <td>75</td>\n",
              "      <td>191</td>\n",
              "      <td>9.7</td>\n",
              "      <td>EU</td>\n",
              "    </tr>\n",
              "  </tbody>\n",
              "</table>\n",
              "</div>"
            ],
            "text/plain": [
              "             country  beer_servings  ...  total_litres_of_pure_alcohol  continent\n",
              "0        Afghanistan              0  ...                           0.0         AS\n",
              "1            Albania             89  ...                           4.9         EU\n",
              "2            Algeria             25  ...                           0.7         AF\n",
              "3            Andorra            245  ...                          12.4         EU\n",
              "4             Angola            217  ...                           5.9         AF\n",
              "5  Antigua & Barbuda            102  ...                           4.9        etc\n",
              "6          Argentina            193  ...                           8.3         SA\n",
              "7            Armenia             21  ...                           3.8         EU\n",
              "8          Australia            261  ...                          10.4         OC\n",
              "9            Austria            279  ...                           9.7         EU\n",
              "\n",
              "[10 rows x 6 columns]"
            ]
          },
          "metadata": {},
          "execution_count": 4
        }
      ]
    },
    {
      "cell_type": "code",
      "metadata": {
        "colab": {
          "base_uri": "https://localhost:8080/",
          "height": 311
        },
        "id": "zLV-SbynFvdF",
        "outputId": "97fc6210-79a9-4101-a979-3dc527c39045"
      },
      "source": [
        "import matplotlib.pyplot as plt\n",
        "\n",
        "index = drinks['continent'].value_counts().index.tolist()\n",
        "value = drinks['continent'].value_counts().values.tolist()\n",
        "# 어느 파이 조각을 뺄 것인가?`\n",
        "# 분포가 높은 순으로 정리되기 때문에 'index' 출력 후 'explode'를 결정\n",
        "print(index)\n",
        "print(value)\n",
        "explode = (0, 0, 0, 0.25, 0, 0) #조각의 크기 조절\n",
        "plt.pie(value, labels=index, explode=explode, autopct='%.0f%%', shadow=True) #autopct퍼센트계산 및 소수점표현\n",
        "plt.show\n"
      ],
      "execution_count": null,
      "outputs": [
        {
          "output_type": "stream",
          "name": "stdout",
          "text": [
            "['AF', 'EU', 'AS', 'etc', 'OC', 'SA']\n",
            "[53, 45, 44, 23, 16, 12]\n"
          ]
        },
        {
          "output_type": "execute_result",
          "data": {
            "text/plain": [
              "<function matplotlib.pyplot.show>"
            ]
          },
          "metadata": {},
          "execution_count": 12
        },
        {
          "output_type": "display_data",
          "data": {
            "image/png": "[encoded data removed]",
            "text/plain": [
              "<Figure size 432x288 with 1 Axes>"
            ]
          },
          "metadata": {}
        }
      ]
    },
    {
      "cell_type": "markdown",
      "metadata": {
        "id": "SjeJRpcUFvnm"
      },
      "source": [
        "# 대륙별 'spirit_servings' 데이터 통계치 구하기"
      ]
    },
    {
      "cell_type": "code",
      "metadata": {
        "colab": {
          "base_uri": "https://localhost:8080/",
          "height": 269
        },
        "id": "x-gB7q62Fvzw",
        "outputId": "09099d39-408f-430c-d0f0-e2a1d03d7f7e"
      },
      "source": [
        "con_drinks = drinks.groupby('continent')\n",
        "con_drinks['spirit_servings'].describe()"
      ],
      "execution_count": null,
      "outputs": [
        {
          "output_type": "execute_result",
          "data": {
            "text/html": [
              "<div>\n",
              "<style scoped>\n",
              "    .dataframe tbody tr th:only-of-type {\n",
              "        vertical-align: middle;\n",
              "    }\n",
              "\n",
              "    .dataframe tbody tr th {\n",
              "        vertical-align: top;\n",
              "    }\n",
              "\n",
              "    .dataframe thead th {\n",
              "        text-align: right;\n",
              "    }\n",
              "</style>\n",
              "<table border=\"1\" class=\"dataframe\">\n",
              "  <thead>\n",
              "    <tr style=\"text-align: right;\">\n",
              "      <th></th>\n",
              "      <th>count</th>\n",
              "      <th>mean</th>\n",
              "      <th>std</th>\n",
              "      <th>min</th>\n",
              "      <th>25%</th>\n",
              "      <th>50%</th>\n",
              "      <th>75%</th>\n",
              "      <th>max</th>\n",
              "    </tr>\n",
              "    <tr>\n",
              "      <th>continent</th>\n",
              "      <th></th>\n",
              "      <th></th>\n",
              "      <th></th>\n",
              "      <th></th>\n",
              "      <th></th>\n",
              "      <th></th>\n",
              "      <th></th>\n",
              "      <th></th>\n",
              "    </tr>\n",
              "  </thead>\n",
              "  <tbody>\n",
              "    <tr>\n",
              "      <th>AF</th>\n",
              "      <td>53.0</td>\n",
              "      <td>16.339623</td>\n",
              "      <td>28.102794</td>\n",
              "      <td>0.0</td>\n",
              "      <td>1.00</td>\n",
              "      <td>3.0</td>\n",
              "      <td>19.00</td>\n",
              "      <td>152.0</td>\n",
              "    </tr>\n",
              "    <tr>\n",
              "      <th>AS</th>\n",
              "      <td>44.0</td>\n",
              "      <td>60.840909</td>\n",
              "      <td>84.362160</td>\n",
              "      <td>0.0</td>\n",
              "      <td>1.00</td>\n",
              "      <td>16.0</td>\n",
              "      <td>98.00</td>\n",
              "      <td>326.0</td>\n",
              "    </tr>\n",
              "    <tr>\n",
              "      <th>EU</th>\n",
              "      <td>45.0</td>\n",
              "      <td>132.555556</td>\n",
              "      <td>77.589115</td>\n",
              "      <td>0.0</td>\n",
              "      <td>81.00</td>\n",
              "      <td>122.0</td>\n",
              "      <td>173.00</td>\n",
              "      <td>373.0</td>\n",
              "    </tr>\n",
              "    <tr>\n",
              "      <th>OC</th>\n",
              "      <td>16.0</td>\n",
              "      <td>58.437500</td>\n",
              "      <td>70.504817</td>\n",
              "      <td>0.0</td>\n",
              "      <td>18.00</td>\n",
              "      <td>37.0</td>\n",
              "      <td>65.25</td>\n",
              "      <td>254.0</td>\n",
              "    </tr>\n",
              "    <tr>\n",
              "      <th>SA</th>\n",
              "      <td>12.0</td>\n",
              "      <td>114.750000</td>\n",
              "      <td>77.077440</td>\n",
              "      <td>25.0</td>\n",
              "      <td>65.75</td>\n",
              "      <td>108.5</td>\n",
              "      <td>148.75</td>\n",
              "      <td>302.0</td>\n",
              "    </tr>\n",
              "    <tr>\n",
              "      <th>etc</th>\n",
              "      <td>23.0</td>\n",
              "      <td>165.739130</td>\n",
              "      <td>94.993884</td>\n",
              "      <td>68.0</td>\n",
              "      <td>101.00</td>\n",
              "      <td>137.0</td>\n",
              "      <td>190.50</td>\n",
              "      <td>438.0</td>\n",
              "    </tr>\n",
              "  </tbody>\n",
              "</table>\n",
              "</div>"
            ],
            "text/plain": [
              "           count        mean        std   min     25%    50%     75%    max\n",
              "continent                                                                  \n",
              "AF          53.0   16.339623  28.102794   0.0    1.00    3.0   19.00  152.0\n",
              "AS          44.0   60.840909  84.362160   0.0    1.00   16.0   98.00  326.0\n",
              "EU          45.0  132.555556  77.589115   0.0   81.00  122.0  173.00  373.0\n",
              "OC          16.0   58.437500  70.504817   0.0   18.00   37.0   65.25  254.0\n",
              "SA          12.0  114.750000  77.077440  25.0   65.75  108.5  148.75  302.0\n",
              "etc         23.0  165.739130  94.993884  68.0  101.00  137.0  190.50  438.0"
            ]
          },
          "metadata": {},
          "execution_count": 8
        }
      ]
    },
    {
      "cell_type": "code",
      "metadata": {
        "colab": {
          "base_uri": "https://localhost:8080/",
          "height": 269
        },
        "id": "fSHMbLGnFv95",
        "outputId": "96e1af56-e8df-49f4-b5f8-fbf87f01991f"
      },
      "source": [
        "#agg() 함수 이용의 장점은 여러가지 함수를 동시에 볼수 있는 것이다.\n",
        "#group객체.agg([함수1,함수2,함수3,…])\n",
        "#group객체.agg({‘열1’: 함수1, ‘열2’:함수2, …})\n",
        "drinks.groupby('continent').beer_servings.agg(['sum', 'mean', 'std', 'max', 'min'])"
      ],
      "execution_count": null,
      "outputs": [
        {
          "output_type": "execute_result",
          "data": {
            "text/html": [
              "<div>\n",
              "<style scoped>\n",
              "    .dataframe tbody tr th:only-of-type {\n",
              "        vertical-align: middle;\n",
              "    }\n",
              "\n",
              "    .dataframe tbody tr th {\n",
              "        vertical-align: top;\n",
              "    }\n",
              "\n",
              "    .dataframe thead th {\n",
              "        text-align: right;\n",
              "    }\n",
              "</style>\n",
              "<table border=\"1\" class=\"dataframe\">\n",
              "  <thead>\n",
              "    <tr style=\"text-align: right;\">\n",
              "      <th></th>\n",
              "      <th>sum</th>\n",
              "      <th>mean</th>\n",
              "      <th>std</th>\n",
              "      <th>max</th>\n",
              "      <th>min</th>\n",
              "    </tr>\n",
              "    <tr>\n",
              "      <th>continent</th>\n",
              "      <th></th>\n",
              "      <th></th>\n",
              "      <th></th>\n",
              "      <th></th>\n",
              "      <th></th>\n",
              "    </tr>\n",
              "  </thead>\n",
              "  <tbody>\n",
              "    <tr>\n",
              "      <th>AF</th>\n",
              "      <td>3258</td>\n",
              "      <td>61.471698</td>\n",
              "      <td>80.557816</td>\n",
              "      <td>376</td>\n",
              "      <td>0</td>\n",
              "    </tr>\n",
              "    <tr>\n",
              "      <th>AS</th>\n",
              "      <td>1630</td>\n",
              "      <td>37.045455</td>\n",
              "      <td>49.469725</td>\n",
              "      <td>247</td>\n",
              "      <td>0</td>\n",
              "    </tr>\n",
              "    <tr>\n",
              "      <th>EU</th>\n",
              "      <td>8720</td>\n",
              "      <td>193.777778</td>\n",
              "      <td>99.631569</td>\n",
              "      <td>361</td>\n",
              "      <td>0</td>\n",
              "    </tr>\n",
              "    <tr>\n",
              "      <th>OC</th>\n",
              "      <td>1435</td>\n",
              "      <td>89.687500</td>\n",
              "      <td>96.641412</td>\n",
              "      <td>306</td>\n",
              "      <td>0</td>\n",
              "    </tr>\n",
              "    <tr>\n",
              "      <th>SA</th>\n",
              "      <td>2101</td>\n",
              "      <td>175.083333</td>\n",
              "      <td>65.242845</td>\n",
              "      <td>333</td>\n",
              "      <td>93</td>\n",
              "    </tr>\n",
              "    <tr>\n",
              "      <th>etc</th>\n",
              "      <td>3345</td>\n",
              "      <td>145.434783</td>\n",
              "      <td>79.621163</td>\n",
              "      <td>285</td>\n",
              "      <td>1</td>\n",
              "    </tr>\n",
              "  </tbody>\n",
              "</table>\n",
              "</div>"
            ],
            "text/plain": [
              "            sum        mean        std  max  min\n",
              "continent                                       \n",
              "AF         3258   61.471698  80.557816  376    0\n",
              "AS         1630   37.045455  49.469725  247    0\n",
              "EU         8720  193.777778  99.631569  361    0\n",
              "OC         1435   89.687500  96.641412  306    0\n",
              "SA         2101  175.083333  65.242845  333   93\n",
              "etc        3345  145.434783  79.621163  285    1"
            ]
          },
          "metadata": {},
          "execution_count": 11
        }
      ]
    },
    {
      "cell_type": "code",
      "metadata": {
        "colab": {
          "base_uri": "https://localhost:8080/"
        },
        "id": "lumhS8RFFwIA",
        "outputId": "b5a296c8-fc17-42ec-cda2-65dbcf2d27bd"
      },
      "source": [
        "#구하고자 하는 결과대로 생각하고 구하자. \n",
        "total_mean = drinks.total_litres_of_pure_alcohol.mean() #전체평균\n",
        "cont_mean = drinks.groupby('continent').total_litres_of_pure_alcohol.mean()#대륙별 평균\n",
        "cont_mean[cont_mean >= total_mean] #평균보다 큰 대륙을 부등식으로 구함. \n"
      ],
      "execution_count": null,
      "outputs": [
        {
          "output_type": "execute_result",
          "data": {
            "text/plain": [
              "continent\n",
              "EU     8.617778\n",
              "SA     6.308333\n",
              "etc    5.995652\n",
              "Name: total_litres_of_pure_alcohol, dtype: float64"
            ]
          },
          "metadata": {},
          "execution_count": 9
        }
      ]
    },
    {
      "cell_type": "code",
      "metadata": {
        "colab": {
          "base_uri": "https://localhost:8080/"
        },
        "id": "U1tu1LPeFwR_",
        "outputId": "89ae74ea-4459-4d59-9dfd-3709561146a5"
      },
      "source": [
        "#구하고자 하는 결과대로 생각하고 구하자. \n",
        "total_mean = drinks.total_litres_of_pure_alcohol.mean() #전체평균\n",
        "cont_mean = drinks.groupby('continent').total_litres_of_pure_alcohol.mean()#대륙별 평균\n",
        "cont_mean >= total_mean #이랗게 하면 Bool값만 나옴\n"
      ],
      "execution_count": null,
      "outputs": [
        {
          "output_type": "execute_result",
          "data": {
            "text/plain": [
              "continent\n",
              "AF     False\n",
              "AS     False\n",
              "EU      True\n",
              "OC     False\n",
              "SA      True\n",
              "etc     True\n",
              "Name: total_litres_of_pure_alcohol, dtype: bool"
            ]
          },
          "metadata": {},
          "execution_count": 14
        }
      ]
    },
    {
      "cell_type": "code",
      "metadata": {
        "colab": {
          "base_uri": "https://localhost:8080/",
          "height": 35
        },
        "id": "TJ6cOCbjFwbo",
        "outputId": "38d2a441-f80a-4df3-d7e4-68eeb023674c"
      },
      "source": [
        "#idxmax() 사용법(인덱스의 최댓값)\n",
        "drinks.groupby('continent').beer_servings.mean().idxmax()\n"
      ],
      "execution_count": null,
      "outputs": [
        {
          "output_type": "execute_result",
          "data": {
            "application/vnd.google.colaboratory.intrinsic+json": {
              "type": "string"
            },
            "text/plain": [
              "'EU'"
            ]
          },
          "metadata": {},
          "execution_count": 10
        }
      ]
    },
    {
      "cell_type": "code",
      "metadata": {
        "colab": {
          "base_uri": "https://localhost:8080/",
          "height": 35
        },
        "id": "awYNtnMvFwnE",
        "outputId": "490c9afb-6d50-4fb1-84e4-45e2b98d99a7"
      },
      "source": [
        "#참고: idmin()(인덱스의 최솟값)\n",
        "drinks.groupby('continent').beer_servings.mean().idxmin()"
      ],
      "execution_count": null,
      "outputs": [
        {
          "output_type": "execute_result",
          "data": {
            "application/vnd.google.colaboratory.intrinsic+json": {
              "type": "string"
            },
            "text/plain": [
              "'AS'"
            ]
          },
          "metadata": {},
          "execution_count": 14
        }
      ]
    },
    {
      "cell_type": "code",
      "metadata": {
        "colab": {
          "base_uri": "https://localhost:8080/",
          "height": 320
        },
        "id": "oHvQlvKKFwxe",
        "outputId": "7abc57dd-77f7-41b2-bac1-f95e30c448e3"
      },
      "source": [
        "import numpy as np\n",
        "continents=cont_mean.index.tolist()\n",
        "continents.append('mean') #대륙의 리스크에 mean 추가\n",
        "\n",
        "x=np.arange(len(continents))\n",
        "y=cont_mean.tolist()\n",
        "y.append(total_mean)\n",
        "\n",
        "plt.figure(figsize=(8,5))\n",
        "\n",
        "#bar_graph=plt.bar(x,y,color='g') \n",
        "bar_graph=plt.bar(x,y,color=sns.color_palette('hls',len(continents)),edgecolor='black') #구글에서 sns color를 검색해서 알아봐야 한다. \n",
        "#bar_graph[len(continents)-1].set_color('r')\n",
        "\n",
        "plt.plot([-1,7],[total_mean,total_mean], 'k--') #평균점선을 그리는 과정\n",
        "plt.xticks(x, continents)\n",
        "plt.ylabel('Total L of pure alcohol')\n",
        "\n",
        "plt.grid()\n",
        "plt.show()"
      ],
      "execution_count": null,
      "outputs": [
        {
          "output_type": "display_data",
          "data": {
            "image/png": "[encoded data removed]",
            "text/plain": [
              "<Figure size 576x360 with 1 Axes>"
            ]
          },
          "metadata": {
            "needs_background": "light"
          }
        }
      ]
    },
    {
      "cell_type": "code",
      "metadata": {
        "colab": {
          "base_uri": "https://localhost:8080/",
          "height": 496
        },
        "id": "145QMkqsFw8N",
        "outputId": "3a7e95d6-0e3f-4c90-c5c0-7e9bc2fb303a"
      },
      "source": [
        "continents = cont_mean.index.tolist()\n",
        "continents.append('mean')\n",
        "x = np.arange(len(continents))\n",
        "y = cont_mean.tolist()\n",
        "y.append(total_mean)\n",
        "fig = plt.figure(figsize=(8,5),dpi=100)\n",
        "bar_graph = plt.bar(x, y, color = sns.color_palette('flare',len(continents)),edgecolor='black') # 색상에는 hls,pastel, Set2, flare 등이 있음\n",
        "plt.plot([0, 6], [total_mean, total_mean], \"k--\")\n",
        "plt.xticks(x, continents)\n",
        "plt.ylabel('Total L of pure alcohol')\n",
        "#수치 추가하기\n",
        "y = np.round(y,2) #소수 2째 자리까지 표기\n",
        "ax = fig.add_subplot()\n",
        "for i, b in enumerate(bar_graph):\n",
        " ax.text(b.get_x()+b.get_width()*(1/2),b.get_height()+0.15, y[i], ha='center',fontsize=12)\n",
        "plt.show()"
      ],
      "execution_count": null,
      "outputs": [
        {
          "output_type": "stream",
          "name": "stderr",
          "text": [
            "/usr/local/lib/python3.7/dist-packages/ipykernel_launcher.py:13: MatplotlibDeprecationWarning: Adding an axes using the same arguments as a previous axes currently reuses the earlier instance.  In a future version, a new instance will always be created and returned.  Meanwhile, this warning can be suppressed, and the future behavior ensured, by passing a unique label to each axes instance.\n",
            "  del sys.path[0]\n"
          ]
        },
        {
          "output_type": "display_data",
          "data": {
            "image/png": "[encoded data removed]",
            "text/plain": [
              "<Figure size 800x500 with 1 Axes>"
            ]
          },
          "metadata": {
            "needs_background": "light"
          }
        }
      ]
    },
    {
      "cell_type": "code",
      "metadata": {
        "id": "g3r3SJZoFxGE"
      },
      "source": [
        "import pandas as pd\n",
        "import numpy as np\n",
        "import matplotlib.pyplot as plt\n",
        "%matplotlib inline"
      ],
      "execution_count": null,
      "outputs": []
    },
    {
      "cell_type": "code",
      "metadata": {
        "id": "kbDyGmqrFxPv",
        "colab": {
          "resources": {
            "http://localhost:8080/nbextensions/google.colab/files.js": {
              "data": "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",
              "ok": true,
              "headers": [
                [
                  "content-type",
                  "application/javascript"
                ]
              ],
              "status": 200,
              "status_text": ""
            }
          },
          "base_uri": "https://localhost:8080/",
          "height": 76
        },
        "outputId": "087c5e63-cf74-4511-ce22-3ff5a4135cf8"
      },
      "source": [
        "from google.colab import files\n",
        "uploaded = files.upload()"
      ],
      "execution_count": null,
      "outputs": [
        {
          "output_type": "display_data",
          "data": {
            "text/html": [
              "\n",
              "     <input type=\"file\" id=\"files-10d0e7b9-c7a1-4edf-8d8f-96d96a343421\" name=\"files[]\" multiple disabled\n",
              "        style=\"border:none\" />\n",
              "     <output id=\"result-10d0e7b9-c7a1-4edf-8d8f-96d96a343421\">\n",
              "      Upload widget is only available when the cell has been executed in the\n",
              "      current browser session. Please rerun this cell to enable.\n",
              "      </output>\n",
              "      <script src=\"/nbextensions/google.colab/files.js\"></script> "
            ],
            "text/plain": [
              "<IPython.core.display.HTML object>"
            ]
          },
          "metadata": {}
        },
        {
          "output_type": "stream",
          "name": "stdout",
          "text": [
            "Saving drinks.csv to drinks.csv\n"
          ]
        }
      ]
    },
    {
      "cell_type": "code",
      "metadata": {
        "colab": {
          "base_uri": "https://localhost:8080/",
          "height": 205
        },
        "id": "rvu1YhLyI3zk",
        "outputId": "20551578-c2c9-443d-c556-de63c77c9fc1"
      },
      "source": [
        "file=open('drinks.csv')\n",
        "drinks=pd.read_csv(file)\n",
        "drinks.head()"
      ],
      "execution_count": null,
      "outputs": [
        {
          "output_type": "execute_result",
          "data": {
            "text/html": [
              "<div>\n",
              "<style scoped>\n",
              "    .dataframe tbody tr th:only-of-type {\n",
              "        vertical-align: middle;\n",
              "    }\n",
              "\n",
              "    .dataframe tbody tr th {\n",
              "        vertical-align: top;\n",
              "    }\n",
              "\n",
              "    .dataframe thead th {\n",
              "        text-align: right;\n",
              "    }\n",
              "</style>\n",
              "<table border=\"1\" class=\"dataframe\">\n",
              "  <thead>\n",
              "    <tr style=\"text-align: right;\">\n",
              "      <th></th>\n",
              "      <th>country</th>\n",
              "      <th>beer_servings</th>\n",
              "      <th>spirit_servings</th>\n",
              "      <th>wine_servings</th>\n",
              "      <th>total_litres_of_pure_alcohol</th>\n",
              "      <th>continent</th>\n",
              "    </tr>\n",
              "  </thead>\n",
              "  <tbody>\n",
              "    <tr>\n",
              "      <th>0</th>\n",
              "      <td>Afghanistan</td>\n",
              "      <td>0</td>\n",
              "      <td>0</td>\n",
              "      <td>0</td>\n",
              "      <td>0.0</td>\n",
              "      <td>AS</td>\n",
              "    </tr>\n",
              "    <tr>\n",
              "      <th>1</th>\n",
              "      <td>Albania</td>\n",
              "      <td>89</td>\n",
              "      <td>132</td>\n",
              "      <td>54</td>\n",
              "      <td>4.9</td>\n",
              "      <td>EU</td>\n",
              "    </tr>\n",
              "    <tr>\n",
              "      <th>2</th>\n",
              "      <td>Algeria</td>\n",
              "      <td>25</td>\n",
              "      <td>0</td>\n",
              "      <td>14</td>\n",
              "      <td>0.7</td>\n",
              "      <td>AF</td>\n",
              "    </tr>\n",
              "    <tr>\n",
              "      <th>3</th>\n",
              "      <td>Andorra</td>\n",
              "      <td>245</td>\n",
              "      <td>138</td>\n",
              "      <td>312</td>\n",
              "      <td>12.4</td>\n",
              "      <td>EU</td>\n",
              "    </tr>\n",
              "    <tr>\n",
              "      <th>4</th>\n",
              "      <td>Angola</td>\n",
              "      <td>217</td>\n",
              "      <td>57</td>\n",
              "      <td>45</td>\n",
              "      <td>5.9</td>\n",
              "      <td>AF</td>\n",
              "    </tr>\n",
              "  </tbody>\n",
              "</table>\n",
              "</div>"
            ],
            "text/plain": [
              "       country  beer_servings  ...  total_litres_of_pure_alcohol  continent\n",
              "0  Afghanistan              0  ...                           0.0         AS\n",
              "1      Albania             89  ...                           4.9         EU\n",
              "2      Algeria             25  ...                           0.7         AF\n",
              "3      Andorra            245  ...                          12.4         EU\n",
              "4       Angola            217  ...                           5.9         AF\n",
              "\n",
              "[5 rows x 6 columns]"
            ]
          },
          "metadata": {},
          "execution_count": 3
        }
      ]
    },
    {
      "cell_type": "code",
      "metadata": {
        "colab": {
          "base_uri": "https://localhost:8080/"
        },
        "id": "1VNIqv9fJHlm",
        "outputId": "36e41f63-96bc-46f1-ba36-00ddc5741bd5"
      },
      "source": [
        "# scipy 설치\n",
        "!pip install scipy"
      ],
      "execution_count": null,
      "outputs": [
        {
          "output_type": "stream",
          "name": "stdout",
          "text": [
            "Requirement already satisfied: scipy in /usr/local/lib/python3.7/dist-packages (1.4.1)\n",
            "Requirement already satisfied: numpy>=1.13.3 in /usr/local/lib/python3.7/dist-packages (from scipy) (1.19.5)\n"
          ]
        }
      ]
    },
    {
      "cell_type": "code",
      "metadata": {
        "id": "Ur48z4zMJHzU"
      },
      "source": [
        "# scipy: 수학, 과학, 공학을 위한 오픈소스 SW\n",
        "# stats: 통계 함수 모듈\n",
        "from scipy import stats\n"
      ],
      "execution_count": null,
      "outputs": []
    },
    {
      "cell_type": "code",
      "metadata": {
        "id": "4bTF-pWjJH0V"
      },
      "source": [
        "#해당 대륙 데이터만 추출하여 저장\n",
        "Africa = drinks.loc[drinks['continent'] == 'AF']\n",
        "Europe = drinks.loc[drinks['continent'] == 'EU']"
      ],
      "execution_count": null,
      "outputs": []
    },
    {
      "cell_type": "code",
      "metadata": {
        "colab": {
          "base_uri": "https://localhost:8080/"
        },
        "id": "6qyahstCYdt2",
        "outputId": "960efff9-f625-4c95-9014-c21d7c2c57d8"
      },
      "source": [
        "from scipy.stats import bartlett #ttest전에 실행해서 등분산을 검정해야 한다. \n",
        "bartlett(Africa['beer_servings'], Europe['beer_servings']) #pvalue=0.143으로 0.05보다 큰값을 가진다. 이를 통해 이분산을 임을 알고 equal_var=False로설정한다. "
      ],
      "execution_count": null,
      "outputs": [
        {
          "output_type": "execute_result",
          "data": {
            "text/plain": [
              "BartlettResult(statistic=2.1393208136069135, pvalue=0.14356543988378348)"
            ]
          },
          "metadata": {},
          "execution_count": 7
        }
      ]
    },
    {
      "cell_type": "code",
      "metadata": {
        "colab": {
          "base_uri": "https://localhost:8080/"
        },
        "id": "R_z97QMOJH1c",
        "outputId": "88521c74-8e78-4744-9ee4-7a6239e44007"
      },
      "source": [
        "#해당 대륙의 평균 맥주 소비량\n",
        "print('아프리카 맥주 평균 소비량 = ', Africa['beer_servings'].mean())\n",
        "print('유럽 맥주 평균 소비량 = ', Europe['beer_servings'].mean())\n",
        "print('아프리카 맥주소비량 분산 = ', Africa['beer_servings'].std())\n",
        "print('유럽 맥주소비량 분산 = ', Europe['beer_servings'].std())\n",
        "\n",
        "#t-test 수행(stats.ttest_ind())\n",
        "# equal_var: 등분산 여부\n",
        "#True=등분산; False=이분산\n",
        "t_test = stats.ttest_ind(Africa['beer_servings'], Europe['beer_servings'],equal_var=False)#pvalue가 0.05보다 커서 귀무가설을 채택하고 두 집단 간의 차이가 없다. \n",
        "print(t_test)\n"
      ],
      "execution_count": null,
      "outputs": [
        {
          "output_type": "stream",
          "name": "stdout",
          "text": [
            "아프리카 맥주 평균 소비량 =  61.471698113207545\n",
            "유럽 맥주 평균 소비량 =  193.77777777777777\n",
            "아프리카 맥주소비량 분산 =  80.5578157822034\n",
            "유럽 맥주소비량 분산 =  99.6315687668798\n",
            "Ttest_indResult(statistic=-7.143520192189803, pvalue=2.9837787864303205e-10)\n"
          ]
        }
      ]
    },
    {
      "cell_type": "code",
      "metadata": {
        "id": "NM99kYzBJH4a"
      },
      "source": [
        "drinks['total_servings']= drinks['beer_servings']+drinks['spirit_servings']+drinks['wine_servings']"
      ],
      "execution_count": null,
      "outputs": []
    },
    {
      "cell_type": "code",
      "metadata": {
        "id": "fsyVXxKLJH6u"
      },
      "source": [
        "drinks['alcohol_rate']=drinks['total_litres_of_pure_alcohol']/drinks['total_servings']"
      ],
      "execution_count": null,
      "outputs": []
    },
    {
      "cell_type": "code",
      "metadata": {
        "colab": {
          "base_uri": "https://localhost:8080/",
          "height": 206
        },
        "id": "V_2iohKOJH-U",
        "outputId": "da0d4fde-b803-421b-8e2d-eef844cabee4"
      },
      "source": [
        "drinks.head()"
      ],
      "execution_count": null,
      "outputs": [
        {
          "output_type": "execute_result",
          "data": {
            "text/html": [
              "<div>\n",
              "<style scoped>\n",
              "    .dataframe tbody tr th:only-of-type {\n",
              "        vertical-align: middle;\n",
              "    }\n",
              "\n",
              "    .dataframe tbody tr th {\n",
              "        vertical-align: top;\n",
              "    }\n",
              "\n",
              "    .dataframe thead th {\n",
              "        text-align: right;\n",
              "    }\n",
              "</style>\n",
              "<table border=\"1\" class=\"dataframe\">\n",
              "  <thead>\n",
              "    <tr style=\"text-align: right;\">\n",
              "      <th></th>\n",
              "      <th>country</th>\n",
              "      <th>beer_servings</th>\n",
              "      <th>spirit_servings</th>\n",
              "      <th>wine_servings</th>\n",
              "      <th>total_litres_of_pure_alcohol</th>\n",
              "      <th>continent</th>\n",
              "      <th>total_servings</th>\n",
              "      <th>alcohol_rate</th>\n",
              "    </tr>\n",
              "  </thead>\n",
              "  <tbody>\n",
              "    <tr>\n",
              "      <th>0</th>\n",
              "      <td>Afghanistan</td>\n",
              "      <td>0</td>\n",
              "      <td>0</td>\n",
              "      <td>0</td>\n",
              "      <td>0.0</td>\n",
              "      <td>AS</td>\n",
              "      <td>0</td>\n",
              "      <td>NaN</td>\n",
              "    </tr>\n",
              "    <tr>\n",
              "      <th>1</th>\n",
              "      <td>Albania</td>\n",
              "      <td>89</td>\n",
              "      <td>132</td>\n",
              "      <td>54</td>\n",
              "      <td>4.9</td>\n",
              "      <td>EU</td>\n",
              "      <td>275</td>\n",
              "      <td>0.017818</td>\n",
              "    </tr>\n",
              "    <tr>\n",
              "      <th>2</th>\n",
              "      <td>Algeria</td>\n",
              "      <td>25</td>\n",
              "      <td>0</td>\n",
              "      <td>14</td>\n",
              "      <td>0.7</td>\n",
              "      <td>AF</td>\n",
              "      <td>39</td>\n",
              "      <td>0.017949</td>\n",
              "    </tr>\n",
              "    <tr>\n",
              "      <th>3</th>\n",
              "      <td>Andorra</td>\n",
              "      <td>245</td>\n",
              "      <td>138</td>\n",
              "      <td>312</td>\n",
              "      <td>12.4</td>\n",
              "      <td>EU</td>\n",
              "      <td>695</td>\n",
              "      <td>0.017842</td>\n",
              "    </tr>\n",
              "    <tr>\n",
              "      <th>4</th>\n",
              "      <td>Angola</td>\n",
              "      <td>217</td>\n",
              "      <td>57</td>\n",
              "      <td>45</td>\n",
              "      <td>5.9</td>\n",
              "      <td>AF</td>\n",
              "      <td>319</td>\n",
              "      <td>0.018495</td>\n",
              "    </tr>\n",
              "  </tbody>\n",
              "</table>\n",
              "</div>"
            ],
            "text/plain": [
              "       country  beer_servings  ...  total_servings  alcohol_rate\n",
              "0  Afghanistan              0  ...               0           NaN\n",
              "1      Albania             89  ...             275      0.017818\n",
              "2      Algeria             25  ...              39      0.017949\n",
              "3      Andorra            245  ...             695      0.017842\n",
              "4       Angola            217  ...             319      0.018495\n",
              "\n",
              "[5 rows x 8 columns]"
            ]
          },
          "metadata": {},
          "execution_count": 26
        }
      ]
    },
    {
      "cell_type": "code",
      "metadata": {
        "id": "ZGgp9maqJIBQ"
      },
      "source": [
        "drinks['alcohol_rate']=drinks['alcohol_rate'].fillna(0)"
      ],
      "execution_count": null,
      "outputs": []
    },
    {
      "cell_type": "code",
      "metadata": {
        "id": "fX3bRIXAJIEW"
      },
      "source": [
        "country_with_alcohol=drinks[['country','alcohol_rate']]"
      ],
      "execution_count": null,
      "outputs": []
    },
    {
      "cell_type": "code",
      "metadata": {
        "colab": {
          "base_uri": "https://localhost:8080/",
          "height": 206
        },
        "id": "ygdlVkclJIHB",
        "outputId": "3ec1ae84-4404-4ba4-c787-eae52d3fb442"
      },
      "source": [
        "country_with_alcohol=country_with_alcohol.sort_values(by='alcohol_rate', ascending=False) #ascending=0으로 표기해도 된다.\n",
        "country_with_alcohol.head()"
      ],
      "execution_count": null,
      "outputs": [
        {
          "output_type": "execute_result",
          "data": {
            "text/html": [
              "<div>\n",
              "<style scoped>\n",
              "    .dataframe tbody tr th:only-of-type {\n",
              "        vertical-align: middle;\n",
              "    }\n",
              "\n",
              "    .dataframe tbody tr th {\n",
              "        vertical-align: top;\n",
              "    }\n",
              "\n",
              "    .dataframe thead th {\n",
              "        text-align: right;\n",
              "    }\n",
              "</style>\n",
              "<table border=\"1\" class=\"dataframe\">\n",
              "  <thead>\n",
              "    <tr style=\"text-align: right;\">\n",
              "      <th></th>\n",
              "      <th>country</th>\n",
              "      <th>alcohol_rate</th>\n",
              "    </tr>\n",
              "  </thead>\n",
              "  <tbody>\n",
              "    <tr>\n",
              "      <th>63</th>\n",
              "      <td>Gambia</td>\n",
              "      <td>0.266667</td>\n",
              "    </tr>\n",
              "    <tr>\n",
              "      <th>153</th>\n",
              "      <td>Sierra Leone</td>\n",
              "      <td>0.223333</td>\n",
              "    </tr>\n",
              "    <tr>\n",
              "      <th>124</th>\n",
              "      <td>Nigeria</td>\n",
              "      <td>0.185714</td>\n",
              "    </tr>\n",
              "    <tr>\n",
              "      <th>179</th>\n",
              "      <td>Uganda</td>\n",
              "      <td>0.153704</td>\n",
              "    </tr>\n",
              "    <tr>\n",
              "      <th>142</th>\n",
              "      <td>Rwanda</td>\n",
              "      <td>0.151111</td>\n",
              "    </tr>\n",
              "  </tbody>\n",
              "</table>\n",
              "</div>"
            ],
            "text/plain": [
              "          country  alcohol_rate\n",
              "63         Gambia      0.266667\n",
              "153  Sierra Leone      0.223333\n",
              "124       Nigeria      0.185714\n",
              "179        Uganda      0.153704\n",
              "142        Rwanda      0.151111"
            ]
          },
          "metadata": {},
          "execution_count": 52
        }
      ]
    },
    {
      "cell_type": "code",
      "metadata": {
        "colab": {
          "base_uri": "https://localhost:8080/",
          "height": 281
        },
        "id": "oVLqtRI2Rn9G",
        "outputId": "e0e4149d-492d-44db-c390-e793d8e4c223"
      },
      "source": [
        "#x-축 설정\n",
        "country_list = country_with_alcohol.country.tolist()\n",
        "x = np.arange(len(country_list))\n",
        "#y-축 설정\n",
        "rank = country_with_alcohol.alcohol_rate.tolist()\n",
        "#bar 그래프 그리기\n",
        "bar_list = plt.bar(x, rank)\n",
        "#'South Korea' bar만 빨간색으로 설정\n",
        "bar_list[country_list.index(\"South Korea\")].set_color('r')\n",
        "#y-축 제목\n",
        "plt.ylabel('alcohol rate')\n",
        "#그래프 제목\n",
        "plt.title('liquor drink rank by country')\n",
        "#축 범위 설정\n",
        "#plt.axis([0, 200, 0, 0.3])\n",
        "#x-축 좌표인 'South Korea'의 위치\n",
        "korea_rank = country_list.index(\"South Korea\") # 14\n",
        "\n",
        "#y-축 좌표인 'South Korea'의 'alcohol_rate' 값\n",
        "korea_alc_rate = country_with_alcohol[country_with_alcohol['country'] == 'SouthKorea']['alcohol_rate'] #0.059394\n",
        "#그래프 내 화살표 주석 달기\n",
        "#plt.annotate: 그래프에서 주석 추가\n",
        "#xy: 화살표가 가르킬 위치\n",
        "#xytext: 텍스트 위치\n",
        "#fontsize=40: 글자 크기\n",
        "#화살표 옵션\n",
        "#arrowprops: 화살표 정의\n",
        "#facecolor: 화살표 내부 색깔\n",
        "#edgecolor: 화살표 외부선 색깔\n",
        "#fill=True: 화살표 내부 색깔 채우기\n",
        "#shrink=0.15: 화살표 시작점과 텍스트 간 거리 설정(0~1). 아래는 텍스트 위치가 이미 지정\n",
        "#headwidth=80: 화살 머리 너비\n",
        "#headlength=100: 화살 머리 길이\n",
        "#width=30: 화살대 너비\n",
        "#plt.annotate('South Korea : ' + str(korea_rank + 1),xy=(korea_rank, korea_alc_rate),xytext=(korea_rank + 10, korea_alc_rate + 0.05),arrowprops=dict(facecolor='red'))\n",
        "plt.show()"
      ],
      "execution_count": null,
      "outputs": [
        {
          "output_type": "display_data",
          "data": {
            "image/png": "[encoded data removed]",
            "text/plain": [
              "<Figure size 432x288 with 1 Axes>"
            ]
          },
          "metadata": {
            "needs_background": "light"
          }
        }
      ]
    },
    {
      "cell_type": "code",
      "metadata": {
        "colab": {
          "base_uri": "https://localhost:8080/",
          "height": 309
        },
        "id": "vZ4GXiwIWkwz",
        "outputId": "da3bd269-4f8b-4a61-c69f-6a1de81d245c"
      },
      "source": [
        "#x-축 설정\n",
        "country_list = country_with_alcohol.country.tolist()\n",
        "x = np.arange(len(country_list))\n",
        "#y-축 설정\n",
        "rank = country_with_alcohol.alcohol_rate.tolist()\n",
        "\n",
        "#bar 그래프 그리기\n",
        "plt.figure(figsize=(8,4), dpi=80, edgecolor='b')\n",
        "bar_list = plt.bar(x, rank)\n",
        "bar_list[country_list.index(\"South Korea\")].set_color('r')\n",
        "#y-축 제목\n",
        "plt.ylabel('alcohol rate')\n",
        "#그래프 제목\n",
        "plt.title('liquor drink rank by country')\n",
        "\n",
        "korea_alc_rate = country_with_alcohol[country_with_alcohol['country'] == 'South Korea']['alcohol_rate'] \n",
        "\n",
        "plt.annotate('South Korea : '+ str(korea_rank+1) ,xy=(korea_rank, korea_alc_rate),xytext=(korea_rank + 10, korea_alc_rate + 0.05),arrowprops=dict(facecolor='red'))\n",
        "plt.show()"
      ],
      "execution_count": null,
      "outputs": [
        {
          "output_type": "display_data",
          "data": {
            "image/png": "[encoded data removed]",
            "text/plain": [
              "<Figure size 640x320 with 1 Axes>"
            ]
          },
          "metadata": {
            "needs_background": "light"
          }
        }
      ]
    },
    {
      "cell_type": "markdown",
      "metadata": {
        "id": "_73vIilLDkmR"
      },
      "source": [
        "#Picher"
      ]
    },
    {
      "cell_type": "code",
      "metadata": {
        "id": "myxXA7lgDkuE"
      },
      "source": [
        ""
      ],
      "execution_count": null,
      "outputs": []
    },
    {
      "cell_type": "code",
      "metadata": {
        "id": "z-m8SJO8aM6P"
      },
      "source": [
        "import pandas as pd\n",
        "import numpy as np\n",
        "import matplotlib.pyplot as plt\n",
        "import warnings\n",
        "warnings.filterwarnings(\"ignore\")\n"
      ],
      "execution_count": null,
      "outputs": []
    },
    {
      "cell_type": "code",
      "metadata": {
        "colab": {
          "resources": {
            "http://localhost:8080/nbextensions/google.colab/files.js": {
              "data": "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",
              "ok": true,
              "headers": [
                [
                  "content-type",
                  "application/javascript"
                ]
              ],
              "status": 200,
              "status_text": ""
            }
          },
          "base_uri": "https://localhost:8080/",
          "height": 76
        },
        "id": "tT0Sg7O6aNDJ",
        "outputId": "ad0c3913-590a-4817-df5d-79bbb45c31e4"
      },
      "source": [
        "#해당 파일은 적당한 폴더에 저장\n",
        "from google.colab import files\n",
        "uploaded = files.upload()\n"
      ],
      "execution_count": null,
      "outputs": [
        {
          "output_type": "display_data",
          "data": {
            "text/html": [
              "\n",
              "     <input type=\"file\" id=\"files-1ff93eaf-a048-46fd-a688-06e604a3b215\" name=\"files[]\" multiple disabled\n",
              "        style=\"border:none\" />\n",
              "     <output id=\"result-1ff93eaf-a048-46fd-a688-06e604a3b215\">\n",
              "      Upload widget is only available when the cell has been executed in the\n",
              "      current browser session. Please rerun this cell to enable.\n",
              "      </output>\n",
              "      <script src=\"/nbextensions/google.colab/files.js\"></script> "
            ],
            "text/plain": [
              "<IPython.core.display.HTML object>"
            ]
          },
          "metadata": {}
        },
        {
          "output_type": "stream",
          "name": "stdout",
          "text": [
            "Saving pitcher_stats_2017.csv to pitcher_stats_2017.csv\n"
          ]
        }
      ]
    },
    {
      "cell_type": "code",
      "metadata": {
        "colab": {
          "base_uri": "https://localhost:8080/",
          "height": 203
        },
        "id": "xybaZOsKaNNA",
        "outputId": "f68841e0-8264-425d-8db3-6de4801f88b7"
      },
      "source": [
        "file=open('pitcher_stats_2017.csv')\n",
        "pitcher=pd.read_csv(file)\n",
        "pitcher.head()"
      ],
      "execution_count": null,
      "outputs": [
        {
          "output_type": "execute_result",
          "data": {
            "text/html": [
              "<div>\n",
              "<style scoped>\n",
              "    .dataframe tbody tr th:only-of-type {\n",
              "        vertical-align: middle;\n",
              "    }\n",
              "\n",
              "    .dataframe tbody tr th {\n",
              "        vertical-align: top;\n",
              "    }\n",
              "\n",
              "    .dataframe thead th {\n",
              "        text-align: right;\n",
              "    }\n",
              "</style>\n",
              "<table border=\"1\" class=\"dataframe\">\n",
              "  <thead>\n",
              "    <tr style=\"text-align: right;\">\n",
              "      <th></th>\n",
              "      <th>선수명</th>\n",
              "      <th>팀명</th>\n",
              "      <th>승</th>\n",
              "      <th>패</th>\n",
              "      <th>세</th>\n",
              "      <th>홀드</th>\n",
              "      <th>블론</th>\n",
              "      <th>경기</th>\n",
              "      <th>선발</th>\n",
              "      <th>이닝</th>\n",
              "      <th>삼진/9</th>\n",
              "      <th>볼넷/9</th>\n",
              "      <th>홈런/9</th>\n",
              "      <th>BABIP</th>\n",
              "      <th>LOB%</th>\n",
              "      <th>ERA</th>\n",
              "      <th>RA9-WAR</th>\n",
              "      <th>FIP</th>\n",
              "      <th>kFIP</th>\n",
              "      <th>WAR</th>\n",
              "      <th>연봉(2018)</th>\n",
              "      <th>연봉(2017)</th>\n",
              "    </tr>\n",
              "  </thead>\n",
              "  <tbody>\n",
              "    <tr>\n",
              "      <th>0</th>\n",
              "      <td>켈리</td>\n",
              "      <td>SK</td>\n",
              "      <td>16</td>\n",
              "      <td>7</td>\n",
              "      <td>0</td>\n",
              "      <td>0</td>\n",
              "      <td>0</td>\n",
              "      <td>30</td>\n",
              "      <td>30</td>\n",
              "      <td>190.0</td>\n",
              "      <td>8.95</td>\n",
              "      <td>2.13</td>\n",
              "      <td>0.76</td>\n",
              "      <td>0.342</td>\n",
              "      <td>73.7</td>\n",
              "      <td>3.60</td>\n",
              "      <td>6.91</td>\n",
              "      <td>3.69</td>\n",
              "      <td>3.44</td>\n",
              "      <td>6.62</td>\n",
              "      <td>140000</td>\n",
              "      <td>85000</td>\n",
              "    </tr>\n",
              "    <tr>\n",
              "      <th>1</th>\n",
              "      <td>소사</td>\n",
              "      <td>LG</td>\n",
              "      <td>11</td>\n",
              "      <td>11</td>\n",
              "      <td>1</td>\n",
              "      <td>0</td>\n",
              "      <td>0</td>\n",
              "      <td>30</td>\n",
              "      <td>29</td>\n",
              "      <td>185.1</td>\n",
              "      <td>7.43</td>\n",
              "      <td>1.85</td>\n",
              "      <td>0.53</td>\n",
              "      <td>0.319</td>\n",
              "      <td>67.1</td>\n",
              "      <td>3.88</td>\n",
              "      <td>6.80</td>\n",
              "      <td>3.52</td>\n",
              "      <td>3.41</td>\n",
              "      <td>6.08</td>\n",
              "      <td>120000</td>\n",
              "      <td>50000</td>\n",
              "    </tr>\n",
              "    <tr>\n",
              "      <th>2</th>\n",
              "      <td>양현종</td>\n",
              "      <td>KIA</td>\n",
              "      <td>20</td>\n",
              "      <td>6</td>\n",
              "      <td>0</td>\n",
              "      <td>0</td>\n",
              "      <td>0</td>\n",
              "      <td>31</td>\n",
              "      <td>31</td>\n",
              "      <td>193.1</td>\n",
              "      <td>7.36</td>\n",
              "      <td>2.09</td>\n",
              "      <td>0.79</td>\n",
              "      <td>0.332</td>\n",
              "      <td>72.1</td>\n",
              "      <td>3.44</td>\n",
              "      <td>6.54</td>\n",
              "      <td>3.94</td>\n",
              "      <td>3.82</td>\n",
              "      <td>5.64</td>\n",
              "      <td>230000</td>\n",
              "      <td>150000</td>\n",
              "    </tr>\n",
              "    <tr>\n",
              "      <th>3</th>\n",
              "      <td>차우찬</td>\n",
              "      <td>LG</td>\n",
              "      <td>10</td>\n",
              "      <td>7</td>\n",
              "      <td>0</td>\n",
              "      <td>0</td>\n",
              "      <td>0</td>\n",
              "      <td>28</td>\n",
              "      <td>28</td>\n",
              "      <td>175.2</td>\n",
              "      <td>8.04</td>\n",
              "      <td>1.95</td>\n",
              "      <td>1.02</td>\n",
              "      <td>0.298</td>\n",
              "      <td>75.0</td>\n",
              "      <td>3.43</td>\n",
              "      <td>6.11</td>\n",
              "      <td>4.20</td>\n",
              "      <td>4.03</td>\n",
              "      <td>4.63</td>\n",
              "      <td>100000</td>\n",
              "      <td>100000</td>\n",
              "    </tr>\n",
              "    <tr>\n",
              "      <th>4</th>\n",
              "      <td>레일리</td>\n",
              "      <td>롯데</td>\n",
              "      <td>13</td>\n",
              "      <td>7</td>\n",
              "      <td>0</td>\n",
              "      <td>0</td>\n",
              "      <td>0</td>\n",
              "      <td>30</td>\n",
              "      <td>30</td>\n",
              "      <td>187.1</td>\n",
              "      <td>7.49</td>\n",
              "      <td>2.11</td>\n",
              "      <td>0.91</td>\n",
              "      <td>0.323</td>\n",
              "      <td>74.1</td>\n",
              "      <td>3.80</td>\n",
              "      <td>6.13</td>\n",
              "      <td>4.36</td>\n",
              "      <td>4.31</td>\n",
              "      <td>4.38</td>\n",
              "      <td>111000</td>\n",
              "      <td>85000</td>\n",
              "    </tr>\n",
              "  </tbody>\n",
              "</table>\n",
              "</div>"
            ],
            "text/plain": [
              "   선수명   팀명   승   패  세  홀드  ...  RA9-WAR   FIP  kFIP   WAR  연봉(2018)  연봉(2017)\n",
              "0   켈리   SK  16   7  0   0  ...     6.91  3.69  3.44  6.62    140000     85000\n",
              "1   소사   LG  11  11  1   0  ...     6.80  3.52  3.41  6.08    120000     50000\n",
              "2  양현종  KIA  20   6  0   0  ...     6.54  3.94  3.82  5.64    230000    150000\n",
              "3  차우찬   LG  10   7  0   0  ...     6.11  4.20  4.03  4.63    100000    100000\n",
              "4  레일리   롯데  13   7  0   0  ...     6.13  4.36  4.31  4.38    111000     85000\n",
              "\n",
              "[5 rows x 22 columns]"
            ]
          },
          "metadata": {},
          "execution_count": 3
        }
      ]
    },
    {
      "cell_type": "code",
      "metadata": {
        "colab": {
          "base_uri": "https://localhost:8080/"
        },
        "id": "YyHJUaA9aNV6",
        "outputId": "8b047882-b93c-4c65-dce8-05aea569ab49"
      },
      "source": [
        "#설치된 폰트 확인\n",
        "import matplotlib as mpl\n",
        "set(sorted([f.name for f in mpl.font_manager.fontManager.ttflist]))"
      ],
      "execution_count": null,
      "outputs": [
        {
          "output_type": "execute_result",
          "data": {
            "text/plain": [
              "{'DejaVu Sans',\n",
              " 'DejaVu Sans Display',\n",
              " 'DejaVu Sans Mono',\n",
              " 'DejaVu Serif',\n",
              " 'DejaVu Serif Display',\n",
              " 'Humor Sans',\n",
              " 'Liberation Mono',\n",
              " 'Liberation Sans',\n",
              " 'Liberation Sans Narrow',\n",
              " 'Liberation Serif',\n",
              " 'STIXGeneral',\n",
              " 'STIXNonUnicode',\n",
              " 'STIXSizeFiveSym',\n",
              " 'STIXSizeFourSym',\n",
              " 'STIXSizeOneSym',\n",
              " 'STIXSizeThreeSym',\n",
              " 'STIXSizeTwoSym',\n",
              " 'cmb10',\n",
              " 'cmex10',\n",
              " 'cmmi10',\n",
              " 'cmr10',\n",
              " 'cmss10',\n",
              " 'cmsy10',\n",
              " 'cmtt10'}"
            ]
          },
          "metadata": {},
          "execution_count": 4
        }
      ]
    },
    {
      "cell_type": "code",
      "metadata": {
        "colab": {
          "base_uri": "https://localhost:8080/"
        },
        "id": "IR2UHPdGaNfH",
        "outputId": "a0c8d5f6-0bf4-46c9-f6d3-ad7ee811cc6a"
      },
      "source": [
        "#폰트 설치\n",
        "!apt-get update -qq\n",
        "!apt-get install fonts-nanum* -qq"
      ],
      "execution_count": null,
      "outputs": [
        {
          "output_type": "stream",
          "name": "stdout",
          "text": [
            "Selecting previously unselected package fonts-nanum.\n",
            "(Reading database ... 155047 files and directories currently installed.)\n",
            "Preparing to unpack .../fonts-nanum_20170925-1_all.deb ...\n",
            "Unpacking fonts-nanum (20170925-1) ...\n",
            "Selecting previously unselected package fonts-nanum-eco.\n",
            "Preparing to unpack .../fonts-nanum-eco_1.000-6_all.deb ...\n",
            "Unpacking fonts-nanum-eco (1.000-6) ...\n",
            "Selecting previously unselected package fonts-nanum-extra.\n",
            "Preparing to unpack .../fonts-nanum-extra_20170925-1_all.deb ...\n",
            "Unpacking fonts-nanum-extra (20170925-1) ...\n",
            "Selecting previously unselected package fonts-nanum-coding.\n",
            "Preparing to unpack .../fonts-nanum-coding_2.5-1_all.deb ...\n",
            "Unpacking fonts-nanum-coding (2.5-1) ...\n",
            "Setting up fonts-nanum-extra (20170925-1) ...\n",
            "Setting up fonts-nanum (20170925-1) ...\n",
            "Setting up fonts-nanum-coding (2.5-1) ...\n",
            "Setting up fonts-nanum-eco (1.000-6) ...\n",
            "Processing triggers for fontconfig (2.12.6-0ubuntu2) ...\n"
          ]
        }
      ]
    },
    {
      "cell_type": "code",
      "metadata": {
        "id": "IpgYuZYAaNpD"
      },
      "source": [
        "#한글 폰트 사용\n",
        "mpl.rc('font', family='NanumGothic')"
      ],
      "execution_count": null,
      "outputs": []
    },
    {
      "cell_type": "code",
      "metadata": {
        "colab": {
          "base_uri": "https://localhost:8080/",
          "height": 282
        },
        "id": "9oGNThdraNxu",
        "outputId": "fd43e877-ba26-4693-9ee7-45e1284d9bf5"
      },
      "source": [
        "#Box-Plot 그래프\n",
        "pitcher.boxplot(column=['연봉(2018)'])"
      ],
      "execution_count": null,
      "outputs": [
        {
          "output_type": "execute_result",
          "data": {
            "text/plain": [
              "<matplotlib.axes._subplots.AxesSubplot at 0x7f33625560d0>"
            ]
          },
          "metadata": {},
          "execution_count": 7
        },
        {
          "output_type": "stream",
          "name": "stderr",
          "text": [
            "findfont: Font family ['NanumGothic'] not found. Falling back to DejaVu Sans.\n"
          ]
        },
        {
          "output_type": "display_data",
          "data": {
            "image/png": "[encoded data removed]",
            "text/plain": [
              "<Figure size 432x288 with 1 Axes>"
            ]
          },
          "metadata": {
            "needs_background": "light"
          }
        }
      ]
    },
    {
      "cell_type": "code",
      "metadata": {
        "colab": {
          "base_uri": "https://localhost:8080/"
        },
        "id": "iP4q2crraN6z",
        "outputId": "9390894f-0f24-4392-f5b8-cc814e2ebc57"
      },
      "source": [
        "#통계치\n",
        "pitcher['연봉(2018)'].describe()\n"
      ],
      "execution_count": null,
      "outputs": [
        {
          "output_type": "execute_result",
          "data": {
            "text/plain": [
              "count       152.000000\n",
              "mean      18932.236842\n",
              "std       30940.732924\n",
              "min        2700.000000\n",
              "25%        4000.000000\n",
              "50%        7550.000000\n",
              "75%       18500.000000\n",
              "max      230000.000000\n",
              "Name: 연봉(2018), dtype: float64"
            ]
          },
          "metadata": {},
          "execution_count": 8
        }
      ]
    },
    {
      "cell_type": "code",
      "metadata": {
        "colab": {
          "base_uri": "https://localhost:8080/",
          "height": 316
        },
        "id": "ErJMfOi_aOM8",
        "outputId": "32154b32-4832-4c04-ce51-af3354c51d6b"
      },
      "source": [
        "#히스토그램\n",
        "#bins: 가로축 구간 개수 지정 → 값 변경하며 확인\n",
        "pitcher.hist(column=['연봉(2018)'], bins=152) "
      ],
      "execution_count": null,
      "outputs": [
        {
          "output_type": "execute_result",
          "data": {
            "text/plain": [
              "array([[<matplotlib.axes._subplots.AxesSubplot object at 0x7f33624e6c10>]],\n",
              "      dtype=object)"
            ]
          },
          "metadata": {},
          "execution_count": 9
        },
        {
          "output_type": "stream",
          "name": "stderr",
          "text": [
            "findfont: Font family ['NanumGothic'] not found. Falling back to DejaVu Sans.\n"
          ]
        },
        {
          "output_type": "display_data",
          "data": {
            "image/png": "[encoded data removed]",
            "text/plain": [
              "<Figure size 432x288 with 1 Axes>"
            ]
          },
          "metadata": {
            "needs_background": "light"
          }
        }
      ]
    },
    {
      "cell_type": "code",
      "metadata": {
        "id": "LBwxt7oEc778"
      },
      "source": [
        "pitcher_features_df = pitcher[['승', '패', '세', '홀드', '블론', '경기', '선발', '이닝', '삼진/9', '볼넷/9', '홈런/9', 'BABIP', 'LOB%', 'ERA', 'RA9-WAR', 'FIP', 'kFIP', 'WAR', '연\n",
        "봉(2018)', '연봉(2017)']]"
      ],
      "execution_count": null,
      "outputs": []
    },
    {
      "cell_type": "code",
      "metadata": {
        "id": "q5B074Pqc8FV"
      },
      "source": [
        "def plot_hist_each_column(df):\n",
        " plt.rcParams['figure.figsize'] = [20, 16]\n",
        " fig = plt.figure(1)\n",
        " # df의 column 개수 만큼의 subplot 출력\n",
        " for i in range(len(df.columns)):\n",
        "     ax = fig.add_subplot(5, 4, i+1)\n",
        "     plt.hist(df[df.columns[i]], bins=50)\n",
        "     ax.set_title(df.columns[i])\n",
        " plt.show()"
      ],
      "execution_count": null,
      "outputs": []
    },
    {
      "cell_type": "code",
      "metadata": {
        "colab": {
          "base_uri": "https://localhost:8080/",
          "height": 934
        },
        "id": "NZ58vf7lc8ON",
        "outputId": "55ede74c-9d56-4d55-abda-196ab3617ec9"
      },
      "source": [
        "plot_hist_each_column(pitcher_features_df)"
      ],
      "execution_count": null,
      "outputs": [
        {
          "output_type": "display_data",
          "data": {
            "image/png": "[encoded data removed]",
            "text/plain": [
              "<Figure size 1440x1152 with 20 Axes>"
            ]
          },
          "metadata": {
            "needs_background": "light"
          }
        }
      ]
    },
    {
      "cell_type": "code",
      "metadata": {
        "id": "Xjt7XpdYc8Xz"
      },
      "source": [
        "#pandas 형태로 정의된 데이터를 출력할 때,\n",
        "#scientific-notation이 아닌 float 모양으로 출력\n",
        "pd.options.mode.chained_assignment = None"
      ],
      "execution_count": null,
      "outputs": []
    },
    {
      "cell_type": "code",
      "metadata": {
        "id": "mFzfA7Aqc8hN"
      },
      "source": [
        "#각 항목에 대한 표준화 함수\n",
        "def standard_scaling(df, scale_columns):\n",
        " for col in scale_columns:\n",
        "     series_mean = df[col].mean()\n",
        "     series_std = df[col].std()\n",
        "     df[col] = df[col].apply(lambda x: (x-series_mean)/series_std)\n",
        " return df"
      ],
      "execution_count": null,
      "outputs": []
    },
    {
      "cell_type": "code",
      "metadata": {
        "id": "8bBnjVsEc8p8"
      },
      "source": [
        "#피처 각각에 대한 표준화 수행\n",
        "#예측 대상인 ‘연봉(2018)’ 항목은 표준화 필요 없음\n",
        "scale_columns = ['승', '패', '세', '홀드', '블론', '경기', '선발', '이닝', '삼진/9','볼넷/9', '홈런/9', 'BABIP', 'LOB%', 'ERA', 'RA9-WAR', 'FIP', 'kFIP', 'WAR', '연봉(2017)']\n",
        "pitcher_df = standard_scaling(pitcher, scale_columns)"
      ],
      "execution_count": null,
      "outputs": []
    },
    {
      "cell_type": "code",
      "metadata": {
        "colab": {
          "base_uri": "https://localhost:8080/",
          "height": 391
        },
        "id": "dGPtzzkec8x6",
        "outputId": "4fed9999-d9f8-4e56-80d1-72dbd4d4b922"
      },
      "source": [
        "#표준화 결과 출력\n",
        "pitcher_df = pitcher_df.rename(columns={'연봉(2018)': 'y'})\n",
        "pitcher_df.head(5)"
      ],
      "execution_count": null,
      "outputs": [
        {
          "output_type": "execute_result",
          "data": {
            "text/html": [
              "<div>\n",
              "<style scoped>\n",
              "    .dataframe tbody tr th:only-of-type {\n",
              "        vertical-align: middle;\n",
              "    }\n",
              "\n",
              "    .dataframe tbody tr th {\n",
              "        vertical-align: top;\n",
              "    }\n",
              "\n",
              "    .dataframe thead th {\n",
              "        text-align: right;\n",
              "    }\n",
              "</style>\n",
              "<table border=\"1\" class=\"dataframe\">\n",
              "  <thead>\n",
              "    <tr style=\"text-align: right;\">\n",
              "      <th></th>\n",
              "      <th>선수명</th>\n",
              "      <th>팀명</th>\n",
              "      <th>승</th>\n",
              "      <th>패</th>\n",
              "      <th>세</th>\n",
              "      <th>홀드</th>\n",
              "      <th>블론</th>\n",
              "      <th>경기</th>\n",
              "      <th>선발</th>\n",
              "      <th>이닝</th>\n",
              "      <th>삼진/9</th>\n",
              "      <th>볼넷/9</th>\n",
              "      <th>홈런/9</th>\n",
              "      <th>BABIP</th>\n",
              "      <th>LOB%</th>\n",
              "      <th>ERA</th>\n",
              "      <th>RA9-WAR</th>\n",
              "      <th>FIP</th>\n",
              "      <th>kFIP</th>\n",
              "      <th>WAR</th>\n",
              "      <th>y</th>\n",
              "      <th>연봉(2017)</th>\n",
              "    </tr>\n",
              "  </thead>\n",
              "  <tbody>\n",
              "    <tr>\n",
              "      <th>0</th>\n",
              "      <td>켈리</td>\n",
              "      <td>SK</td>\n",
              "      <td>3.313623</td>\n",
              "      <td>1.227145</td>\n",
              "      <td>-0.306452</td>\n",
              "      <td>-0.585705</td>\n",
              "      <td>-0.543592</td>\n",
              "      <td>0.059433</td>\n",
              "      <td>2.452068</td>\n",
              "      <td>2.645175</td>\n",
              "      <td>0.672099</td>\n",
              "      <td>-0.869000</td>\n",
              "      <td>-0.442382</td>\n",
              "      <td>0.016783</td>\n",
              "      <td>0.446615</td>\n",
              "      <td>-0.587056</td>\n",
              "      <td>3.174630</td>\n",
              "      <td>-0.971030</td>\n",
              "      <td>-1.058125</td>\n",
              "      <td>4.503142</td>\n",
              "      <td>140000</td>\n",
              "      <td>2.734705</td>\n",
              "    </tr>\n",
              "    <tr>\n",
              "      <th>1</th>\n",
              "      <td>소사</td>\n",
              "      <td>LG</td>\n",
              "      <td>2.019505</td>\n",
              "      <td>2.504721</td>\n",
              "      <td>-0.098502</td>\n",
              "      <td>-0.585705</td>\n",
              "      <td>-0.543592</td>\n",
              "      <td>0.059433</td>\n",
              "      <td>2.349505</td>\n",
              "      <td>2.547755</td>\n",
              "      <td>0.134531</td>\n",
              "      <td>-0.987502</td>\n",
              "      <td>-0.668521</td>\n",
              "      <td>-0.241686</td>\n",
              "      <td>-0.122764</td>\n",
              "      <td>-0.519855</td>\n",
              "      <td>3.114968</td>\n",
              "      <td>-1.061888</td>\n",
              "      <td>-1.073265</td>\n",
              "      <td>4.094734</td>\n",
              "      <td>120000</td>\n",
              "      <td>1.337303</td>\n",
              "    </tr>\n",
              "    <tr>\n",
              "      <th>2</th>\n",
              "      <td>양현종</td>\n",
              "      <td>KIA</td>\n",
              "      <td>4.348918</td>\n",
              "      <td>0.907751</td>\n",
              "      <td>-0.306452</td>\n",
              "      <td>-0.585705</td>\n",
              "      <td>-0.543592</td>\n",
              "      <td>0.111056</td>\n",
              "      <td>2.554632</td>\n",
              "      <td>2.706808</td>\n",
              "      <td>0.109775</td>\n",
              "      <td>-0.885929</td>\n",
              "      <td>-0.412886</td>\n",
              "      <td>-0.095595</td>\n",
              "      <td>0.308584</td>\n",
              "      <td>-0.625456</td>\n",
              "      <td>2.973948</td>\n",
              "      <td>-0.837415</td>\n",
              "      <td>-0.866361</td>\n",
              "      <td>3.761956</td>\n",
              "      <td>230000</td>\n",
              "      <td>5.329881</td>\n",
              "    </tr>\n",
              "    <tr>\n",
              "      <th>3</th>\n",
              "      <td>차우찬</td>\n",
              "      <td>LG</td>\n",
              "      <td>1.760682</td>\n",
              "      <td>1.227145</td>\n",
              "      <td>-0.306452</td>\n",
              "      <td>-0.585705</td>\n",
              "      <td>-0.543592</td>\n",
              "      <td>-0.043811</td>\n",
              "      <td>2.246942</td>\n",
              "      <td>2.350927</td>\n",
              "      <td>0.350266</td>\n",
              "      <td>-0.945180</td>\n",
              "      <td>-0.186746</td>\n",
              "      <td>-0.477680</td>\n",
              "      <td>0.558765</td>\n",
              "      <td>-0.627856</td>\n",
              "      <td>2.740722</td>\n",
              "      <td>-0.698455</td>\n",
              "      <td>-0.760385</td>\n",
              "      <td>2.998081</td>\n",
              "      <td>100000</td>\n",
              "      <td>3.333592</td>\n",
              "    </tr>\n",
              "    <tr>\n",
              "      <th>4</th>\n",
              "      <td>레일리</td>\n",
              "      <td>롯데</td>\n",
              "      <td>2.537153</td>\n",
              "      <td>1.227145</td>\n",
              "      <td>-0.306452</td>\n",
              "      <td>-0.585705</td>\n",
              "      <td>-0.543592</td>\n",
              "      <td>0.059433</td>\n",
              "      <td>2.452068</td>\n",
              "      <td>2.587518</td>\n",
              "      <td>0.155751</td>\n",
              "      <td>-0.877464</td>\n",
              "      <td>-0.294900</td>\n",
              "      <td>-0.196735</td>\n",
              "      <td>0.481122</td>\n",
              "      <td>-0.539055</td>\n",
              "      <td>2.751570</td>\n",
              "      <td>-0.612941</td>\n",
              "      <td>-0.619085</td>\n",
              "      <td>2.809003</td>\n",
              "      <td>111000</td>\n",
              "      <td>2.734705</td>\n",
              "    </tr>\n",
              "  </tbody>\n",
              "</table>\n",
              "</div>"
            ],
            "text/plain": [
              "   선수명   팀명         승         패  ...      kFIP       WAR       y  연봉(2017)\n",
              "0   켈리   SK  3.313623  1.227145  ... -1.058125  4.503142  140000  2.734705\n",
              "1   소사   LG  2.019505  2.504721  ... -1.073265  4.094734  120000  1.337303\n",
              "2  양현종  KIA  4.348918  0.907751  ... -0.866361  3.761956  230000  5.329881\n",
              "3  차우찬   LG  1.760682  1.227145  ... -0.760385  2.998081  100000  3.333592\n",
              "4  레일리   롯데  2.537153  1.227145  ... -0.619085  2.809003  111000  2.734705\n",
              "\n",
              "[5 rows x 22 columns]"
            ]
          },
          "metadata": {},
          "execution_count": 29
        }
      ]
    },
    {
      "cell_type": "code",
      "metadata": {
        "colab": {
          "base_uri": "https://localhost:8080/",
          "height": 391
        },
        "id": "63RRPdxEnYNc",
        "outputId": "06130cd1-ab0e-4795-8b73-479efcc3885c"
      },
      "source": [
        "#’팀명’ 항목을 one-hot encoding으로 변환\n",
        "#테이블에 있는 ‘팀명’ 순서대로 '1' 할당\n",
        "team_encoding = pd.get_dummies(pitcher_df['팀명'])\n",
        "\n",
        "#원래 Dataframe에서 '팀명' 열 삭제\n",
        "#drop(variables, axis=value)\n",
        "pitcher_df = pitcher_df.drop('팀명', axis=1)\n",
        "\n",
        "# '팀명' 열을 삭제한 Dataframe에 one-hot 추가\n",
        "pitcher_df = pitcher_df.join(team_encoding)\n",
        "\n",
        "#새로 생성된 Dataframe 샘플 출력\n",
        "pitcher_df.head()"
      ],
      "execution_count": null,
      "outputs": [
        {
          "output_type": "execute_result",
          "data": {
            "text/html": [
              "<div>\n",
              "<style scoped>\n",
              "    .dataframe tbody tr th:only-of-type {\n",
              "        vertical-align: middle;\n",
              "    }\n",
              "\n",
              "    .dataframe tbody tr th {\n",
              "        vertical-align: top;\n",
              "    }\n",
              "\n",
              "    .dataframe thead th {\n",
              "        text-align: right;\n",
              "    }\n",
              "</style>\n",
              "<table border=\"1\" class=\"dataframe\">\n",
              "  <thead>\n",
              "    <tr style=\"text-align: right;\">\n",
              "      <th></th>\n",
              "      <th>선수명</th>\n",
              "      <th>승</th>\n",
              "      <th>패</th>\n",
              "      <th>세</th>\n",
              "      <th>홀드</th>\n",
              "      <th>블론</th>\n",
              "      <th>경기</th>\n",
              "      <th>선발</th>\n",
              "      <th>이닝</th>\n",
              "      <th>삼진/9</th>\n",
              "      <th>볼넷/9</th>\n",
              "      <th>홈런/9</th>\n",
              "      <th>BABIP</th>\n",
              "      <th>LOB%</th>\n",
              "      <th>ERA</th>\n",
              "      <th>RA9-WAR</th>\n",
              "      <th>FIP</th>\n",
              "      <th>kFIP</th>\n",
              "      <th>WAR</th>\n",
              "      <th>y</th>\n",
              "      <th>연봉(2017)</th>\n",
              "      <th>KIA</th>\n",
              "      <th>KT</th>\n",
              "      <th>LG</th>\n",
              "      <th>NC</th>\n",
              "      <th>SK</th>\n",
              "      <th>두산</th>\n",
              "      <th>롯데</th>\n",
              "      <th>삼성</th>\n",
              "      <th>한화</th>\n",
              "    </tr>\n",
              "  </thead>\n",
              "  <tbody>\n",
              "    <tr>\n",
              "      <th>0</th>\n",
              "      <td>켈리</td>\n",
              "      <td>3.313623</td>\n",
              "      <td>1.227145</td>\n",
              "      <td>-0.306452</td>\n",
              "      <td>-0.585705</td>\n",
              "      <td>-0.543592</td>\n",
              "      <td>0.059433</td>\n",
              "      <td>2.452068</td>\n",
              "      <td>2.645175</td>\n",
              "      <td>0.672099</td>\n",
              "      <td>-0.869000</td>\n",
              "      <td>-0.442382</td>\n",
              "      <td>0.016783</td>\n",
              "      <td>0.446615</td>\n",
              "      <td>-0.587056</td>\n",
              "      <td>3.174630</td>\n",
              "      <td>-0.971030</td>\n",
              "      <td>-1.058125</td>\n",
              "      <td>4.503142</td>\n",
              "      <td>140000</td>\n",
              "      <td>2.734705</td>\n",
              "      <td>0</td>\n",
              "      <td>0</td>\n",
              "      <td>0</td>\n",
              "      <td>0</td>\n",
              "      <td>1</td>\n",
              "      <td>0</td>\n",
              "      <td>0</td>\n",
              "      <td>0</td>\n",
              "      <td>0</td>\n",
              "    </tr>\n",
              "    <tr>\n",
              "      <th>1</th>\n",
              "      <td>소사</td>\n",
              "      <td>2.019505</td>\n",
              "      <td>2.504721</td>\n",
              "      <td>-0.098502</td>\n",
              "      <td>-0.585705</td>\n",
              "      <td>-0.543592</td>\n",
              "      <td>0.059433</td>\n",
              "      <td>2.349505</td>\n",
              "      <td>2.547755</td>\n",
              "      <td>0.134531</td>\n",
              "      <td>-0.987502</td>\n",
              "      <td>-0.668521</td>\n",
              "      <td>-0.241686</td>\n",
              "      <td>-0.122764</td>\n",
              "      <td>-0.519855</td>\n",
              "      <td>3.114968</td>\n",
              "      <td>-1.061888</td>\n",
              "      <td>-1.073265</td>\n",
              "      <td>4.094734</td>\n",
              "      <td>120000</td>\n",
              "      <td>1.337303</td>\n",
              "      <td>0</td>\n",
              "      <td>0</td>\n",
              "      <td>1</td>\n",
              "      <td>0</td>\n",
              "      <td>0</td>\n",
              "      <td>0</td>\n",
              "      <td>0</td>\n",
              "      <td>0</td>\n",
              "      <td>0</td>\n",
              "    </tr>\n",
              "    <tr>\n",
              "      <th>2</th>\n",
              "      <td>양현종</td>\n",
              "      <td>4.348918</td>\n",
              "      <td>0.907751</td>\n",
              "      <td>-0.306452</td>\n",
              "      <td>-0.585705</td>\n",
              "      <td>-0.543592</td>\n",
              "      <td>0.111056</td>\n",
              "      <td>2.554632</td>\n",
              "      <td>2.706808</td>\n",
              "      <td>0.109775</td>\n",
              "      <td>-0.885929</td>\n",
              "      <td>-0.412886</td>\n",
              "      <td>-0.095595</td>\n",
              "      <td>0.308584</td>\n",
              "      <td>-0.625456</td>\n",
              "      <td>2.973948</td>\n",
              "      <td>-0.837415</td>\n",
              "      <td>-0.866361</td>\n",
              "      <td>3.761956</td>\n",
              "      <td>230000</td>\n",
              "      <td>5.329881</td>\n",
              "      <td>1</td>\n",
              "      <td>0</td>\n",
              "      <td>0</td>\n",
              "      <td>0</td>\n",
              "      <td>0</td>\n",
              "      <td>0</td>\n",
              "      <td>0</td>\n",
              "      <td>0</td>\n",
              "      <td>0</td>\n",
              "    </tr>\n",
              "    <tr>\n",
              "      <th>3</th>\n",
              "      <td>차우찬</td>\n",
              "      <td>1.760682</td>\n",
              "      <td>1.227145</td>\n",
              "      <td>-0.306452</td>\n",
              "      <td>-0.585705</td>\n",
              "      <td>-0.543592</td>\n",
              "      <td>-0.043811</td>\n",
              "      <td>2.246942</td>\n",
              "      <td>2.350927</td>\n",
              "      <td>0.350266</td>\n",
              "      <td>-0.945180</td>\n",
              "      <td>-0.186746</td>\n",
              "      <td>-0.477680</td>\n",
              "      <td>0.558765</td>\n",
              "      <td>-0.627856</td>\n",
              "      <td>2.740722</td>\n",
              "      <td>-0.698455</td>\n",
              "      <td>-0.760385</td>\n",
              "      <td>2.998081</td>\n",
              "      <td>100000</td>\n",
              "      <td>3.333592</td>\n",
              "      <td>0</td>\n",
              "      <td>0</td>\n",
              "      <td>1</td>\n",
              "      <td>0</td>\n",
              "      <td>0</td>\n",
              "      <td>0</td>\n",
              "      <td>0</td>\n",
              "      <td>0</td>\n",
              "      <td>0</td>\n",
              "    </tr>\n",
              "    <tr>\n",
              "      <th>4</th>\n",
              "      <td>레일리</td>\n",
              "      <td>2.537153</td>\n",
              "      <td>1.227145</td>\n",
              "      <td>-0.306452</td>\n",
              "      <td>-0.585705</td>\n",
              "      <td>-0.543592</td>\n",
              "      <td>0.059433</td>\n",
              "      <td>2.452068</td>\n",
              "      <td>2.587518</td>\n",
              "      <td>0.155751</td>\n",
              "      <td>-0.877464</td>\n",
              "      <td>-0.294900</td>\n",
              "      <td>-0.196735</td>\n",
              "      <td>0.481122</td>\n",
              "      <td>-0.539055</td>\n",
              "      <td>2.751570</td>\n",
              "      <td>-0.612941</td>\n",
              "      <td>-0.619085</td>\n",
              "      <td>2.809003</td>\n",
              "      <td>111000</td>\n",
              "      <td>2.734705</td>\n",
              "      <td>0</td>\n",
              "      <td>0</td>\n",
              "      <td>0</td>\n",
              "      <td>0</td>\n",
              "      <td>0</td>\n",
              "      <td>0</td>\n",
              "      <td>1</td>\n",
              "      <td>0</td>\n",
              "      <td>0</td>\n",
              "    </tr>\n",
              "  </tbody>\n",
              "</table>\n",
              "</div>"
            ],
            "text/plain": [
              "   선수명         승         패         세        홀드  ...  SK  두산  롯데  삼성  한화\n",
              "0   켈리  3.313623  1.227145 -0.306452 -0.585705  ...   1   0   0   0   0\n",
              "1   소사  2.019505  2.504721 -0.098502 -0.585705  ...   0   0   0   0   0\n",
              "2  양현종  4.348918  0.907751 -0.306452 -0.585705  ...   0   0   0   0   0\n",
              "3  차우찬  1.760682  1.227145 -0.306452 -0.585705  ...   0   0   0   0   0\n",
              "4  레일리  2.537153  1.227145 -0.306452 -0.585705  ...   0   0   1   0   0\n",
              "\n",
              "[5 rows x 30 columns]"
            ]
          },
          "metadata": {},
          "execution_count": 30
        }
      ]
    }
  ]
}